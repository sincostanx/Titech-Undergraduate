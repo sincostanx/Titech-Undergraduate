{
  "nbformat": 4,
  "nbformat_minor": 0,
  "metadata": {
    "kernelspec": {
      "display_name": "Python 3",
      "language": "python",
      "name": "python3"
    },
    "language_info": {
      "codemirror_mode": {
        "name": "ipython",
        "version": 3
      },
      "file_extension": ".py",
      "mimetype": "text/x-python",
      "name": "python",
      "nbconvert_exporter": "python",
      "pygments_lexer": "ipython3",
      "version": "3.6.4"
    },
    "colab": {
      "name": "18B00033Lec3.ipynb",
      "provenance": [],
      "collapsed_sections": [
        "Atwth9_Au1tK"
      ]
    }
  },
  "cells": [
    {
      "cell_type": "markdown",
      "metadata": {
        "id": "HJIL_suvu1s7"
      },
      "source": [
        "# Day 3 (Vector and matrix operation, and statistical processing)\n",
        "\n",
        "## Content \n",
        "\n",
        "* mathematical module\n",
        "* numpy module\n",
        "* Vector and matrix operation\n",
        "* Statistical processing\n",
        "\n",
        "## Library `math`\n",
        "- It has the fixed value $\\pi$ and functions `sin`, `cos`, `tan`, `exp`, `log` etc.\n",
        "- Please see the following example."
      ]
    },
    {
      "cell_type": "code",
      "metadata": {
        "id": "MgNtCYZDu1s7"
      },
      "source": [
        "import math\n",
        "\n",
        "print(math.pi)\n",
        "print(math.sin(math.pi * 0.5))\n",
        "et = math.exp(2.0)\n",
        "print(et)\n",
        "print(math.log(et))\n"
      ],
      "execution_count": null,
      "outputs": []
    },
    {
      "cell_type": "markdown",
      "metadata": {
        "id": "OXEjiBqru1tH"
      },
      "source": [
        "### Practice\n",
        "- Try to use such functions."
      ]
    },
    {
      "cell_type": "markdown",
      "metadata": {
        "id": "GMSlPSoyG1zH"
      },
      "source": [
        "## Explanation: Mathematical functions\n",
        "*  `math.pi` returns the value of $\\pi$\n",
        "*  `math.e` returns the value of $e$\n",
        "*  `math.exp(x)` returns the value of $e^x$\n",
        "*  `math.log(x)` returns the value of $\\ln(x)$; however, if the base is specified, e.g. `math.log(et,math.e**2)`, it returns the logarithm of $x$ with respect to the base specified. In the example, it is $\\log_{e^2}(et)$"
      ]
    },
    {
      "cell_type": "code",
      "metadata": {
        "id": "o6i0gjkXu1tI",
        "colab": {
          "base_uri": "https://localhost:8080/"
        },
        "outputId": "bab44c00-244a-4bb6-cd0b-b5cfe6c7ae85"
      },
      "source": [
        "# Make a program: Use math library\n",
        "import math\n",
        "\n",
        "print(math.pi)\n",
        "print(math.sin(math.pi * 0.5))\n",
        "et = math.exp(2.0)\n",
        "print(et)\n",
        "print(math.log(et))\n",
        "print(math.log(et,math.e**2))"
      ],
      "execution_count": null,
      "outputs": [
        {
          "output_type": "stream",
          "text": [
            "3.141592653589793\n",
            "1.0\n",
            "7.38905609893065\n",
            "2.0\n",
            "1.0\n"
          ],
          "name": "stdout"
        }
      ]
    },
    {
      "cell_type": "markdown",
      "metadata": {
        "id": "Atwth9_Au1tK"
      },
      "source": [
        "## Bisection method\n",
        "\n",
        "### Assumption\n",
        "- Assume that $f(x)$ is monotone increasing function.\n",
        "- We solve $f(x) = 0$.\n",
        "- For initial values $a$ and $b$, we have $f(a) < 0$ and $f(b) > 0$.\n",
        "- The precision of answer is $\\varepsilon$.\n",
        "### Algorithm\n",
        "0. $x = (a + b) / 2$\n",
        "0. If $b - a < \\varepsilon$, stop the algorithrm and $x$ is answer.\n",
        "0. If $f(x) > 0$, let $b = x$.\n",
        "0. If $f(x) < 0$, let $a = x$.\n",
        "0. If $f(x) = 0$, stop the algorithrm and $x$ is answer.\n",
        "0. Go to 1. \n",
        "\n",
        "\n",
        "### Practice\n",
        "- Solve the following by bisection method.\n",
        "$$\n",
        "\\sin(x) + x - 1 = 0\n",
        "$$\n",
        "- The lower initila value is 0 and the upper initial value $\\pi / 2$.\n",
        "- $\\varepsilon = 10^{-6}$"
      ]
    },
    {
      "cell_type": "markdown",
      "metadata": {
        "id": "SnLfoUA2u1tK"
      },
      "source": [
        "## Practice of using mathematical description by Markdown\n",
        "- Functions, fraction, subscription, superscription, sum, integral, large parenthesis. \n",
        "$$f(x)=\\sum_{i=0}^{n}\\Big(\\frac{x_i}{x_{i+1}^2}\\Big)+\\int_{0}^{n}ydy$$\n",
        "- In line. $x=5$"
      ]
    },
    {
      "cell_type": "markdown",
      "metadata": {
        "id": "mArjZKBzFelt"
      },
      "source": [
        "## Explanation: Bisection method\n",
        "The bisection method aka **binary search** can be implement both iteratively and recursively. The program below provides source code for both implementations.\n",
        "\n",
        "While we can observe different results between two implementations, their implication, or rather their accuracies, are practically the same. The iterative implementation returns left or right border value depending on the last **sectioning**, while the recursive implementation always returns the left border (for simplicity).\n",
        "\n",
        "**Note:** I personally prefer to write this algorithm recursively; therefore, I include it in this report."
      ]
    },
    {
      "cell_type": "code",
      "metadata": {
        "id": "clVLmOUDu1tL",
        "colab": {
          "base_uri": "https://localhost:8080/"
        },
        "outputId": "347e22a3-acb8-4ac1-8c92-9bce3f77ec5f"
      },
      "source": [
        "# Make a program: bisection method\n",
        "import math\n",
        "def f(x):\n",
        "  return math.sin(x)+x-1.0\n",
        "\n",
        "#resursive binary search\n",
        "def bsearch(l,r,epsilon):\n",
        "  if (r-l<epsilon): return l\n",
        "  m=(l+r)/2\n",
        "  if (now>0.0): return bsearch(l,m,epsilon)\n",
        "  elif (now<0.0): return bsearch(m,r,epsilon)\n",
        "  else: return m\n",
        "\n",
        "#iterative\n",
        "a=0.0\n",
        "b=math.pi\n",
        "epsilon=1.0e-6\n",
        "x=0.0\n",
        "while (b-a>epsilon):\n",
        "  x=(a+b)/2\n",
        "  now=f(x)\n",
        "  if (now>0.0): b=x\n",
        "  elif (now<0.0): a=x\n",
        "  else: break\n",
        "print(\"ans =\", x, \"f(x) =\", f(x))\n",
        "\n",
        "#recursive\n",
        "ans=bsearch(a,b,epsilon)\n",
        "print(\"ans =\", ans, \"f(x) =\", f(ans))"
      ],
      "execution_count": null,
      "outputs": [
        {
          "output_type": "stream",
          "text": [
            "ans = 0.5109736443318578 f(x) = 4.024316206940881e-07\n",
            "ans = 0.5109728953178012 f(x) = -9.999241525893154e-07\n"
          ],
          "name": "stdout"
        }
      ]
    },
    {
      "cell_type": "markdown",
      "metadata": {
        "id": "6jiG2scYu1tT"
      },
      "source": [
        "# Vector and matrix calculation\n",
        "\n",
        "## Vector and matrix operation\n",
        "\n",
        "* <font color=\"blue\">{Major part of numerical analysis is the calculation of linear algebra.}</font>\n",
        "  * Structure analysis and Fluid analysis\n",
        "  * Electromagnetic analysis and circuit analysis\n",
        "  * Statistical processing and image processing.\n",
        "* Recent computers are designed to accelerate vector operations.\n",
        "  * Vector processor (Super computer)\n",
        "  * Operations for vector processing in CPU.   \n",
        "  SIMD: Single instruction multiple data\n",
        "     * SSE: Streaming Single instruction multiple data Extensions\n",
        "     * AVX: Advanced Vector eXtensions\n",
        "  * GPU (Graphics Processing Unit)\n",
        "* Expressions of vector and matrix in Python.\n",
        " * 1-dimensional array : vector\n",
        " * 2-dimensional array : matrix\n",
        " * $n$-dimensional array ($n \\leq 2$) : tensor\n",
        "* In order to accelerate the calculation, the amount of program for the matrix multiplication become longer and longer.   \n",
        "<font color=\"orange\">$\\Rightarrow$ Use libraries.  \n",
        " * BLAS (Basic Linear Algebra Subprograms) \n",
        " * LAPACK (Linner Algebra Package)\n",
        "\n",
        "## Library `numpy`\n",
        "- ndarray (array of numpy) is similar to list.\n",
        "- Calulation of np.array is faster than them.\n",
        "- `dtype` should be set if it is not `int`. Mix of type is not allowed."
      ]
    },
    {
      "cell_type": "markdown",
      "metadata": {
        "id": "H_a5uwEnOU0t"
      },
      "source": [
        "## Explanation: Numpy utilities\n",
        "*  `array` can be used to declare numpy array. It can be printed directly similar to ordinary python lists.\n",
        "*  `size` returns the number of elements in the vector/matrix/tensor. For example, if the dimension of a matrix is 3x5, the function returns 15.\n",
        "*  `len` returns the number of elements in the array. If the array is a matrix, the function returns the number of row instead.\n",
        "*  `shape` returns a pair containing the number of row and column of a matrix (array), respectively.\n",
        "*  To access $A_{ij}$, we can use either `A[i,j]` or `A[i][j]`. This is demonstrated in the program below.\n",
        "*  We can use index slicing as we can do with ordinary python lists. For example, we can use `A[0:2,1:3]` to extract a 2x2 sub-matrix with the specified indices.\n",
        "*  `zeros()` and `ones()` are used to generate an array with a specified shape , having elements with value of zero and one, respectively."
      ]
    },
    {
      "cell_type": "code",
      "metadata": {
        "id": "4aakd9ENu1tT",
        "colab": {
          "base_uri": "https://localhost:8080/"
        },
        "outputId": "4b4cec00-3a1a-404f-bf87-fbe7888c3cf5"
      },
      "source": [
        "import numpy as np\n",
        "\n",
        "v1 = np.array([1, 2, 3, 4, 5], dtype='float64')\n",
        "v2 = np.array([2, -1, 3, 3, -2], dtype = 'float64')\n",
        "m1 = np.array([[5, 3, -1, 4, 5],[1, 4, 5, 3, 2],[-1, 0, 5, 2, 2]], dtype='float64')\n",
        "m2 = np.array([[1, 3, -2],[1, -2, 5]], dtype='float64')\n",
        "print(v1)\n",
        "print(m1)\n",
        "\n",
        "# Size\n",
        "print(\"v1.size = {0}\".format(v1.size))\n",
        "print(\"m1.size = {0}\".format(m1.size))\n",
        "\n",
        "# Len\n",
        "print(\"len(v1) = {0}\".format(len(v1)))\n",
        "print(\"len(m1) = {0}\".format(len(m1)))\n",
        "\n",
        "# Shape\n",
        "print(\"v1.shape = {0}\".format(v1.shape))\n",
        "print(\"m1.shape = {0}\".format(m1.shape))\n",
        "\n",
        "(rowM1, colM1) = m1.shape\n",
        "\n",
        "print(\"Number of rows of m1 = {0}\".format(rowM1))\n",
        "print(\"Number of columns of m1 = {0}\".format(colM1))\n",
        "\n",
        "# An element\n",
        "print(\"v1[2] = {0}\".format(v1[2]))\n",
        "print(\"m1[1,2] = {0}\".format(m1[1,2]))\n",
        "print(\"m1[1,2] = {0}\".format(m1[1][2]))\n",
        "\n",
        "# Extract elements\n",
        "print(\"m1[0:2,1:3] = {0}\".format(m1[0:2,1:3]))\n",
        "\n",
        "# Make zero matrix\n",
        "print(\"np.zeros(2) = {0}\".format(np.zeros(2)))\n",
        "print(\"np.zeros((2, 3)) = {0}\".format(np.zeros((2, 3))))\n",
        "\n",
        "# Make a matrix with all elements 1\n",
        "print(\"np.ones(2) = {0}\".format(np.ones(2)))\n",
        "print(\"np.ones((2, 3)) = {0}\".format(np.ones((2, 3))))\n"
      ],
      "execution_count": null,
      "outputs": [
        {
          "output_type": "stream",
          "text": [
            "[1. 2. 3. 4. 5.]\n",
            "[[ 5.  3. -1.  4.  5.]\n",
            " [ 1.  4.  5.  3.  2.]\n",
            " [-1.  0.  5.  2.  2.]]\n",
            "v1.size = 5\n",
            "m1.size = 15\n",
            "len(v1) = 5\n",
            "len(m1) = 3\n",
            "v1.shape = (5,)\n",
            "m1.shape = (3, 5)\n",
            "Number of rows of m1 = 3\n",
            "Number of columns of m1 = 5\n",
            "v1[2] = 3.0\n",
            "m1[1,2] = 5.0\n",
            "m1[1,2] = 5.0\n",
            "m1[0:2,1:3] = [[ 3. -1.]\n",
            " [ 4.  5.]]\n",
            "np.zeros(2) = [0. 0.]\n",
            "np.zeros((2, 3)) = [[0. 0. 0.]\n",
            " [0. 0. 0.]]\n",
            "np.ones(2) = [1. 1.]\n",
            "np.ones((2, 3)) = [[1. 1. 1.]\n",
            " [1. 1. 1.]]\n"
          ],
          "name": "stdout"
        }
      ]
    },
    {
      "cell_type": "markdown",
      "metadata": {
        "id": "zbKxQGA-u1tW"
      },
      "source": [
        "### Practice\n",
        "- Calculate the innerproduct of `v1` and `v2` by using `for` sentence.\n",
        "- Calculate the product of `m1` and `v1` by using `for` sentence.\n",
        "- Calculate the product of `m2` and `m1` by using `for` sentence."
      ]
    },
    {
      "cell_type": "markdown",
      "metadata": {
        "id": "coUuBThQR6V9"
      },
      "source": [
        "## Explanation: matrix multuplication\n",
        "\n",
        "There is nothing required detailed explanation. Every operations is performed in accordance with its respective mathematical formula. Note that the indices $i$ and $j$ refer to row and column of elements in a vector/matrix, respectively..\n",
        "*  **Inner product**\n",
        "$$[u_i]_n\\cdot[v_j]_n=\\sum_{i=0}^{n}u_iv_i$$\n",
        "*  **Matrix and vector**\n",
        "$$[A_{ij}]_{m\\times n} [u_i]_n= [A_{ij}u_j]_{m\\times n}$$\n",
        "*  **Matrix multiplication**\n",
        "$$[A_{ij}]_{m\\times n} [B_{ij}]_{n\\times o}=[\\sum_{k=0}^{n}A_{ik}B_{kj}]_{m\\times o}$$"
      ]
    },
    {
      "cell_type": "code",
      "metadata": {
        "id": "qaT2Ho2Fu1tW",
        "colab": {
          "base_uri": "https://localhost:8080/"
        },
        "outputId": "17095a06-9249-49f7-ae1a-b6009629d5cb"
      },
      "source": [
        "# Make a program\n",
        "\n",
        "# Inner product\n",
        "n=len(v1)\n",
        "ans1=0\n",
        "for i in range(0,n):\n",
        "  ans1+=v1[i]*v2[i]\n",
        "print(ans1)\n",
        "\n",
        "# Multiplicastion of a matrix and a vector\n",
        "(m,n)=m1.shape\n",
        "ans2=np.zeros(m)\n",
        "for i in range(0,m):\n",
        "  for j in range(0,n):\n",
        "    ans2[i]+=m1[i,j]*v1[j]\n",
        "print(ans2)\n",
        "\n",
        "# Multiplicastion of a matrix and a matrix\n",
        "(m,n)=m2.shape\n",
        "(n,o)=m1.shape\n",
        "ans3=np.zeros((m,o))\n",
        "for i in range(0,m):\n",
        "  for j in range(0,o):\n",
        "    for k in range(0,n):\n",
        "      ans3[i,j]+=m2[i,k]*m1[k,j]\n",
        "print(ans3)\n"
      ],
      "execution_count": null,
      "outputs": [
        {
          "output_type": "stream",
          "text": [
            "11.0\n",
            "[49. 46. 32.]\n",
            "[[10. 15.  4.  9.  7.]\n",
            " [-2. -5. 14.  8. 11.]]\n"
          ],
          "name": "stdout"
        }
      ]
    },
    {
      "cell_type": "markdown",
      "metadata": {
        "id": "EJzJ6AdFu1tb"
      },
      "source": [
        "### dot product\n",
        "- Inner product and matrix multiplication can be done easily."
      ]
    },
    {
      "cell_type": "code",
      "metadata": {
        "id": "5wO2jWvcu1tc",
        "colab": {
          "base_uri": "https://localhost:8080/"
        },
        "outputId": "0e615517-0502-490c-f074-751209f8b1cf"
      },
      "source": [
        "print(np.dot(v1, v2))\n",
        "print(v1.dot(v2))\n",
        "print(v1)"
      ],
      "execution_count": null,
      "outputs": [
        {
          "output_type": "stream",
          "text": [
            "11.0\n",
            "11.0\n",
            "[1. 2. 3. 4. 5.]\n"
          ],
          "name": "stdout"
        }
      ]
    },
    {
      "cell_type": "markdown",
      "metadata": {
        "id": "v8XAc8Ywu1th"
      },
      "source": [
        "### Practice\n",
        "- Try dot product for matrix and vector multiplication.\n",
        "- Try dot product for matrix and matrix multiplication."
      ]
    },
    {
      "cell_type": "markdown",
      "metadata": {
        "id": "k4JWMf-nUs86"
      },
      "source": [
        "## Explanation: np.dot\n",
        "There is explanation required, only simple application"
      ]
    },
    {
      "cell_type": "code",
      "metadata": {
        "id": "J889RRV7u1ti",
        "colab": {
          "base_uri": "https://localhost:8080/"
        },
        "outputId": "e1a30d12-e717-48f7-bedd-e28398fc8956"
      },
      "source": [
        "# Make a program: Use dot product\n",
        "print(np.dot(m1,v1))\n",
        "print(np.dot(m2,m1))"
      ],
      "execution_count": null,
      "outputs": [
        {
          "output_type": "stream",
          "text": [
            "[49. 46. 32.]\n",
            "[[10. 15.  4.  9.  7.]\n",
            " [-2. -5. 14.  8. 11.]]\n"
          ],
          "name": "stdout"
        }
      ]
    },
    {
      "cell_type": "markdown",
      "metadata": {
        "id": "QFbBUO25u1tk"
      },
      "source": [
        "### Practice\n",
        "- Make functions to do selection sort in both ascending and descending orders for given data in ndarray."
      ]
    },
    {
      "cell_type": "markdown",
      "metadata": {
        "id": "1KmfqRe4VfDK"
      },
      "source": [
        "## Explanation: Selection sort\n",
        "This is the duplication of the task last week; therefore, it is not necessary to provide any explanation in this report. (Can refer to last week report)"
      ]
    },
    {
      "cell_type": "code",
      "metadata": {
        "id": "W1pXHbocu1tl",
        "colab": {
          "base_uri": "https://localhost:8080/"
        },
        "outputId": "3b84867e-c996-4a0f-8780-8fedefa7a542"
      },
      "source": [
        "# Make a program sort ascending/descending orders\n",
        "import numpy as np\n",
        "\n",
        "def sortSelectAscend(ar):\n",
        "    N = len(ar)\n",
        "    for l in range(0, N-1):\n",
        "        lMin = l\n",
        "        for k in range(l+1, N):\n",
        "            if (ar[lMin] > ar[k]):\n",
        "                lMin = k\n",
        "        ar[l], ar[lMin] = ar[lMin], ar[l]\n",
        "\n",
        "def sortSelectDescend(ar):\n",
        "    N = len(ar)\n",
        "    for l in range(0, N-1):\n",
        "        lMax = l\n",
        "        for k in range(l+1, N):\n",
        "            if (ar[lMax] < ar[k]):\n",
        "                lMax = k\n",
        "        ar[l], ar[lMax] = ar[lMax], ar[l]\n",
        "                \n",
        "ar1 = np.array([10, -2, 13, 42, 35, 23, -23, 12, 12])\n",
        "print(ar1)\n",
        "sortSelectAscend(ar1)\n",
        "print(ar1)\n",
        "sortSelectDescend(ar1)\n",
        "print(ar1)"
      ],
      "execution_count": null,
      "outputs": [
        {
          "output_type": "stream",
          "text": [
            "[ 10  -2  13  42  35  23 -23  12  12]\n",
            "[-23  -2  10  12  12  13  23  35  42]\n",
            "[ 42  35  23  13  12  12  10  -2 -23]\n"
          ],
          "name": "stdout"
        }
      ]
    },
    {
      "cell_type": "markdown",
      "metadata": {
        "id": "CxvMZL1Tu1tn"
      },
      "source": [
        "## Statistics\n",
        "### Practice\n",
        "- Calulate mean, variance, standard deviation, and median for given data in `ndarray` by using `for` sentence.\n",
        "- Median : If the number of data $N$ is odd, the $(N+1)/2$-th largest data. If it is even, the average of $N$-th and $(N+1)$-th largest data."
      ]
    },
    {
      "cell_type": "markdown",
      "metadata": {
        "id": "3EW_ibQtWDux"
      },
      "source": [
        "## Explanation: Statistics calculation\n",
        "The program calculates mean, median, variance, and standard deviation for a set of data, following the mathematical expressions below.\n",
        "*  **Mean**\n",
        "$$\\bar{X}=\\frac{\\sum_{i=1}^{n}X_i}{n}$$\n",
        "*  **Variance and standard deviation**\n",
        "$$V=\\frac{1}{n-1}\\sum_{i=1}^{n}(X_i-\\bar{X})^2$$\n",
        "Here, the fraction is $n-1$ instead of $n$ because the data is considered as a sample, not population. Note that the standard deviation is $\\sqrt{V}$.\n",
        "* **Median**\n",
        "To find median according to the definition provided above, the selection sort is applied. Then, for simplicity, the median of list $A$ is calculated by\n",
        "\n",
        "$$\\text{Median}=\\frac{1}{2}\\Big(A_{\\text{floor}(\\frac{n+1}{2})}+A_{\\text{ceil}(\\frac{n+1}{2})}\\Big)$$\n",
        "\n",
        "In this manner, if $n$ is odd, the index of both terms become the same, resulting in the middle value. However, if $n$ is even, the index is different; therefore, the average of two elements closest to the middle is regarded as the median. Note that the formula is slightly modified by adding $-1$ to indices of both terms since the array starts at zero."
      ]
    },
    {
      "cell_type": "code",
      "metadata": {
        "id": "p_pWd4Tnu1to",
        "colab": {
          "base_uri": "https://localhost:8080/"
        },
        "outputId": "a74d1f65-be3e-4dd0-d426-075df4ca169f"
      },
      "source": [
        "# Make a program\n",
        "import math\n",
        "import numpy as np\n",
        "data = np.array([10, 21, 34, 4, 15, 16, 7], dtype='float64') # The given data\n",
        "N = len(data)\n",
        "\n",
        "# Mean\n",
        "mean=0\n",
        "for i in range(0,N):\n",
        "  mean+=data[i]\n",
        "mean/=N\n",
        "print(\"Mean: {0:.2f}\".format(mean))\n",
        "\n",
        "# Variace\n",
        "variance=0\n",
        "for i in range(0,N):\n",
        "  variance+=(data[i]-mean)**2\n",
        "variance/=(N-1)\n",
        "stdev=math.sqrt(variance)\n",
        "print(\"Mean: Variance: {0:.2f}, Standard deviation: {1:.2f}\".format(variance, stdev))\n",
        "\n",
        "# Median\n",
        "# Selection sort\n",
        "sortSelectAscend(data)\n",
        "median=(data[math.floor((N+1)/2)-1]+data[math.ceil((N+1)/2)-1])/2\n",
        "print('Median: {0:.2f}'.format(median))"
      ],
      "execution_count": null,
      "outputs": [
        {
          "output_type": "stream",
          "text": [
            "Mean: 15.29\n",
            "Mean: Variance: 101.24, Standard deviation: 10.06\n",
            "Median: 15.00\n"
          ],
          "name": "stdout"
        }
      ]
    },
    {
      "cell_type": "markdown",
      "metadata": {
        "id": "8wOolEx8u1tq"
      },
      "source": [
        "- They can be calculated by using library of `statistics`"
      ]
    },
    {
      "cell_type": "code",
      "metadata": {
        "id": "SiSPR0jNu1tq",
        "colab": {
          "base_uri": "https://localhost:8080/"
        },
        "outputId": "ae9a0e9a-47ba-47bc-9752-cbdc1ee6d3d6"
      },
      "source": [
        "import statistics as st\n",
        "import numpy as np\n",
        "\n",
        "data     = np.array([10, 21, 34, 4, 15, 16, 7], dtype='float64')\n",
        "mean     = st.mean(data)\n",
        "print(\"Mean: {0:.2f}\".format(mean))\n",
        "\n",
        "variance = st.variance(data)\n",
        "stdev    = st.stdev(data)\n",
        "print(\"Mean: Variance: {0:.2f}, Standard deviation: {1:.2f}\".format(variance, stdev))\n",
        "\n",
        "median   = st.median(data)\n",
        "print('Median: {0:.2f}'.format(median))\n"
      ],
      "execution_count": null,
      "outputs": [
        {
          "output_type": "stream",
          "text": [
            "Mean: 15.29\n",
            "Mean: Variance: 101.24, Standard deviation: 10.06\n",
            "Median: 15.00\n"
          ],
          "name": "stdout"
        }
      ]
    },
    {
      "cell_type": "markdown",
      "metadata": {
        "id": "Vz6517Ygu1tv"
      },
      "source": [
        "- Program to describe a histgram of random values of a uniform distribution and print mean and standard deviation\n",
        "- Its true values are 0.5 and $1 / \\sqrt{12}$, respectively."
      ]
    },
    {
      "cell_type": "code",
      "metadata": {
        "id": "Uk44K8fWu1tw",
        "colab": {
          "base_uri": "https://localhost:8080/",
          "height": 282
        },
        "outputId": "57af0c66-017e-4e03-f51a-0c0761b4b726"
      },
      "source": [
        "import numpy as np\n",
        "import statistics as st\n",
        "import matplotlib.pyplot as plt\n",
        " \n",
        "N = 10000\n",
        "# Generate N random values of unifrom distibution between 0 and 1\n",
        "data = np.random.rand(N)\n",
        " \n",
        "# Output graph\n",
        "plt.hist(data)\n",
        "\n",
        "mean     = st.mean(data)\n",
        "stdev    = st.stdev(data)\n",
        "print(\"Mean: {0:.2f}, Standard deviation: {1:.2f},  1 / sqrt(12) = {2}\".format(mean, stdev, 1.0 / np.sqrt(12.0)))"
      ],
      "execution_count": null,
      "outputs": [
        {
          "output_type": "stream",
          "text": [
            "Mean: 0.50, Standard deviation: 0.29,  1 / sqrt(12) = 0.2886751345948129\n"
          ],
          "name": "stdout"
        },
        {
          "output_type": "display_data",
          "data": {
            "image/png": "[encoded data removed]",
            "text/plain": [
              "<Figure size 432x288 with 1 Axes>"
            ]
          },
          "metadata": {
            "tags": [],
            "needs_background": "light"
          }
        }
      ]
    },
    {
      "cell_type": "markdown",
      "metadata": {
        "id": "n68Qpf-5u1ty"
      },
      "source": [
        "### Practice\n",
        "- Make random values of a uniform distribution of which mean is 0 and standard deviation is 1."
      ]
    },
    {
      "cell_type": "markdown",
      "metadata": {
        "id": "CnPsal8jfO_a"
      },
      "source": [
        "## Explanation: Uniform distribution with $\\mu=0$ and $\\sigma=1$\n",
        "\n",
        "Let $X$ and $Y$ be random variables such that $Y=ax+b$ where $a,b\\in \\mathbb{R}$. The followings hold:\n",
        "*  $E[Y]=aE[X]+b$\n",
        "*  $V[Y]=b^2V[X]$\n",
        "\n",
        "Since `np.random.rand()` has $\\mu=0.5$ and $\\sigma=\\frac{1}{\\sqrt{12}}$, by using $a=\\sqrt{12}$ and $b=-0.5\\times \\sqrt{12}$, we can construct a uniform distribution, having $\\mu=0$ and $\\sigma=1$."
      ]
    },
    {
      "cell_type": "code",
      "metadata": {
        "id": "UNrMXbVPu1ty",
        "colab": {
          "base_uri": "https://localhost:8080/",
          "height": 282
        },
        "outputId": "a36964cd-add9-40eb-fc16-e7a1b475b078"
      },
      "source": [
        "# Fill after 'data = '\n",
        "import numpy as np\n",
        "import statistics as st\n",
        "import matplotlib.pyplot as plt\n",
        " \n",
        "N = 10000\n",
        "# Generate N random values of unifrom distibution of which mean is 0 and standard deviation is 1.\n",
        "data = (np.random.rand(N)-0.5)*math.sqrt(12)\n",
        " \n",
        "# Output graph\n",
        "plt.hist(data)\n",
        "\n",
        "mean     = st.mean(data)\n",
        "stdev    = st.stdev(data)\n",
        "print(\"Mean: {0:.2f}, Standard deviation: {1:.2f}\".format(mean, stdev))\n"
      ],
      "execution_count": null,
      "outputs": [
        {
          "output_type": "stream",
          "text": [
            "Mean: 0.01, Standard deviation: 1.00\n"
          ],
          "name": "stdout"
        },
        {
          "output_type": "display_data",
          "data": {
            "image/png": "[encoded data removed]",
            "text/plain": [
              "<Figure size 432x288 with 1 Axes>"
            ]
          },
          "metadata": {
            "tags": [],
            "needs_background": "light"
          }
        }
      ]
    },
    {
      "cell_type": "markdown",
      "metadata": {
        "id": "CuNniUh5u1t2"
      },
      "source": [
        "- Draw graph of a normal distribution."
      ]
    },
    {
      "cell_type": "markdown",
      "metadata": {
        "id": "quQ8hA0JjD2f"
      },
      "source": [
        "## Explanation: Normal distribution curve\n",
        "\n",
        "From the normal distribution formula\n",
        "$$p(x)=\\frac{1}{\\sqrt{2\\pi}\\sigma}e^{\\frac{(x-\\mu)^2}{2 \\sigma^2}}$$\n",
        "by calculating its value at various $x$, we can plot the function as shown in the program below. Note that `np.arange(a,b,x)` create an array of $a, a+x, a+2x, ..., a+kx$ where $k$ is the maximum integer such that $a+kx<b$."
      ]
    },
    {
      "cell_type": "code",
      "metadata": {
        "id": "Cj0qchCfu1t2",
        "colab": {
          "base_uri": "https://localhost:8080/",
          "height": 299
        },
        "outputId": "0dabcc9f-8aab-4c7e-d775-8391950bff2e"
      },
      "source": [
        "# Fill after 'pdfn = '\n",
        "import numpy as np\n",
        "import matplotlib.pyplot as plt\n",
        "\n",
        "mean = 50.0\n",
        "stdv = 10.0\n",
        "x    = np.arange(0, 100, 0.1)\n",
        "L=len(x)\n",
        "pdfn=np.zeros(L)\n",
        "for k in range(0,L):\n",
        "  pdfn[k]=np.exp(-((x[k]-mean)**2.)/(2.*(stdv**2.)))/(np.sqrt(2.*np.pi)*stdv) \n",
        "plt.plot(x, pdfn)"
      ],
      "execution_count": null,
      "outputs": [
        {
          "output_type": "stream",
          "text": [
            "99.9\n"
          ],
          "name": "stdout"
        },
        {
          "output_type": "execute_result",
          "data": {
            "text/plain": [
              "[<matplotlib.lines.Line2D at 0x7f22682b5588>]"
            ]
          },
          "metadata": {
            "tags": []
          },
          "execution_count": 21
        },
        {
          "output_type": "display_data",
          "data": {
            "image/png": "[encoded data removed]",
            "text/plain": [
              "<Figure size 432x288 with 1 Axes>"
            ]
          },
          "metadata": {
            "tags": [],
            "needs_background": "light"
          }
        }
      ]
    },
    {
      "cell_type": "markdown",
      "metadata": {
        "id": "gz1fHhPyu1t5"
      },
      "source": [
        "- Draw graph of a normal distribution and a histgram of random values of normal distribution."
      ]
    },
    {
      "cell_type": "code",
      "metadata": {
        "id": "7u-8jaztu1t6",
        "colab": {
          "base_uri": "https://localhost:8080/",
          "height": 282
        },
        "outputId": "2389dd91-bc8e-4598-b98d-3b1c4ec8d294"
      },
      "source": [
        "import numpy as np\n",
        "import matplotlib.pyplot as plt\n",
        "\n",
        "mean = 50.0\n",
        "stdv = 10.0\n",
        "N    = 10000\n",
        "\n",
        "# Generate N random values of normal distibution of average mean and stardard deviation stdv\n",
        "data = np.random.normal(mean, stdv, N)\n",
        "\n",
        "# Probability density function of normal distribution\n",
        "x    = np.arange(0, 100, 0.1)\n",
        "pdfn = np.exp(-(x - mean) * (x - mean) / (2.0 * stdv * stdv)) / (np.sqrt(2.0 * np.pi) * stdv)\n",
        "\n",
        "# Output graph\n",
        "NBin = 50           # Number of bins\n",
        "RangeBin = [20, 80] # Range of bins\n",
        "plt.hist(data, NBin, RangeBin)\n",
        "plt.plot(x, N * (RangeBin[1] - RangeBin[0]) / float(NBin) * pdfn)\n"
      ],
      "execution_count": null,
      "outputs": [
        {
          "output_type": "execute_result",
          "data": {
            "text/plain": [
              "[<matplotlib.lines.Line2D at 0x7f2267e3d3c8>]"
            ]
          },
          "metadata": {
            "tags": []
          },
          "execution_count": 25
        },
        {
          "output_type": "display_data",
          "data": {
            "image/png": "[encoded data removed]",
            "text/plain": [
              "<Figure size 432x288 with 1 Axes>"
            ]
          },
          "metadata": {
            "tags": [],
            "needs_background": "light"
          }
        }
      ]
    },
    {
      "cell_type": "markdown",
      "metadata": {
        "id": "LZRDzbT2u1t8"
      },
      "source": [
        "### Central limit theorem\n",
        "- Assume that $X_1,\\,X_2,\\,\\ldots,\\, X_M$ are independent random variable of identical distribution.\n",
        "- Then, \n",
        "$$\n",
        "\\frac{X_1+ X_2 + \\cdots + X_M}{\\sqrt{M}}\n",
        "$$\n",
        "converges to a random variable of a normal distribution of which mean and standard deviation are respectively the same as those of original distribution when $M \\rightarrow \\infty$.\n",
        "\n",
        "#### Various distribution of which mean is 0 and standard deviation is 1\n",
        "- Uniform\n",
        "- $-1$ or $+1$\n",
        "- Triangle"
      ]
    },
    {
      "cell_type": "code",
      "metadata": {
        "id": "r71D2VyldzJb",
        "colab": {
          "base_uri": "https://localhost:8080/",
          "height": 469
        },
        "outputId": "1dcea221-1631-47df-bcfd-213e51f47ed6"
      },
      "source": [
        "import numpy as np\n",
        "import matplotlib.pyplot as plt\n",
        "\n",
        "# Unifrom\n",
        "# data = np.sqrt(12.0) * (np.random.rand(N) - 0.5)\n",
        "# data = np.sign(np.random.rand(N) - 0.5)\n",
        "data = np.sqrt(18.0) * (np.sqrt(np.random.rand(N)) - 2.0/3.0)\n",
        "\n",
        "# Output graph\n",
        "NBin = 50\n",
        "RangeBin = [-4, 4]\n",
        "plt.hist(data, NBin, RangeBin)"
      ],
      "execution_count": null,
      "outputs": [
        {
          "output_type": "execute_result",
          "data": {
            "text/plain": [
              "(array([  0.,   0.,   0.,   0.,   0.,   0.,   0.,   9.,  33.,  56.,  86.,\n",
              "         97., 139., 181., 221., 226., 259., 297., 331., 329., 360., 426.,\n",
              "        446., 466., 459., 511., 545., 554., 626., 657., 666., 678., 711.,\n",
              "        631.,   0.,   0.,   0.,   0.,   0.,   0.,   0.,   0.,   0.,   0.,\n",
              "          0.,   0.,   0.,   0.,   0.,   0.]),\n",
              " array([-4.  , -3.84, -3.68, -3.52, -3.36, -3.2 , -3.04, -2.88, -2.72,\n",
              "        -2.56, -2.4 , -2.24, -2.08, -1.92, -1.76, -1.6 , -1.44, -1.28,\n",
              "        -1.12, -0.96, -0.8 , -0.64, -0.48, -0.32, -0.16,  0.  ,  0.16,\n",
              "         0.32,  0.48,  0.64,  0.8 ,  0.96,  1.12,  1.28,  1.44,  1.6 ,\n",
              "         1.76,  1.92,  2.08,  2.24,  2.4 ,  2.56,  2.72,  2.88,  3.04,\n",
              "         3.2 ,  3.36,  3.52,  3.68,  3.84,  4.  ]),\n",
              " <a list of 50 Patch objects>)"
            ]
          },
          "metadata": {
            "tags": []
          },
          "execution_count": 6
        },
        {
          "output_type": "display_data",
          "data": {
            "image/png": "[encoded data removed]",
            "text/plain": [
              "<Figure size 432x288 with 1 Axes>"
            ]
          },
          "metadata": {
            "tags": [],
            "needs_background": "light"
          }
        }
      ]
    },
    {
      "cell_type": "markdown",
      "metadata": {
        "id": "NKedO1ibd0Lm"
      },
      "source": [
        "### Practice\n",
        "Draw the histgram of $N$ sum of $M$ random values of various distribution of which mean is 0 and standard deviation is 1 and the graph of probability density function of the starndard normal distribution ($M = 100$ and $N = 10000$). Align hights of the two. "
      ]
    },
    {
      "cell_type": "markdown",
      "metadata": {
        "id": "X8LBfyTRFT_P"
      },
      "source": [
        "## Explanation: Central Limit Theorem (CLT)\n",
        "\n",
        "In the program below, we create $M$ random variables, denoted by $X_1, X_2,... X_m$ following the uniform distribution with $\\mu=0$ and $\\sigma=1$. Then, we take $N$ values from the random variable\n",
        "\n",
        "$$\\bar{X}=\\frac{X_1+X_2+...+X_m}{\\sqrt{m}}$$\n",
        "\n",
        "The result is plotted in a histogram and compared with the normal distribution curve."
      ]
    },
    {
      "cell_type": "code",
      "metadata": {
        "id": "KtDvVxlru1t8",
        "colab": {
          "base_uri": "https://localhost:8080/",
          "height": 282
        },
        "outputId": "3cb4c63e-9e93-4fec-c17d-0d1d2fd3f3fb"
      },
      "source": [
        "# Make a program\n",
        "#### Central limit theorem\n",
        "\n",
        "import numpy as np\n",
        "import matplotlib.pyplot as plt\n",
        "\n",
        "mean = 0.0\n",
        "stdv = 1.0\n",
        "N    = 10000\n",
        "M    = 100\n",
        "\n",
        "data=np.zeros(N)\n",
        "for i in range(M):\n",
        "  data+=np.sqrt(12.0)*(np.random.rand(N)-0.5)\n",
        "data/=np.sqrt(M)\n",
        "x=np.arange(-5.0,5.0,0.01)\n",
        "pdfn=np.exp(-0.5*((x-mean)/stdv)**2.0)/(stdv*(np.sqrt(2.0*np.pi)))\n",
        "\n",
        "NBin = 50           \n",
        "RangeBin = [-4, 4] \n",
        "plt.hist(data, NBin, RangeBin)\n",
        "plt.plot(x, N * (RangeBin[1] - RangeBin[0]) / float(NBin) * pdfn)\n"
      ],
      "execution_count": null,
      "outputs": [
        {
          "output_type": "execute_result",
          "data": {
            "text/plain": [
              "[<matplotlib.lines.Line2D at 0x7f6cb26f5a58>]"
            ]
          },
          "metadata": {
            "tags": []
          },
          "execution_count": 18
        },
        {
          "output_type": "display_data",
          "data": {
            "image/png": "[encoded data removed]",
            "text/plain": [
              "<Figure size 432x288 with 1 Axes>"
            ]
          },
          "metadata": {
            "tags": [],
            "needs_background": "light"
          }
        }
      ]
    },
    {
      "cell_type": "markdown",
      "metadata": {
        "id": "i3d-ZjJlu1uB"
      },
      "source": [
        "## File input/output\n",
        "\n",
        "- `open(filePath, mode)` : to open file.\n",
        "- `(object of io.TextIOWrapper).write()` : write data to the file.\n",
        "- `(object of io.TextIOWrapper).readline()` : read a line\n",
        "\n",
        "### Google Colaboratory \n",
        "\n",
        "We make possible to read/write files in Google drive from programs of Google Colaboratory.\n",
        "\n",
        "* Click the folder icon in the left region.\n",
        "* A list of file appears and click the folder icon with triangle (the most right of three folder icons.)\n",
        "* A new following cell appears.\n",
        "```\n",
        "from google.colab import drive\n",
        "drive.mount('/content/drive')\n",
        "```\n",
        "* Excute it (Ctrl-Enter) and a new window appears of which content is like.\n",
        "'''\n",
        "Go to this URL in a browser: (a very long URL)\n",
        "Enter your authorization code:\n",
        "```\n",
        "* Click the very long URL.\n",
        "  * Select your Google account.\n",
        "  * Click `Allow`.\n",
        "  * Your authorization code will appear.\n",
        "  * Copy it by clicking the double squre icon.\n",
        "* Paste it and type `Enter`.\n",
        "\n",
        "Then, `My Drive` of Google drive is mounted on `/content/drive/` of Google Colaboratory.\n",
        "\n",
        "* Make a folder to store data.\n",
        "  * Go to `My Drive` of Google Drive.\n",
        "  * Click `New`.\n",
        "  * Select `Folder`.\n",
        "  * Set the name of folder `APN_data`. \n",
        "* We can use file `data1.txt` in `APN_data` as  \n",
        "`/content/drive/My Drive/APN_data/data1.txt`  \n",
        "from Google colaboratory."
      ]
    },
    {
      "cell_type": "code",
      "metadata": {
        "colab": {
          "base_uri": "https://localhost:8080/"
        },
        "id": "HsZ_EYofCHQA",
        "outputId": "94b1125b-489a-44a1-ef43-8956aafed521"
      },
      "source": [
        "from google.colab import drive\n",
        "drive.mount(\"/content/drive\", force_remount=True)"
      ],
      "execution_count": null,
      "outputs": [
        {
          "output_type": "stream",
          "text": [
            "Mounted at /content/drive\n"
          ],
          "name": "stdout"
        }
      ]
    },
    {
      "cell_type": "code",
      "metadata": {
        "id": "c65yB_ZSu1uB",
        "colab": {
          "base_uri": "https://localhost:8080/"
        },
        "outputId": "5ee9e27a-1236-4245-a3db-7d9f29dd44a6"
      },
      "source": [
        "# File \n",
        "import numpy as np\n",
        "N = 100\n",
        "with open('/content/drive/My Drive/APN_data/data1.txt', mode='w') as fw:\n",
        "    fw.write(str(N)+\"\\n\") # \\ = Option ¥\n",
        "    for loop in range(0, N):\n",
        "        n = int(1000 * np.random.rand())\n",
        "        fw.write(str(n)+\"\\n\") # \\ = Option ¥\n",
        "        \n",
        "with open('/content/drive/My Drive/APN_data/data1.txt', mode='r') as fr:\n",
        "    sVal = fr.readline()\n",
        "    Nr   = int(sVal)\n",
        "    data = np.zeros(Nr, dtype='int')\n",
        "    pos  = 0\n",
        "    sVal = fr.readline()\n",
        "    while sVal:\n",
        "        data[pos] = int(sVal)\n",
        "        sVal = fr.readline()\n",
        "        pos += 1\n",
        "\n",
        "print(data)"
      ],
      "execution_count": null,
      "outputs": [
        {
          "output_type": "stream",
          "text": [
            "[  7 461 115 178  97 120 963 280 887 735 970 290 629 254 870 102  67 120\n",
            " 452 606 520 799 885 134 875 975 103 266 151 964 677 460 404 824 265   1\n",
            " 182 668 555 662 783 560 474 891 633 858 526  62 850 941 282 224 877 107\n",
            " 858 541  87  19 122 713 694  76 715 474 798 766 895 795 968  53 941 820\n",
            " 231 548 862 799 783 701 824 544  98 138 892 862 259 765 109 616 115 244\n",
            " 126 787 519 187 654 589  53 267 270 585]\n"
          ],
          "name": "stdout"
        }
      ]
    },
    {
      "cell_type": "markdown",
      "metadata": {
        "id": "1Tb7-Jpru1uD"
      },
      "source": [
        "### Practice\n",
        "- Make a program to read file `data1.txt` in `ndarray` and sort it in both order. (Copy data to another ndarrary before sort.)\n",
        "- And calculate its mean, variance, standard deviation, and median."
      ]
    },
    {
      "cell_type": "markdown",
      "metadata": {
        "id": "GhEOzq2UH_1P"
      },
      "source": [
        "## Explanation: Statistics from the file\n",
        "\n",
        "The program below read the data from the file `data1.txt` and sort it ascendingly. While it is indeed possible to use selection sort (implemented above) or other sorting algorithms described in the previous lecture, I apply the numpy built-in sorting algorithm `np.sort()` instead for simplicity. Similarly, I also use functions from `statistics` library to calculate mean, standard deviation, and median for the same reason, although it is possible to calculate them manually as in the exercise above."
      ]
    },
    {
      "cell_type": "code",
      "metadata": {
        "id": "spQcuB3Su1uE",
        "colab": {
          "base_uri": "https://localhost:8080/"
        },
        "outputId": "6b256258-671c-4cef-a56f-65e69636d357"
      },
      "source": [
        "# Make a program\n",
        "import numpy as np\n",
        "import statistics as st\n",
        "with open('/content/drive/My Drive/APN_data/data1.txt', mode='r') as fr:\n",
        "    sVal = fr.readline()\n",
        "    Nr   = int(sVal)\n",
        "    data = np.zeros(Nr, dtype='int')\n",
        "    pos  = 0\n",
        "    sVal = fr.readline()\n",
        "    while sVal:\n",
        "        data[pos] = int(sVal)\n",
        "        sVal = fr.readline()\n",
        "        pos += 1\n",
        "\n",
        "# numpy built-in sorting algorithm\n",
        "data_sorted=np.sort(data)\n",
        "# print(data_sorted)\n",
        "\n",
        "# use functions from statistics to calculate mean, stdev, and median\n",
        "mean=st.mean(data_sorted)\n",
        "stdev=st.stdev(data_sorted)\n",
        "median=st.median(data_sorted)\n",
        "\n",
        "print(\"mean = {0}\".format(mean))\n",
        "print(\"stdev = {0}\".format(stdev))\n",
        "print(\"median = {0}\".format(median))\n"
      ],
      "execution_count": null,
      "outputs": [
        {
          "output_type": "stream",
          "text": [
            "mean = 504\n",
            "stdev = 315.2713117300716\n",
            "median = 546.0\n"
          ],
          "name": "stdout"
        }
      ]
    }
  ]
}