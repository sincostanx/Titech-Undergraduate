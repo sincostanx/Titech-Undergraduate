{
  "nbformat": 4,
  "nbformat_minor": 0,
  "metadata": {
    "kernelspec": {
      "display_name": "Python 3",
      "language": "python",
      "name": "python3"
    },
    "language_info": {
      "codemirror_mode": {
        "name": "ipython",
        "version": 3
      },
      "file_extension": ".py",
      "mimetype": "text/x-python",
      "name": "python",
      "nbconvert_exporter": "python",
      "pygments_lexer": "ipython3",
      "version": "3.6.4"
    },
    "colab": {
      "name": "18B00033Lec1.ipynb",
      "provenance": [],
      "collapsed_sections": []
    }
  },
  "cells": [
    {
      "cell_type": "markdown",
      "metadata": {
        "id": "WGFK7KaDiRFU"
      },
      "source": [
        "# Day 1\n",
        "## Let's get started\n",
        "* Please remember two short cut.\n",
        "  * Ctrl-Enter (Push Ctrl key and Enter key simultaneously.): Execute command.\n",
        "  * Shift-Enter (Push Shift key and Enter key simultaneously.): Make a new cell.\n",
        "* Write the followings in a sell.\n",
        "```\n",
        "    print(\"Hello world.\")\n",
        "```\n",
        "* And type Ctrl-Enter.\n",
        "* You can see ```Hello world.```\n",
        "* Type Shift-Enter and write\n",
        "```\n",
        "a = 4\n",
        "b = 7\n",
        "c = a + b\n",
        "print(a, b, c)\n",
        "```\n",
        "* And type Ctrl-Enter.\n",
        "* Rewrite the last line to \n",
        "```\n",
        "print(\"{0} + {1} = {2}\".format(a, b, c))\n",
        "```\n",
        "* And type Ctrl-Enter.\n"
      ]
    },
    {
      "cell_type": "code",
      "metadata": {
        "id": "toWNr_8Ih2iN",
        "colab": {
          "base_uri": "https://localhost:8080/"
        },
        "outputId": "89d23d60-ce6c-45b4-c207-4a5e7d1c1c6d"
      },
      "source": [
        "# Make a program: Hello world\n",
        "print(\"Hello world.\")"
      ],
      "execution_count": null,
      "outputs": [
        {
          "output_type": "stream",
          "text": [
            "Hello world.\n"
          ],
          "name": "stdout"
        }
      ]
    },
    {
      "cell_type": "code",
      "metadata": {
        "id": "jzC-OIwJh2iQ",
        "colab": {
          "base_uri": "https://localhost:8080/"
        },
        "outputId": "a55b4c96-180e-44d0-f527-0c4cfa684f17"
      },
      "source": [
        "# Make a program: Calculation\n",
        "a = 4\n",
        "b = 7\n",
        "c = a + b\n",
        "print(a, b, c)"
      ],
      "execution_count": null,
      "outputs": [
        {
          "output_type": "stream",
          "text": [
            "4 7 11\n"
          ],
          "name": "stdout"
        }
      ]
    },
    {
      "cell_type": "code",
      "metadata": {
        "id": "kGb1ECuSh2iW",
        "colab": {
          "base_uri": "https://localhost:8080/"
        },
        "outputId": "de36b095-11b2-4d47-e18f-2127e8c95f6a"
      },
      "source": [
        "# Make a program: Print with format\n",
        "print(\"{0} + {1} = {2}\".format(a, b, c))\n",
        "#print(\"%d + %d = %d\" %(a,b,c))"
      ],
      "execution_count": null,
      "outputs": [
        {
          "output_type": "stream",
          "text": [
            "4 + 7 = 11\n"
          ],
          "name": "stdout"
        }
      ]
    },
    {
      "cell_type": "markdown",
      "metadata": {
        "id": "9-NZpXL4ttyC"
      },
      "source": [
        "Since the first language I learned was C (during my high school), sometimes I also use placeholder with the print statement as shown in the code above.\n",
        "\n",
        "`print(\"%d + %d = %d\" %(a,b,c))`\n",
        "\n"
      ]
    },
    {
      "cell_type": "markdown",
      "metadata": {
        "id": "zH15pOjLj2U-"
      },
      "source": [
        "# Introduction to Python\n",
        "## Variables\n",
        "\n",
        "Variables can contain a values, values with structure, and objects.\n",
        "\n",
        "### Identifier\n",
        " * Name for a variable, a function, and a class.\n",
        " * Letters can be used for name of variable:\n",
        "  * Alphabet (`a`, `b`, ..., `A`, `B`, ...): Lower and upper cases are distinguished.)\n",
        "  * Numeral (`0`, `1`, `2`, ...) They cannot be used for the beginning.\n",
        "  * `_`\n",
        "  * Almost all of Unicode (`あ`, `ア`, `阿`, ...) Some of symbols are not allowed.\n",
        " * Example\n",
        "  * <font color=\"green\">Good</font>: `abc`, `_dAf_g`, `エビシ`, `阿`, `π`\n",
        "  *<font color=\"orange\">NG</font>: `3abc`, `$abc`, `阿。`, `３abc`\n",
        " * Keywords (Don't use as the name of variable.)\n",
        "   ** `False`, `None`, `True`, `and`, \n",
        "`as`, `assert`, `break`, `class`, `continue`, \n",
        "`def`, `del`, `elif`, `else`, `except`, \n",
        "`finally`, `for`, `from`, `global`, `if`, \n",
        "`import`, `in`, `is`, `lambda`, `nonlocal`, \n",
        "`not`, `or`, `pass`, `raise`, `return`, \n",
        "`try`, `while`, `with`, `yield`\n",
        " * Reserved classes of identifiers: `_*`, `__*`, `__*__`, \n",
        "\n",
        "### Type of data\n",
        "* Every data is handled as a object in Python.\n",
        "* Integer and float are also objects.  \n",
        "\n",
        "### Embedded types for numbers\n",
        "\n",
        "* `bool`\n",
        "* `int`\n",
        "* `float`\n",
        "* `complex`\n",
        "\n",
        "### Embedded types for multiple data\n",
        "* Immutable sequence \n",
        " * `tuple`\n",
        " * `string`\n",
        " * `bytes`\n",
        "* Mutable sequence \n",
        " * `list`\n",
        " * `bytearray`\n",
        "* Set \n",
        " * `set`  (mutable)\n",
        " * `fronzenset` (immutable)\n",
        "* Mapping\n",
        " * `dictionary`"
      ]
    },
    {
      "cell_type": "code",
      "metadata": {
        "id": "kWNFm4Kmh2iY"
      },
      "source": [
        "エイビィシー = 3\n",
        "print(エイビィシー)"
      ],
      "execution_count": null,
      "outputs": []
    },
    {
      "cell_type": "markdown",
      "metadata": {
        "id": "OSHhV-wzwLZe"
      },
      "source": [
        "## Literal\n",
        " \n",
        "A literal expresses a concrete value.\n",
        "\n",
        "### Numbers\n",
        "* `bool` : `True`, `False`\n",
        "* `int` : `123`, `-123`\n",
        "* `float` : `2.5`, `-0.003`, `2.3e10`, `-2.553e-12`\n",
        "* `complex` : `3.0+2.1j`, `-2.1e-2+3.2e3j`\n",
        "\n",
        "### None\n",
        "* `None`\n",
        "\n",
        "### String\n",
        "\n",
        "* `'This is a pen.'`\n",
        "* `\"This is a pen.\"`\n",
        "\n",
        "### List\n",
        "* `[1, 4, 2, 5, 1, -2]`\n",
        "* `[\"This\", \"is\", \"a \", \"pen\"]`\n",
        "* `[1, \"This\", -3.0, \"a\"]`\n",
        "\n",
        "### Tuple\n",
        "* `(1, 4, 2, 5, 1, -2)`\n",
        "* `(\"This\", \"is\", \"a \", \"pen\")`\n",
        "* `(1, \"This\", -3.0, \"a\")`\n",
        "\n",
        "### Dictionary\n",
        "* `{1:\"Freshman\", 2:\"Sophomore\", 3:\"Junior\", 4:\"Senior\"}`\n",
        "* `{\"Freshman\":1, \"Sophomore\":2, \"Junior\":3, \"Senior\":4}`\n",
        "* `{(3, 4):7, (2, 4):\"ABC\", (\"ab\", 3)\":112, (\"dd\", \"ss\"):\"32\"}`\n",
        "\n",
        "### Set\n",
        "* `{1, 4, 2, 5, 1, -2}`\n",
        "* `{\"This\", \"is\", \"a \", \"pen\"}`\n",
        "* `{1, \"This\", -3.0, \"a\"}`\n",
        "\n",
        "## Operator\n",
        "### Arithmetic operator\n",
        "\n",
        "(Previlege Low $\\rightarrow$ High) \n",
        "\n",
        "| Operator | meaning |\n",
        "| ---- | ---- |\n",
        "| `x + y` | |\n",
        "| `x - y` | |\n",
        "| `x * y` | |\n",
        "| `x / y` | |\n",
        "| `x // y` | | devision as integers|\n",
        "| `x % y` | |\n",
        "| `-x` | |\n",
        "| `+x` | |\n",
        "| `x ** y` | $x^y$ |\n",
        "\n",
        "### Logical operator\n",
        "(Previlege Low $\\rightarrow$ High)\n",
        "\n",
        "|Operator | meaning |\n",
        "| ---- | ---- |\n",
        "|`x or y` | logical |\n",
        "|`x and y` | logical and |\n",
        "|`not x` | negation |\n",
        "\n",
        "### Bit operator\n",
        "(Previlege Low $\\rightarrow$ High)\n",
        "\n",
        "| Operator | meaning |\n",
        "| ---- | ---- |\n",
        "|`\\|` | logical or for each bit |\n",
        "|`^` | exclusive or for each bit|\n",
        "|`&` | and for each bit |\n",
        "|`<<`, `>>`  | bit shift (left, right) |\n",
        "|`~` | Negation |\n",
        "\n",
        "### Comparison operator\n",
        "\n",
        "| Operator | meaning |\n",
        "| ---- | ---- |\n",
        "| `x < y`   | |\n",
        "| `x <= y`  | |\n",
        "| `x > y`   | |\n",
        "| `x >= y`  | |\n",
        "| `x == y`  | |\n",
        "| `x != y`  | |\n",
        "| `x is y` | `x` and `y` are the same object.|\n",
        "| `x is not y`  | |\n",
        "| `x in y` | `x` is included in `y`.|\n",
        "| `x not in y`  | |\n",
        "\n",
        "### Membership operator\n",
        "\n",
        "| Operator | meaning |\n",
        "| ---- | ---- |\n",
        "| `x in y` | `x` is included in `y`.|\n",
        "| `x not in y` | |\n",
        "\n",
        "### Equality operator\n",
        "\n",
        "| Operator | meaning |\n",
        "| ---- | ---- |\n",
        "|`x is y` | `x` and `y` are the same object.|\n",
        "|`x is not y` | |\n",
        "\n",
        "\n",
        "### Cumulative assign operator\n",
        "(Previlege Low $\\rightarrow$ High) \n",
        "\n",
        "| Operator | meaning |\n",
        "| ---- | ---- |\n",
        "|  `x += y` | `x = x + y` |\n",
        "| `x -= y` |  `x = x - y` |\n",
        "| `x *= y` |  `x = x * y` |\n",
        "| `x /= y` |  `x = x / y` |\n",
        "| `x //= y` |  `x = x // y` |\n",
        "| `x %= y` |  `x = x % y` |\n",
        "| `x >>= y` |  `x = x >> y` |\n",
        "| `x <<= y` | \\ `x = x << y` |\n",
        "| `x &= y` |  `x = x & y` |\n",
        "| `x ^= y` |  `x = x ^ y` |\n",
        "| `x \\|= y` | `x = x \\| y` |\n",
        "\n",
        "\n",
        "### Operators in Python\n",
        "\n",
        "(Previlege Low $\\rightarrow$ High) \n",
        "\n",
        "| Operator | meaning |\n",
        "| ---- | ---- |\n",
        "| `lambda` | | \n",
        "| `if` `else` | | \n",
        "| Logical operators | | \n",
        "| Membership operators | |\n",
        "| Equality operators | | \n",
        "| Bit operators | (Except `~x` ) |\n",
        "| Arithmetic operators | (Except `+x`,  `-x`, and `x ** y`) |\n",
        "| `+x`, `-x`, and `~x` | |\n",
        "| `x ** y` | |\n",
        "| `x`.attribute | reference of attribute | \n",
        "| `x[`index`]`, `x[`index`:`index`]` |  indexces of array |\n",
        "| `x(`expression, ... `)` | Call of a function |\n",
        "| \n",
        "|`(`expression, ... `)` <br> `[`expression, ... `]` <br> `[`key`:` value, ... `}` <br> `{`expression, ... `}` |  Tuple literal <br>  List literal <br>  Dictonary literal<br>  Set literal |\n"
      ]
    },
    {
      "cell_type": "markdown",
      "metadata": {
        "id": "0sPwzvkR6I6e"
      },
      "source": [
        "## Expression\n",
        "* The expression can be evaluated and have a value.\n",
        "* Examples:\n",
        " * literals: ```3```, ```[1, 2]```\n",
        " * Combination of operator and operand: ```-x```, ```x + y```, ```z = x + y```, ```x == y```\n",
        " * Function: ```sin(x)```\n",
        "\n",
        "## Statement\n",
        "\n",
        "* Statement expresses a procedure.\n",
        "* Expression is also a statement.\n",
        "* Examples of statement: ```if```, ```elif```, ```else```, ```break```, ```continue```,  and ```import``` statements.\n"
      ]
    },
    {
      "cell_type": "markdown",
      "metadata": {
        "id": "_aiF675K6r5j"
      },
      "source": [
        "## Control\n",
        "### If\n",
        "* Conditional execution. \n",
        "\n",
        "```\n",
        "x = 3\n",
        "if (x == 3):\n",
        "  print('x is three.')\n",
        "print(\"End of program.\")\n",
        "```\n",
        "\n",
        "### else\n",
        "\n",
        "```\n",
        "x = 3\n",
        "if (x == 3):\n",
        "  print('x is three.')\n",
        "else:\n",
        "  print('x is not three.')\n",
        "print(\"End of program.\")\n",
        "```\n",
        "\n",
        "### elif\n",
        "\n",
        "```\n",
        "x = 3\n",
        "if (x == 3):\n",
        "  print('x is three.')\n",
        "elif (x == 7):\n",
        "  print('x is seven.')\n",
        "else:\n",
        "  print('x is not three or seven.')\n",
        "print(\"End of program.\")\n",
        "```\n",
        "\n",
        "### Nest\n",
        "\n",
        "* Conditional sentences in a conditional sentence.\n",
        "* Loop sentences in a loop sentence.\n",
        "\n",
        "```\n",
        "x = 3\n",
        "y = 5\n",
        "if (x == 3):\n",
        "  if (y == 5):\n",
        "    print('x is three and y is five.')\n",
        "  else:\n",
        "    print('x is three and y is not five.')\n",
        "else:\n",
        "  if (y == 9):\n",
        "    print('x is not three and y is nine.')\n",
        "  else:\n",
        "    print('x is not three and y is not nine.')\n",
        "  print('x is not three.')\n",
        "print(\"End of program.\")\n",
        "```\n"
      ]
    },
    {
      "cell_type": "code",
      "metadata": {
        "id": "wKj75onPh2ia",
        "colab": {
          "base_uri": "https://localhost:8080/"
        },
        "outputId": "5eb3bcfb-e216-4605-8896-1b9b569a48ed"
      },
      "source": [
        "# Make a program: Use if sentence\n",
        "x = 3\n",
        "if (x == 3):\n",
        "  print('x is three.')\n",
        "print(\"End of program.\")"
      ],
      "execution_count": null,
      "outputs": [
        {
          "output_type": "stream",
          "text": [
            "x is three.\n",
            "End of program.\n"
          ],
          "name": "stdout"
        }
      ]
    },
    {
      "cell_type": "code",
      "metadata": {
        "id": "fOnkSDQsh2id",
        "colab": {
          "base_uri": "https://localhost:8080/"
        },
        "outputId": "0021d3c7-d104-454b-a4c7-55a60815616c"
      },
      "source": [
        "# Make a program: Use if and else sentence\n",
        "x = 3\n",
        "if (x == 3):\n",
        "  print('x is three.')\n",
        "else:\n",
        "  print('x is not three.')\n",
        "print(\"End of program.\")"
      ],
      "execution_count": null,
      "outputs": [
        {
          "output_type": "stream",
          "text": [
            "x is three.\n",
            "End of program.\n"
          ],
          "name": "stdout"
        }
      ]
    },
    {
      "cell_type": "code",
      "metadata": {
        "id": "RggbAkPlh2im",
        "colab": {
          "base_uri": "https://localhost:8080/"
        },
        "outputId": "7574d05d-8f85-4329-f3cf-83e593035829"
      },
      "source": [
        "# Make a program: Use if, elif, and else sentence\n",
        "x = 3\n",
        "if (x == 3):\n",
        "  print('x is three.')\n",
        "elif (x == 7):\n",
        "  print('x is seven.')\n",
        "else:\n",
        "  print('x is not three or seven.')\n",
        "print(\"End of program.\")"
      ],
      "execution_count": null,
      "outputs": [
        {
          "output_type": "stream",
          "text": [
            "x is three.\n",
            "End of program.\n"
          ],
          "name": "stdout"
        }
      ]
    },
    {
      "cell_type": "code",
      "metadata": {
        "id": "BdRDKVMFh2iv",
        "colab": {
          "base_uri": "https://localhost:8080/"
        },
        "outputId": "e8fb91bd-0ea7-4b81-dcf6-004a3ee93598"
      },
      "source": [
        "# Make a program: Use nesting of if and else sentence\n",
        "x = 3\n",
        "y = 5\n",
        "if (x == 3):\n",
        "  if (y == 5):\n",
        "    print('x is three and y is five.')\n",
        "  else:\n",
        "    print('x is three and y is not five.')\n",
        "else:\n",
        "  if (y == 9):\n",
        "    print('x is not three and y is nine.')\n",
        "  else:\n",
        "    print('x is not three and y is not nine.')\n",
        "  print('x is not three.')\n",
        "print(\"End of program.\")"
      ],
      "execution_count": null,
      "outputs": [
        {
          "output_type": "stream",
          "text": [
            "x is three and y is five.\n",
            "End of program.\n"
          ],
          "name": "stdout"
        }
      ]
    },
    {
      "cell_type": "markdown",
      "metadata": {
        "id": "He9fLS2o7RGq"
      },
      "source": [
        "### for\n",
        "\n",
        "* Loop sentence\n",
        "* Range object : ```range(2, 6)``` is equivalent to ```(2, 3, 4, 5)```\n",
        "\n",
        "```\n",
        "sum = 0\n",
        "for x in range(1, 11):\n",
        "  print(x)\n",
        "  sum += x\n",
        "print(sum)\n",
        "```\n",
        "\n",
        "By using list.\n",
        "\n",
        "```\n",
        "sum = 0\n",
        "for x in (1, 2, 3, 4, 5, 6, 7, 8, 9, 10):\n",
        "  print(x)\n",
        "  sum += x\n",
        "print(sum)\n",
        "```\n",
        "\n",
        "Try by changing tuple to \n",
        "* List: ```[1, 2, 3, 4, 5, 6, 7, 8, 9, 10]``` and ```[2, 1, 3, 4, 5, 6, 7, 8, 9, 10]``` \n",
        "* Set: ```{1, 2, 3, 4, 5, 6, 7, 8, 9, 10}``` and ```{2, 1, 3, 4, 5, 6, 7, 8, 9, 10}``` \n",
        "* Dictonary\n",
        "\n",
        "```\n",
        "dic = {1:\"one one\", 2:\"two\", 3:\"surii\"}\n",
        "for key in dic:\n",
        "  print(key)\n",
        "  print(dic[key])\n",
        "```"
      ]
    },
    {
      "cell_type": "code",
      "metadata": {
        "id": "7dtpe3EKh2ix",
        "colab": {
          "base_uri": "https://localhost:8080/"
        },
        "outputId": "a0a1e600-9445-4519-ff14-8bc756b9dbc9"
      },
      "source": [
        "# Make a program: sum from 1 to 10 using range\n",
        "sum = 0\n",
        "for x in range(1, 11):\n",
        "  print(x)\n",
        "  sum += x\n",
        "print(sum)"
      ],
      "execution_count": null,
      "outputs": [
        {
          "output_type": "stream",
          "text": [
            "1\n",
            "2\n",
            "3\n",
            "4\n",
            "5\n",
            "6\n",
            "7\n",
            "8\n",
            "9\n",
            "10\n",
            "55\n"
          ],
          "name": "stdout"
        }
      ]
    },
    {
      "cell_type": "code",
      "metadata": {
        "id": "Xp4JM3b5h2i8",
        "colab": {
          "base_uri": "https://localhost:8080/"
        },
        "outputId": "0f42059d-6423-4bfa-81b8-cd179201277b"
      },
      "source": [
        "# Make a program: Sum from 1 to 10 using tuple\n",
        "sum = 0\n",
        "for x in (1, 2, 3, 4, 5, 7, 6, 8, 9, 10):\n",
        "  print(x)\n",
        "  sum += x\n",
        "print(sum)"
      ],
      "execution_count": null,
      "outputs": [
        {
          "output_type": "stream",
          "text": [
            "1\n",
            "2\n",
            "3\n",
            "4\n",
            "5\n",
            "7\n",
            "6\n",
            "8\n",
            "9\n",
            "10\n",
            "55\n"
          ],
          "name": "stdout"
        }
      ]
    },
    {
      "cell_type": "code",
      "metadata": {
        "id": "qpPdX3wwh2i_",
        "colab": {
          "base_uri": "https://localhost:8080/"
        },
        "outputId": "710ef91f-2ef6-483e-829f-49a57cfb73b8"
      },
      "source": [
        "# Make a program: Sum from 1 to 10 using list\n",
        "sum = 0\n",
        "for x in [1, 2, 3, 4, 5, 7, 6, 8, 9, 10]:\n",
        "  print(x)\n",
        "  sum += x\n",
        "print(sum)\n"
      ],
      "execution_count": null,
      "outputs": [
        {
          "output_type": "stream",
          "text": [
            "1\n",
            "2\n",
            "3\n",
            "4\n",
            "5\n",
            "7\n",
            "6\n",
            "8\n",
            "9\n",
            "10\n",
            "55\n"
          ],
          "name": "stdout"
        }
      ]
    },
    {
      "cell_type": "code",
      "metadata": {
        "id": "PvOU0F1ch2jB",
        "colab": {
          "base_uri": "https://localhost:8080/"
        },
        "outputId": "22e3a15e-3c42-48da-a502-143cb8ce7f7c"
      },
      "source": [
        "# Make a program: Sum from 1 to 10 using set\n",
        "sum = 0\n",
        "for x in {1, 2, 3, 4, 5, 7, 6, 8, 9, 10}:\n",
        "  print(x)\n",
        "  sum += x\n",
        "print(sum)\n"
      ],
      "execution_count": null,
      "outputs": [
        {
          "output_type": "stream",
          "text": [
            "1\n",
            "2\n",
            "3\n",
            "4\n",
            "5\n",
            "6\n",
            "7\n",
            "8\n",
            "9\n",
            "10\n",
            "55\n"
          ],
          "name": "stdout"
        }
      ]
    },
    {
      "cell_type": "code",
      "metadata": {
        "id": "iPwSb0ONh2jM",
        "colab": {
          "base_uri": "https://localhost:8080/"
        },
        "outputId": "f07b08fc-698f-4bb1-b85f-3b8e5482f07e"
      },
      "source": [
        "# Make a program: Use dictonary\n",
        "dic = {1:\"one one\", 2:\"two\", 3:\"surii\"}\n",
        "for key in dic:\n",
        "  print(key)\n",
        "  print(dic[key])\n",
        "\n",
        "# sum=0\n",
        "# d={}\n",
        "# for i in range(1,11): d[i]=i\n",
        "# for x in d:\n",
        "#   print(x)\n",
        "#   sum+=d[x]\n",
        "# print(sum)"
      ],
      "execution_count": null,
      "outputs": [
        {
          "output_type": "stream",
          "text": [
            "1\n",
            "one one\n",
            "2\n",
            "two\n",
            "3\n",
            "surii\n"
          ],
          "name": "stdout"
        }
      ]
    },
    {
      "cell_type": "markdown",
      "metadata": {
        "id": "WtnPVTdUvZZR"
      },
      "source": [
        "The code for summing from 1 to 10 using dictionary is shown in the code above. Although, it is a little redundant since the key and value for each element is the same."
      ]
    },
    {
      "cell_type": "markdown",
      "metadata": {
        "id": "-pHunaB57xGX"
      },
      "source": [
        "### break,  continue, else\n",
        "\n",
        "* `break` : Exit from loop.\n",
        "* `continue` : Latter part of loop is skipped. \n",
        "* `else` : When the loop ended normally (not by `break`) the following block is executed. \n",
        "\n",
        "```\n",
        "sum = 0\n",
        "for x in range(1, 11):\n",
        "  print(x)\n",
        "  if (x == 5):\n",
        "    break\n",
        "  sum += x\n",
        "print(sum)\n",
        "```\n",
        "\n",
        "```\n",
        "\n",
        "sum = 0\n",
        "for x in range(1, 11):\n",
        "  print(x)\n",
        "  if (x == 5):\n",
        "    continue\n",
        "  sum += x\n",
        "print(sum)\n",
        "```\n",
        "\n",
        "```\n",
        "sum = 0\n",
        "for x in range(1, 11):\n",
        "  print(x)\n",
        "  if (x == 5):\n",
        "    break\n",
        "  sum += x\n",
        "else:\n",
        "  print(\"Else sentence\")\n",
        "print(sum)\n",
        "```\n",
        "\n",
        "```\n",
        "sum = 0\n",
        "for x in range(1, 11):\n",
        "  print(x)\n",
        "  if (x == 5):\n",
        "    continue\n",
        "  sum += x\n",
        "else:\n",
        "  print(\"Else sentence\")\n",
        "print(sum)\n",
        "```"
      ]
    },
    {
      "cell_type": "code",
      "metadata": {
        "id": "gNevaP7Ih2jO",
        "colab": {
          "base_uri": "https://localhost:8080/"
        },
        "outputId": "aabf5cc4-5314-4c6d-88af-765acaedcfc6"
      },
      "source": [
        "# Make a program: Use break sentence\n",
        "sum = 0\n",
        "for x in range(1, 11):\n",
        "  print(x)\n",
        "  if (x == 5):\n",
        "    break\n",
        "  sum += x\n",
        "print(sum)"
      ],
      "execution_count": null,
      "outputs": [
        {
          "output_type": "stream",
          "text": [
            "1\n",
            "2\n",
            "3\n",
            "4\n",
            "5\n",
            "10\n"
          ],
          "name": "stdout"
        }
      ]
    },
    {
      "cell_type": "code",
      "metadata": {
        "id": "oxBU3nG6ysW4",
        "colab": {
          "base_uri": "https://localhost:8080/"
        },
        "outputId": "7deeeaa3-2934-406c-a97f-ec3efd521794"
      },
      "source": [
        "# Make a program: Use continue sentence\n",
        "sum = 0\n",
        "for x in range(1, 11):\n",
        "  print(x)\n",
        "  if (x == 5):\n",
        "    continue\n",
        "  sum += x\n",
        "print(sum)"
      ],
      "execution_count": null,
      "outputs": [
        {
          "output_type": "stream",
          "text": [
            "1\n",
            "2\n",
            "3\n",
            "4\n",
            "5\n",
            "6\n",
            "7\n",
            "8\n",
            "9\n",
            "10\n",
            "50\n"
          ],
          "name": "stdout"
        }
      ]
    },
    {
      "cell_type": "code",
      "metadata": {
        "id": "o0vMeOqBh2jT",
        "colab": {
          "base_uri": "https://localhost:8080/"
        },
        "outputId": "955a8b53-f752-4cb8-ba1e-d959ac65cf8e"
      },
      "source": [
        "# Make a program: Use break sentence and else sentence for for sentence\n",
        "sum = 0\n",
        "for x in range(1, 11):\n",
        "  print(x)\n",
        "  if (x == 5):\n",
        "    break\n",
        "  sum += x\n",
        "else:\n",
        "  print(\"Else sentence\")\n",
        "print(sum)"
      ],
      "execution_count": null,
      "outputs": [
        {
          "output_type": "stream",
          "text": [
            "1\n",
            "2\n",
            "3\n",
            "4\n",
            "5\n",
            "10\n"
          ],
          "name": "stdout"
        }
      ]
    },
    {
      "cell_type": "code",
      "metadata": {
        "id": "xyo-9n8Wy7az",
        "colab": {
          "base_uri": "https://localhost:8080/"
        },
        "outputId": "52a5c2fd-8d78-42be-ec13-a7cfa1254793"
      },
      "source": [
        "# Make a program: Use continue sentence and else sentence for for sentence\n",
        "sum = 0\n",
        "for x in range(1, 11):\n",
        "  print(x)\n",
        "  if (x == 5):\n",
        "    continue\n",
        "  sum += x\n",
        "else:\n",
        "  print(\"Else sentence\")\n",
        "print(sum)"
      ],
      "execution_count": null,
      "outputs": [
        {
          "output_type": "stream",
          "text": [
            "1\n",
            "2\n",
            "3\n",
            "4\n",
            "5\n",
            "6\n",
            "7\n",
            "8\n",
            "9\n",
            "10\n",
            "Else sentence\n",
            "50\n"
          ],
          "name": "stdout"
        }
      ]
    },
    {
      "cell_type": "markdown",
      "metadata": {
        "id": "dSDBkeWO8J7n"
      },
      "source": [
        "### while\n",
        "* When the condition is true, the following block is executed.\n",
        "\n",
        "```\n",
        "sum = 0\n",
        "x = 1;\n",
        "while x < 11:\n",
        "  print(x)\n",
        "  sum += x\n",
        "  x += 1\n",
        "print(sum)\n",
        "```"
      ]
    },
    {
      "cell_type": "code",
      "metadata": {
        "id": "m5jpoYwUh2jd",
        "colab": {
          "base_uri": "https://localhost:8080/"
        },
        "outputId": "a980415d-adab-4c98-f60a-30f4c8f91991"
      },
      "source": [
        "# Make a program: Use while sentence\n",
        "sum = 0\n",
        "x = 1;\n",
        "while x < 11:\n",
        "  print(x)\n",
        "  sum += x\n",
        "  x += 1\n",
        "print(sum)"
      ],
      "execution_count": null,
      "outputs": [
        {
          "output_type": "stream",
          "text": [
            "1\n",
            "2\n",
            "3\n",
            "4\n",
            "5\n",
            "6\n",
            "7\n",
            "8\n",
            "9\n",
            "10\n",
            "55\n"
          ],
          "name": "stdout"
        }
      ]
    },
    {
      "cell_type": "markdown",
      "metadata": {
        "id": "q8avSV0R8WP3"
      },
      "source": [
        "## Function\n",
        "\n",
        "* When you have many same processes for various values, it is not good to describe them respectively.\n",
        "* Define a function that describes the process.\n",
        "* A function is defined by `def`.\n",
        "* A function of python can return multiple values by using `return`.\n",
        "* When a function is called, arguments specified by order or variables. \n",
        "* Example: \n",
        "\n",
        "```\n",
        "def printxy(x, y):\n",
        "    print(\"x = {0}, y = {1}\".format(x, y))\n",
        "\n",
        "printxy(2, 4)\n",
        "printxy(y = 2, x = 4)\n",
        "```\n",
        "\n",
        "* Example:\n",
        "\n",
        "```\n",
        "# Return product\n",
        "def prod(x, y):\n",
        "    prodv = x * y\n",
        "    return prodv\n",
        "    \n",
        "a = 10\n",
        "b = 7\n",
        "u = prod(a, b)\n",
        "print(\"{0} x {1} = {2}\".format(a, b, u))\n",
        "```\n",
        "\n",
        "* Example\n",
        "\n",
        "```\n",
        "# Euclidean algorithm\n",
        "def euclid(x, y):\n",
        "    u, v = x, y\n",
        "    while(u != 0):\n",
        "        u, v = (v % u), u\n",
        "    else:\n",
        "        lcd = v\n",
        "        mcm = int(x * y / lcd)\n",
        "    return lcd, mcm\n",
        "\n",
        "x = 12\n",
        "y = 9\n",
        "a, b = euclid(x, y)\n",
        "print(\"For {0} and {1}, LCD = {2}, MCM = {3}\".format(x, y, a, b))\n",
        "```"
      ]
    },
    {
      "cell_type": "code",
      "metadata": {
        "id": "hIya_7dDh2jf",
        "colab": {
          "base_uri": "https://localhost:8080/"
        },
        "outputId": "44aa07f3-9916-47a8-89d6-80556353363e"
      },
      "source": [
        "def printxy(x, y):\n",
        "  print(\"x = {0}, y = {1}\".format(x, y))\n",
        "\n",
        "#def printxy2(x,y=2):\n",
        "#  print(\"x = {0}, y = {1}\".format(x, y))\n",
        "\n",
        "printxy(2, 4)\n",
        "printxy(y = 2, x = 4)\n",
        "#printxy2(10)\n",
        "#printxy2(2,7)"
      ],
      "execution_count": null,
      "outputs": [
        {
          "output_type": "stream",
          "text": [
            "x = 2, y = 4\n",
            "x = 4, y = 2\n",
            "x = 10, y = 2\n",
            "x = 2, y = 7\n"
          ],
          "name": "stdout"
        }
      ]
    },
    {
      "cell_type": "markdown",
      "metadata": {
        "id": "yF9utCz2xKca"
      },
      "source": [
        "It is also possible to specify defalut values of arguments of a function as shown in the code above."
      ]
    },
    {
      "cell_type": "code",
      "metadata": {
        "id": "-pXdMGjJh2jh",
        "colab": {
          "base_uri": "https://localhost:8080/"
        },
        "outputId": "5deba09b-c1eb-40d5-afe0-9d4129437c08"
      },
      "source": [
        "# Make a program: Make and use a function that retruns product\n",
        "# Return product\n",
        "def prod(x, y):\n",
        "    prodv = x * y\n",
        "    return prodv\n",
        " \n",
        "a = 10\n",
        "b = 7\n",
        "u = prod(a, b)\n",
        "print(\"{0} x {1} = {2}\".format(a, b, u))"
      ],
      "execution_count": null,
      "outputs": [
        {
          "output_type": "stream",
          "text": [
            "10 x 7 = 70\n"
          ],
          "name": "stdout"
        }
      ]
    },
    {
      "cell_type": "code",
      "metadata": {
        "id": "kCbrP-iVh2jn",
        "colab": {
          "base_uri": "https://localhost:8080/"
        },
        "outputId": "39baccc4-4f30-4a51-db75-a9d9b37eab2f"
      },
      "source": [
        "# Make a program: Make a program of Euclidean algorithm\n",
        "# Euclidean algorithm\n",
        "def euclid(x, y):\n",
        "    u, v = x, y\n",
        "    while(u != 0):\n",
        "        u, v = (v % u), u\n",
        "    else:\n",
        "        lcd = v\n",
        "        mcm = int(x * y / lcd)\n",
        "    return lcd, mcm\n",
        "\n",
        "def re_euclid(x,y):\n",
        "  if (not (x%y)): return y\n",
        "  return re_euclid(y,x%y)\n",
        " \n",
        "x = 12\n",
        "y = 9\n",
        "a, b = euclid(x, y)\n",
        "print(\"For {0} and {1}, LCD = {2}, MCM = {3}\".format(x, y, a, b))\n",
        "\n",
        "ans=re_euclid(x,y)\n",
        "print(\"For %d and %d, LCD = %d, MCM = %d\" %(x,y,ans,x*y/ans))"
      ],
      "execution_count": null,
      "outputs": [
        {
          "output_type": "stream",
          "text": [
            "For 12 and 9, LCD = 3, MCM = 36\n",
            "For 12 and 9, LCD = 3, MCM = 36\n"
          ],
          "name": "stdout"
        }
      ]
    },
    {
      "cell_type": "markdown",
      "metadata": {
        "id": "cIxbrf3tzJea"
      },
      "source": [
        "Since the time complexity of the algorithm is only $O(h)$ where $h$ is the number of digit of $y$ given that $x>y$, it also possible to write the euclidean algorithm as a recursive function without concerning about stack overflow problem."
      ]
    },
    {
      "cell_type": "code",
      "metadata": {
        "id": "dJskhn5wh2jp",
        "colab": {
          "base_uri": "https://localhost:8080/"
        },
        "outputId": "7c3f5dd6-ac7b-4007-c495-3983deacd4a2"
      },
      "source": [
        "# Pass by value or pass by reference for a function.\n",
        "def valOrRef(x, y):\n",
        "  x = 11\n",
        "  y[1] = 12\n",
        "  print(\"x and y[1] in a fuction are {0} and {1}\".format(x, y[1]))\n",
        "    \n",
        "x = 1\n",
        "y = [1, 2, 3]\n",
        "print(\"x and y[1] at first are {0} and {1}\".format(x, y[1]))\n",
        "valOrRef(x, y)\n",
        "print(\"x and y[1] after the function are {0} and {1}\".format(x, y[1]))"
      ],
      "execution_count": null,
      "outputs": [
        {
          "output_type": "stream",
          "text": [
            "x and y[1] at first are 1 and 2\n",
            "x and y[1] in a fuction are 11 and 12\n",
            "x and y[1] after the function are 1 and 12\n"
          ],
          "name": "stdout"
        }
      ]
    },
    {
      "cell_type": "markdown",
      "metadata": {
        "id": "15z2EfGS8vj7"
      },
      "source": [
        "## Objects\n",
        "\n",
        "Discuss at the next class. \n"
      ]
    },
    {
      "cell_type": "markdown",
      "metadata": {
        "id": "ykLREeT39S9i"
      },
      "source": [
        "# Report\n",
        "\n",
        "* For every class, students have to submit a report in 7 days after the lecture.\n",
        "* The main file should be the nootbook format of ipython. Its file name should be ```[student number]Lec[day of class].ipynb```. (ex. ```18B54321Lec1.ipynb```)\n",
        "* Markdown cells are allowed to describe the report.\n",
        "* Supplementary files such as images for Class 4 are allowed. Their files should be like ```[student number]Lec[day of class]Sub[number].[extension]```. (ex. ```18B54321LecSub1.jpg```)\n",
        "* Submit the file(s) in the corresponding page of T2SCHOLA (```https://t2schola.titech.ac.jp/course/view.php?id=9753```)."
      ]
    },
    {
      "cell_type": "markdown",
      "metadata": {
        "id": "Kvg3-BEeh2jx"
      },
      "source": [
        "# Makedown\n",
        "\n",
        "## A blank line (Sometimes two blank lines) is not necessary to separate blocks.\n",
        "```\n",
        "This is a apen.\n",
        "This is a pencil.\n",
        "\n",
        "This is a ballpoint.\n",
        "```\n",
        "\n",
        "This is a apen.\n",
        "This is a pencil.\n",
        "\n",
        "This is a ballpoint.\n",
        "\n",
        "## `#` : For titles\n",
        "``` \n",
        "## List\n",
        "```\n",
        "\n",
        "## List\n",
        "\n",
        "* ```*``` : For list. (Indent can be used)\n",
        "* ```1.``` : For list with a number. (Indent can be used)\n",
        "\n",
        "```\n",
        "* item 1\n",
        "* item 2\n",
        "  * item 2.1\n",
        "* item 3\n",
        "```\n",
        "\n",
        "* list 1\n",
        "* item 2\n",
        "  * item 2.1\n",
        "* list 3\n",
        "\n",
        "```\n",
        "1. Nlist 1\n",
        "1. Nlist 2\n",
        "  1. Nlist 2.1\n",
        "  1. Nlist 2.2\n",
        "1. Nlist 3 \n",
        "```\n",
        "\n",
        "1. Nlist 1\n",
        "1. Nlist 2\n",
        "  1. Nlist 2.1\n",
        "  1. Nlist 2.2\n",
        "1. Nlist 3 \n",
        "\n",
        "## Preformatted text\n",
        "\n",
        "## Code in a line\n",
        "\n",
        "* \\`sin(0.5)\\` for preformatted text (in line)  as `sin(0.5)`.\n",
        "* ```    ``` (4 spaces or tab) For preformatted text (block).\n",
        "* Between two triple backquatos : For preformatted text in a line.\n",
        "\n",
        "```\n",
        "This is\n",
        "  A\n",
        "    B\n",
        "\n",
        "    This is\n",
        "      A\n",
        "         B\n",
        "```\n",
        "\n",
        "This is\n",
        "  A\n",
        "    B\n",
        "\n",
        "    This is\n",
        "      A\n",
        "         B\n",
        "\n",
        "## Two spaces after a text : New line\n",
        "\n",
        "```\n",
        "This is\n",
        "a pen\n",
        "\n",
        "This is  \n",
        "a pen\n",
        "```\n",
        "This is\n",
        "a pen\n",
        "\n",
        "This is  \n",
        "a pen\n",
        "\n",
        "## Equation: Between two `$` (in line) and `$$` (in next line)\n",
        "\n",
        "```\n",
        "This is $\\frac{3}{4}$.\n",
        "```\n",
        "This is $\\frac{3}{4}$.\n",
        "\n",
        "```\n",
        "We have \n",
        "$$\n",
        "\\frac{1}{2} + \\frac{1}{3} = \\frac{5}{6}.\n",
        "$$\n",
        "```\n",
        "We have \n",
        "$$\n",
        "\\frac{1}{2} + \\frac{1}{3} = \\frac{5}{6}.\n",
        "$$\n"
      ]
    }
  ]
}