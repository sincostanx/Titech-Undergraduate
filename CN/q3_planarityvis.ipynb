{
  "nbformat": 4,
  "nbformat_minor": 0,
  "metadata": {
    "colab": {
      "name": "planarityvis.ipynb",
      "provenance": []
    },
    "kernelspec": {
      "name": "python3",
      "display_name": "Python 3"
    }
  },
  "cells": [
    {
      "cell_type": "markdown",
      "source": [
        "# Quiz 3"
      ],
      "metadata": {
        "id": "ry0ylOV_LdyG"
      }
    },
    {
      "cell_type": "markdown",
      "source": [
        "This notebook is created by Chinchuthakun Worameth as a part of Complex Network (ART.T462) at Tokyo Institute of Technology taught in Fall semester 2021 by Prof. Murata Tsuyoshi. It contains\n",
        "\n",
        "1. A program of computing average degree, density, and $L_3$ of $K_6$ and $K_{3,3}$"
      ],
      "metadata": {
        "id": "qJa8jSRhLgcT"
      }
    },
    {
      "cell_type": "markdown",
      "source": [
        "## Question #1"
      ],
      "metadata": {
        "id": "ywNxfSNSLybj"
      }
    },
    {
      "cell_type": "markdown",
      "source": [
        "Let $\\mathbf{G} = (\\mathbf{V},\\mathbf{E})$ and $\\mathbf{A}$ be an undirected graph and an adjacency matrix associated with $\\mathbf{G}$, respectively. Assuming that $|V| = n$ and $|E| = m$, we define average degree ($c$) and density ($\\rho$) of $\\mathbf{G}$ as:\n",
        "\\begin{equation}\n",
        "c = \\frac{1}{n}\\sum_{i=1}^{n} \\Big( \\sum_{j=1}^{n} \\mathbf{A}_{ij} \\Big) = \\frac{2m}{n}\n",
        "\\end{equation}\n",
        "and\n",
        "\\begin{equation}\n",
        "\\rho = \\frac{m}{n \\choose 2} = \\frac{c}{n-1} \\approx \\frac{c}{n}\n",
        "\\end{equation}"
      ],
      "metadata": {
        "id": "w1EREXl0L1rV"
      }
    },
    {
      "cell_type": "markdown",
      "source": [
        "## Question #2"
      ],
      "metadata": {
        "id": "cdNr1GNTPMZp"
      }
    },
    {
      "cell_type": "markdown",
      "source": [
        "Now, we will compute average degree ($c$), density ($\\rho$), and number of walk of length 3 ($L_3$) of **complete graph on 6 nodes** ($K_6$) and **complete bipartite graph on 6 nodes** ($K_{3,3}$).\n",
        "\n",
        "First, we use library `networkx` to construst the graphs and visualize them."
      ],
      "metadata": {
        "id": "v34IuX1PPPvW"
      }
    },
    {
      "cell_type": "code",
      "metadata": {
        "id": "6WJmdYwP_qux",
        "colab": {
          "base_uri": "https://localhost:8080/",
          "height": 248
        },
        "outputId": "1eacf90d-e812-4572-bc83-2a4501acdcba"
      },
      "source": [
        "import networkx as nx\n",
        "import matplotlib.pyplot as plt\n",
        "import numpy as np\n",
        "from networkx.algorithms import bipartite\n",
        "from networkx.drawing.layout import bipartite_layout\n",
        "\n",
        "GList = [nx.complete_graph(6)] # K6\n",
        "\n",
        "G = nx.Graph() # K3,3\n",
        "G.add_nodes_from([0, 1, 2], bipartite=0)\n",
        "G.add_nodes_from([3, 4, 5], bipartite=1)\n",
        "G.add_edges_from([(0,3),(0,4),(0,5),(1,3),(1,4),(1,5),(2,3),(2,4),(2,5)])\n",
        "GList.append(G)\n",
        "\n",
        "plt.subplot(121)\n",
        "nx.draw_circular(GList[0], node_size=300, node_color='red', with_labels=True, font_weight='bold')\n",
        "plt.subplot(122)\n",
        "bottom_nodes, top_nodes = bipartite.sets(GList[1])\n",
        "pos = bipartite_layout(GList[1], top_nodes)\n",
        "nx.draw(GList[1], pos=pos, node_size=300, node_color='red', with_labels=True, font_weight='bold')"
      ],
      "execution_count": 20,
      "outputs": [
        {
          "output_type": "display_data",
          "data": {
            "image/png": "[encoded data removed]",
            "text/plain": [
              "<Figure size 432x288 with 2 Axes>"
            ]
          },
          "metadata": {}
        }
      ]
    },
    {
      "cell_type": "markdown",
      "source": [
        "Then, we construct their adjacency matrixs and apply formulas discussed in Question #1. Note that $L_3 = \\text{tr}(A^3)$ as mentioned in the previous assignment."
      ],
      "metadata": {
        "id": "FXP84dFWQF3Q"
      }
    },
    {
      "cell_type": "code",
      "source": [
        "cList = []\n",
        "rhoList = []\n",
        "L3List = []\n",
        "for G in GList:\n",
        "  cList.append(2. * G.number_of_edges() / G.number_of_nodes())\n",
        "  rhoList.append(cList[-1] / (G.number_of_nodes() - 1))\n",
        "  A = nx.adjacency_matrix(G).todense()\n",
        "  L3List.append(np.trace(A**3))"
      ],
      "metadata": {
        "id": "WmofzTXFQnuq"
      },
      "execution_count": 21,
      "outputs": []
    },
    {
      "cell_type": "code",
      "source": [
        "GName = [\" K6 \", \" K3,3 \"]\n",
        "for name, c, rho, L3 in zip(GName, cList, rhoList, L3List):\n",
        "  print(\"#\"*10 + name + \"#\"*10)\n",
        "  print(f\"Average degree = {c}\")\n",
        "  print(f\"Density = {rho}\")\n",
        "  print(f\"L3 = {L3}\")"
      ],
      "metadata": {
        "colab": {
          "base_uri": "https://localhost:8080/"
        },
        "id": "clbHxFRKTqYe",
        "outputId": "ffad499b-7dbb-40bb-94d1-3497f15ae4a5"
      },
      "execution_count": 22,
      "outputs": [
        {
          "output_type": "stream",
          "name": "stdout",
          "text": [
            "########## K6 ##########\n",
            "Average degree = 5.0\n",
            "Density = 1.0\n",
            "L3 = 120\n",
            "########## K3,3 ##########\n",
            "Average degree = 3.0\n",
            "Density = 0.6\n",
            "L3 = 0\n"
          ]
        }
      ]
    },
    {
      "cell_type": "markdown",
      "source": [
        "## Question #3 & #4"
      ],
      "metadata": {
        "id": "OTSf6sRUVn6i"
      }
    },
    {
      "cell_type": "markdown",
      "source": [
        "According to Kuratowski's theorem, every non-planar graphs must contain at least one subgraph that is an expansion of $K_5$ or $K_{3,3}$. Therefore, we can conclude that:\n",
        "\n",
        "1. Since $K_6$ is a complete graph, every combinations of 5 nodes is a 5-clique, i.e. $K_5$. Therefore, it is not planar.\n",
        "2. Since $K_{3,3}$ is a subgraph of itself, it is obviously not planar."
      ],
      "metadata": {
        "id": "raElpBp4WmFA"
      }
    }
  ]
}