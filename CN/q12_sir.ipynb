{
  "nbformat": 4,
  "nbformat_minor": 0,
  "metadata": {
    "colab": {
      "name": "sir.ipynb",
      "provenance": []
    },
    "kernelspec": {
      "name": "python3",
      "display_name": "Python 3"
    }
  },
  "cells": [
    {
      "cell_type": "markdown",
      "source": [
        "#Quiz #12\n",
        "This notebook is created by Chinchuthakun Worameth as a part of Complex Network (ART.T462) at Tokyo Institute of Technology taught in Fall semester 2021 by Prof. Murata Tsuyoshi. It contains SIR model simulations of (a) complete graph (clique), (b) star graph, (c) cycle graph, (d) barbell graph, and (e) lollipop graph with the same parameters.\n"
      ],
      "metadata": {
        "id": "o9Z_YajuBTRV"
      }
    },
    {
      "cell_type": "markdown",
      "metadata": {
        "id": "FaTcORi1yGkJ"
      },
      "source": [
        "SIR model\n",
        "\n",
        "https://ndlib.readthedocs.io/en/latest/tutorial.html"
      ]
    },
    {
      "cell_type": "markdown",
      "source": [
        "## 1. Simulations (#1) "
      ],
      "metadata": {
        "id": "MGiOZ-sCB2_F"
      }
    },
    {
      "cell_type": "code",
      "source": [
        "# install ndlib and bokeh\n",
        "!pip install -q ndlib\n",
        "!pip install -q bokeh"
      ],
      "metadata": {
        "colab": {
          "base_uri": "https://localhost:8080/"
        },
        "id": "jyCAG9FOB8wT",
        "outputId": "276ec445-42cd-40d6-a44f-bdac843d58fa"
      },
      "execution_count": 1,
      "outputs": [
        {
          "output_type": "stream",
          "name": "stdout",
          "text": [
            "\u001b[K     |████████████████████████████████| 110 kB 15.8 MB/s \n",
            "\u001b[K     |████████████████████████████████| 3.1 MB 75.6 MB/s \n",
            "\u001b[?25h"
          ]
        }
      ]
    },
    {
      "cell_type": "code",
      "source": [
        "import networkx as nx\n",
        "import matplotlib.pyplot as plt\n",
        "import ndlib.models.epidemics as ep\n",
        "import ndlib.models.ModelConfig as mc\n",
        "from bokeh.io import output_notebook, show\n",
        "from ndlib.viz.bokeh.DiffusionTrend import DiffusionTrend\n",
        "from ndlib.viz.bokeh.MultiPlot import MultiPlot"
      ],
      "metadata": {
        "id": "vukaIJzpB-9j"
      },
      "execution_count": 2,
      "outputs": []
    },
    {
      "cell_type": "code",
      "source": [
        "# Network Definition\n",
        "n = 1000\n",
        "p = 0.1\n",
        "name = [\"erdos-renyi\", \"complete\", \"star\", \"cycle\", \"barbell\", \"lollipop\"]\n",
        "graphs = [\n",
        "  nx.erdos_renyi_graph(n, p),\n",
        "  nx.complete_graph(n),\n",
        "  nx.star_graph(n),\n",
        "  nx.cycle_graph(n),\n",
        "  nx.barbell_graph(n//2, n-n//2),\n",
        "  nx.lollipop_graph(n//2, n-n//2),\n",
        "]"
      ],
      "metadata": {
        "id": "-gKj8k05CXPW"
      },
      "execution_count": 3,
      "outputs": []
    },
    {
      "cell_type": "code",
      "source": [
        "# common model configuration\n",
        "config = mc.Configuration()\n",
        "config.add_model_parameter('beta', 0.001)\n",
        "config.add_model_parameter('gamma', 0.01)\n",
        "config.add_model_parameter(\"fraction_infected\", 0.05)"
      ],
      "metadata": {
        "id": "Am7aGzJpCErr"
      },
      "execution_count": 4,
      "outputs": []
    },
    {
      "cell_type": "code",
      "metadata": {
        "id": "mI1RwgUO4YYY",
        "outputId": "6ccf995c-2323-445a-d4bf-9b6a7602234a",
        "colab": {
          "base_uri": "https://localhost:8080/"
        }
      },
      "source": [
        "vm = MultiPlot()\n",
        "for g in graphs:\n",
        "  print(g.name)\n",
        "  # Model Selection and Configuration\n",
        "  model = ep.SIRModel(g)\n",
        "  model.set_initial_status(config)\n",
        "\n",
        "  # Simulation\n",
        "  iterations = model.iteration_bunch(200)\n",
        "  trends = model.build_trends(iterations)\n",
        "\n",
        "  # this is necessary for Jupyter Notebook\n",
        "  output_notebook()\n",
        "\n",
        "  viz = DiffusionTrend(model, trends)\n",
        "  p = viz.plot(width=400, height=400)\n",
        "  vm.add_plot(p)"
      ],
      "execution_count": 5,
      "outputs": [
        {
          "output_type": "stream",
          "name": "stdout",
          "text": [
            "\n"
          ]
        },
        {
          "output_type": "stream",
          "name": "stderr",
          "text": [
            "BokehDeprecationWarning: 'legend' keyword is deprecated, use explicit 'legend_label', 'legend_field', or 'legend_group' keywords instead\n",
            "BokehDeprecationWarning: 'legend' keyword is deprecated, use explicit 'legend_label', 'legend_field', or 'legend_group' keywords instead\n",
            "BokehDeprecationWarning: 'legend' keyword is deprecated, use explicit 'legend_label', 'legend_field', or 'legend_group' keywords instead\n"
          ]
        },
        {
          "output_type": "stream",
          "name": "stdout",
          "text": [
            "\n"
          ]
        },
        {
          "output_type": "stream",
          "name": "stderr",
          "text": [
            "BokehDeprecationWarning: 'legend' keyword is deprecated, use explicit 'legend_label', 'legend_field', or 'legend_group' keywords instead\n",
            "BokehDeprecationWarning: 'legend' keyword is deprecated, use explicit 'legend_label', 'legend_field', or 'legend_group' keywords instead\n",
            "BokehDeprecationWarning: 'legend' keyword is deprecated, use explicit 'legend_label', 'legend_field', or 'legend_group' keywords instead\n"
          ]
        },
        {
          "output_type": "stream",
          "name": "stdout",
          "text": [
            "\n"
          ]
        },
        {
          "output_type": "stream",
          "name": "stderr",
          "text": [
            "BokehDeprecationWarning: 'legend' keyword is deprecated, use explicit 'legend_label', 'legend_field', or 'legend_group' keywords instead\n",
            "BokehDeprecationWarning: 'legend' keyword is deprecated, use explicit 'legend_label', 'legend_field', or 'legend_group' keywords instead\n",
            "BokehDeprecationWarning: 'legend' keyword is deprecated, use explicit 'legend_label', 'legend_field', or 'legend_group' keywords instead\n"
          ]
        },
        {
          "output_type": "stream",
          "name": "stdout",
          "text": [
            "\n"
          ]
        },
        {
          "output_type": "stream",
          "name": "stderr",
          "text": [
            "BokehDeprecationWarning: 'legend' keyword is deprecated, use explicit 'legend_label', 'legend_field', or 'legend_group' keywords instead\n",
            "BokehDeprecationWarning: 'legend' keyword is deprecated, use explicit 'legend_label', 'legend_field', or 'legend_group' keywords instead\n",
            "BokehDeprecationWarning: 'legend' keyword is deprecated, use explicit 'legend_label', 'legend_field', or 'legend_group' keywords instead\n"
          ]
        },
        {
          "output_type": "stream",
          "name": "stdout",
          "text": [
            "\n"
          ]
        },
        {
          "output_type": "stream",
          "name": "stderr",
          "text": [
            "BokehDeprecationWarning: 'legend' keyword is deprecated, use explicit 'legend_label', 'legend_field', or 'legend_group' keywords instead\n",
            "BokehDeprecationWarning: 'legend' keyword is deprecated, use explicit 'legend_label', 'legend_field', or 'legend_group' keywords instead\n",
            "BokehDeprecationWarning: 'legend' keyword is deprecated, use explicit 'legend_label', 'legend_field', or 'legend_group' keywords instead\n"
          ]
        },
        {
          "output_type": "stream",
          "name": "stdout",
          "text": [
            "\n"
          ]
        },
        {
          "output_type": "stream",
          "name": "stderr",
          "text": [
            "BokehDeprecationWarning: 'legend' keyword is deprecated, use explicit 'legend_label', 'legend_field', or 'legend_group' keywords instead\n",
            "BokehDeprecationWarning: 'legend' keyword is deprecated, use explicit 'legend_label', 'legend_field', or 'legend_group' keywords instead\n",
            "BokehDeprecationWarning: 'legend' keyword is deprecated, use explicit 'legend_label', 'legend_field', or 'legend_group' keywords instead\n"
          ]
        }
      ]
    },
    {
      "cell_type": "markdown",
      "source": [
        "## 2. Diffusion Trend (#2)"
      ],
      "metadata": {
        "id": "CCLF_nVCJOj3"
      }
    },
    {
      "cell_type": "code",
      "source": [
        "print(\"graph order: \", name)\n",
        "m = vm.plot(ncols=6)\n",
        "show(m)"
      ],
      "metadata": {
        "colab": {
          "base_uri": "https://localhost:8080/",
          "height": 484
        },
        "id": "wqDWS_hIFhh3",
        "outputId": "6bebe05d-9223-4de6-b81c-5c6c9f321f35"
      },
      "execution_count": 7,
      "outputs": [
        {
          "output_type": "stream",
          "name": "stdout",
          "text": [
            "graph order:  ['erdos-renyi', 'complete', 'star', 'cycle', 'barbell', 'lollipop']\n"
          ]
        },
        {
          "output_type": "display_data",
          "data": {
            "application/javascript": [
              "\n",
              "(function(root) {\n",
              "  function now() {\n",
              "    return new Date();\n",
              "  }\n",
              "\n",
              "  var force = true;\n",
              "\n",
              "  if (typeof root._bokeh_onload_callbacks === \"undefined\" || force === true) {\n",
              "    root._bokeh_onload_callbacks = [];\n",
              "    root._bokeh_is_loading = undefined;\n",
              "  }\n",
              "\n",
              "  var JS_MIME_TYPE = 'application/javascript';\n",
              "  var HTML_MIME_TYPE = 'text/html';\n",
              "  var EXEC_MIME_TYPE = 'application/vnd.bokehjs_exec.v0+json';\n",
              "  var CLASS_NAME = 'output_bokeh rendered_html';\n",
              "\n",
              "  /**\n",
              "   * Render data to the DOM node\n",
              "   */\n",
              "  function render(props, node) {\n",
              "    var script = document.createElement(\"script\");\n",
              "    node.appendChild(script);\n",
              "  }\n",
              "\n",
              "  /**\n",
              "   * Handle when an output is cleared or removed\n",
              "   */\n",
              "  function handleClearOutput(event, handle) {\n",
              "    var cell = handle.cell;\n",
              "\n",
              "    var id = cell.output_area._bokeh_element_id;\n",
              "    var server_id = cell.output_area._bokeh_server_id;\n",
              "    // Clean up Bokeh references\n",
              "    if (id != null && id in Bokeh.index) {\n",
              "      Bokeh.index[id].model.document.clear();\n",
              "      delete Bokeh.index[id];\n",
              "    }\n",
              "\n",
              "    if (server_id !== undefined) {\n",
              "      // Clean up Bokeh references\n",
              "      var cmd = \"from bokeh.io.state import curstate; print(curstate().uuid_to_server['\" + server_id + \"'].get_sessions()[0].document.roots[0]._id)\";\n",
              "      cell.notebook.kernel.execute(cmd, {\n",
              "        iopub: {\n",
              "          output: function(msg) {\n",
              "            var id = msg.content.text.trim();\n",
              "            if (id in Bokeh.index) {\n",
              "              Bokeh.index[id].model.document.clear();\n",
              "              delete Bokeh.index[id];\n",
              "            }\n",
              "          }\n",
              "        }\n",
              "      });\n",
              "      // Destroy server and session\n",
              "      var cmd = \"import bokeh.io.notebook as ion; ion.destroy_server('\" + server_id + \"')\";\n",
              "      cell.notebook.kernel.execute(cmd);\n",
              "    }\n",
              "  }\n",
              "\n",
              "  /**\n",
              "   * Handle when a new output is added\n",
              "   */\n",
              "  function handleAddOutput(event, handle) {\n",
              "    var output_area = handle.output_area;\n",
              "    var output = handle.output;\n",
              "\n",
              "    // limit handleAddOutput to display_data with EXEC_MIME_TYPE content only\n",
              "    if ((output.output_type != \"display_data\") || (!Object.prototype.hasOwnProperty.call(output.data, EXEC_MIME_TYPE))) {\n",
              "      return\n",
              "    }\n",
              "\n",
              "    var toinsert = output_area.element.find(\".\" + CLASS_NAME.split(' ')[0]);\n",
              "\n",
              "    if (output.metadata[EXEC_MIME_TYPE][\"id\"] !== undefined) {\n",
              "      toinsert[toinsert.length - 1].firstChild.textContent = output.data[JS_MIME_TYPE];\n",
              "      // store reference to embed id on output_area\n",
              "      output_area._bokeh_element_id = output.metadata[EXEC_MIME_TYPE][\"id\"];\n",
              "    }\n",
              "    if (output.metadata[EXEC_MIME_TYPE][\"server_id\"] !== undefined) {\n",
              "      var bk_div = document.createElement(\"div\");\n",
              "      bk_div.innerHTML = output.data[HTML_MIME_TYPE];\n",
              "      var script_attrs = bk_div.children[0].attributes;\n",
              "      for (var i = 0; i < script_attrs.length; i++) {\n",
              "        toinsert[toinsert.length - 1].firstChild.setAttribute(script_attrs[i].name, script_attrs[i].value);\n",
              "        toinsert[toinsert.length - 1].firstChild.textContent = bk_div.children[0].textContent\n",
              "      }\n",
              "      // store reference to server id on output_area\n",
              "      output_area._bokeh_server_id = output.metadata[EXEC_MIME_TYPE][\"server_id\"];\n",
              "    }\n",
              "  }\n",
              "\n",
              "  function register_renderer(events, OutputArea) {\n",
              "\n",
              "    function append_mime(data, metadata, element) {\n",
              "      // create a DOM node to render to\n",
              "      var toinsert = this.create_output_subarea(\n",
              "        metadata,\n",
              "        CLASS_NAME,\n",
              "        EXEC_MIME_TYPE\n",
              "      );\n",
              "      this.keyboard_manager.register_events(toinsert);\n",
              "      // Render to node\n",
              "      var props = {data: data, metadata: metadata[EXEC_MIME_TYPE]};\n",
              "      render(props, toinsert[toinsert.length - 1]);\n",
              "      element.append(toinsert);\n",
              "      return toinsert\n",
              "    }\n",
              "\n",
              "    /* Handle when an output is cleared or removed */\n",
              "    events.on('clear_output.CodeCell', handleClearOutput);\n",
              "    events.on('delete.Cell', handleClearOutput);\n",
              "\n",
              "    /* Handle when a new output is added */\n",
              "    events.on('output_added.OutputArea', handleAddOutput);\n",
              "\n",
              "    /**\n",
              "     * Register the mime type and append_mime function with output_area\n",
              "     */\n",
              "    OutputArea.prototype.register_mime_type(EXEC_MIME_TYPE, append_mime, {\n",
              "      /* Is output safe? */\n",
              "      safe: true,\n",
              "      /* Index of renderer in `output_area.display_order` */\n",
              "      index: 0\n",
              "    });\n",
              "  }\n",
              "\n",
              "  // register the mime type if in Jupyter Notebook environment and previously unregistered\n",
              "  if (root.Jupyter !== undefined) {\n",
              "    var events = require('base/js/events');\n",
              "    var OutputArea = require('notebook/js/outputarea').OutputArea;\n",
              "\n",
              "    if (OutputArea.prototype.mime_types().indexOf(EXEC_MIME_TYPE) == -1) {\n",
              "      register_renderer(events, OutputArea);\n",
              "    }\n",
              "  }\n",
              "\n",
              "  \n",
              "  if (typeof (root._bokeh_timeout) === \"undefined\" || force === true) {\n",
              "    root._bokeh_timeout = Date.now() + 5000;\n",
              "    root._bokeh_failed_load = false;\n",
              "  }\n",
              "\n",
              "  var NB_LOAD_WARNING = {'data': {'text/html':\n",
              "     \"<div style='background-color: #fdd'>\\n\"+\n",
              "     \"<p>\\n\"+\n",
              "     \"BokehJS does not appear to have successfully loaded. If loading BokehJS from CDN, this \\n\"+\n",
              "     \"may be due to a slow or bad network connection. Possible fixes:\\n\"+\n",
              "     \"</p>\\n\"+\n",
              "     \"<ul>\\n\"+\n",
              "     \"<li>re-rerun `output_notebook()` to attempt to load from CDN again, or</li>\\n\"+\n",
              "     \"<li>use INLINE resources instead, as so:</li>\\n\"+\n",
              "     \"</ul>\\n\"+\n",
              "     \"<code>\\n\"+\n",
              "     \"from bokeh.resources import INLINE\\n\"+\n",
              "     \"output_notebook(resources=INLINE)\\n\"+\n",
              "     \"</code>\\n\"+\n",
              "     \"</div>\"}};\n",
              "\n",
              "  function display_loaded() {\n",
              "    var el = document.getElementById(null);\n",
              "    if (el != null) {\n",
              "      el.textContent = \"BokehJS is loading...\";\n",
              "    }\n",
              "    if (root.Bokeh !== undefined) {\n",
              "      if (el != null) {\n",
              "        el.textContent = \"BokehJS \" + root.Bokeh.version + \" successfully loaded.\";\n",
              "      }\n",
              "    } else if (Date.now() < root._bokeh_timeout) {\n",
              "      setTimeout(display_loaded, 100)\n",
              "    }\n",
              "  }\n",
              "\n",
              "\n",
              "  function run_callbacks() {\n",
              "    try {\n",
              "      root._bokeh_onload_callbacks.forEach(function(callback) {\n",
              "        if (callback != null)\n",
              "          callback();\n",
              "      });\n",
              "    } finally {\n",
              "      delete root._bokeh_onload_callbacks\n",
              "    }\n",
              "    console.debug(\"Bokeh: all callbacks have finished\");\n",
              "  }\n",
              "\n",
              "  function load_libs(css_urls, js_urls, callback) {\n",
              "    if (css_urls == null) css_urls = [];\n",
              "    if (js_urls == null) js_urls = [];\n",
              "\n",
              "    root._bokeh_onload_callbacks.push(callback);\n",
              "    if (root._bokeh_is_loading > 0) {\n",
              "      console.debug(\"Bokeh: BokehJS is being loaded, scheduling callback at\", now());\n",
              "      return null;\n",
              "    }\n",
              "    if (js_urls == null || js_urls.length === 0) {\n",
              "      run_callbacks();\n",
              "      return null;\n",
              "    }\n",
              "    console.debug(\"Bokeh: BokehJS not loaded, scheduling load and callback at\", now());\n",
              "    root._bokeh_is_loading = css_urls.length + js_urls.length;\n",
              "\n",
              "    function on_load() {\n",
              "      root._bokeh_is_loading--;\n",
              "      if (root._bokeh_is_loading === 0) {\n",
              "        console.debug(\"Bokeh: all BokehJS libraries/stylesheets loaded\");\n",
              "        run_callbacks()\n",
              "      }\n",
              "    }\n",
              "\n",
              "    function on_error(url) {\n",
              "      console.error(\"failed to load \" + url);\n",
              "    }\n",
              "\n",
              "    for (let i = 0; i < css_urls.length; i++) {\n",
              "      const url = css_urls[i];\n",
              "      const element = document.createElement(\"link\");\n",
              "      element.onload = on_load;\n",
              "      element.onerror = on_error.bind(null, url);\n",
              "      element.rel = \"stylesheet\";\n",
              "      element.type = \"text/css\";\n",
              "      element.href = url;\n",
              "      console.debug(\"Bokeh: injecting link tag for BokehJS stylesheet: \", url);\n",
              "      document.body.appendChild(element);\n",
              "    }\n",
              "\n",
              "    const hashes = {\"https://cdn.bokeh.org/bokeh/release/bokeh-2.3.3.min.js\": \"dM3QQsP+wXdHg42wTqW85BjZQdLNNIXqlPw/BgKoExPmTG7ZLML4EGqLMfqHT6ON\", \"https://cdn.bokeh.org/bokeh/release/bokeh-tables-2.3.3.min.js\": \"8x57I4YuIfu8XyZfFo0XVr2WAT8EK4rh/uDe3wF7YuW2FNUSNEpJbsPaB1nJ2fz2\", \"https://cdn.bokeh.org/bokeh/release/bokeh-widgets-2.3.3.min.js\": \"3QTqdz9LyAm2i0sG5XTePsHec3UHWwVsrOL68SYRoAXsafvfAyqtQ+h440+qIBhS\"};\n",
              "\n",
              "    for (let i = 0; i < js_urls.length; i++) {\n",
              "      const url = js_urls[i];\n",
              "      const element = document.createElement('script');\n",
              "      element.onload = on_load;\n",
              "      element.onerror = on_error.bind(null, url);\n",
              "      element.async = false;\n",
              "      element.src = url;\n",
              "      if (url in hashes) {\n",
              "        element.crossOrigin = \"anonymous\";\n",
              "        element.integrity = \"sha384-\" + hashes[url];\n",
              "      }\n",
              "      console.debug(\"Bokeh: injecting script tag for BokehJS library: \", url);\n",
              "      document.head.appendChild(element);\n",
              "    }\n",
              "  };\n",
              "\n",
              "  function inject_raw_css(css) {\n",
              "    const element = document.createElement(\"style\");\n",
              "    element.appendChild(document.createTextNode(css));\n",
              "    document.body.appendChild(element);\n",
              "  }\n",
              "\n",
              "  \n",
              "  var js_urls = [\"https://cdn.bokeh.org/bokeh/release/bokeh-2.3.3.min.js\", \"https://cdn.bokeh.org/bokeh/release/bokeh-widgets-2.3.3.min.js\", \"https://cdn.bokeh.org/bokeh/release/bokeh-tables-2.3.3.min.js\"];\n",
              "  var css_urls = [];\n",
              "  \n",
              "\n",
              "  var inline_js = [\n",
              "    function(Bokeh) {\n",
              "      Bokeh.set_log_level(\"info\");\n",
              "    },\n",
              "    function(Bokeh) {\n",
              "    \n",
              "    \n",
              "    }\n",
              "  ];\n",
              "\n",
              "  function run_inline_js() {\n",
              "    \n",
              "    if (root.Bokeh !== undefined || force === true) {\n",
              "      \n",
              "    for (var i = 0; i < inline_js.length; i++) {\n",
              "      inline_js[i].call(root, root.Bokeh);\n",
              "    }\n",
              "    } else if (Date.now() < root._bokeh_timeout) {\n",
              "      setTimeout(run_inline_js, 100);\n",
              "    } else if (!root._bokeh_failed_load) {\n",
              "      console.log(\"Bokeh: BokehJS failed to load within specified timeout.\");\n",
              "      root._bokeh_failed_load = true;\n",
              "    } else if (force !== true) {\n",
              "      var cell = $(document.getElementById(null)).parents('.cell').data().cell;\n",
              "      cell.output_area.append_execute_result(NB_LOAD_WARNING)\n",
              "    }\n",
              "\n",
              "  }\n",
              "\n",
              "  if (root._bokeh_is_loading === 0) {\n",
              "    console.debug(\"Bokeh: BokehJS loaded, going straight to plotting\");\n",
              "    run_inline_js();\n",
              "  } else {\n",
              "    load_libs(css_urls, js_urls, function() {\n",
              "      console.debug(\"Bokeh: BokehJS plotting callback run at\", now());\n",
              "      run_inline_js();\n",
              "    });\n",
              "  }\n",
              "}(window));"
            ],
            "application/vnd.bokehjs_load.v0+json": "\n(function(root) {\n  function now() {\n    return new Date();\n  }\n\n  var force = true;\n\n  if (typeof root._bokeh_onload_callbacks === \"undefined\" || force === true) {\n    root._bokeh_onload_callbacks = [];\n    root._bokeh_is_loading = undefined;\n  }\n\n  \n\n  \n  if (typeof (root._bokeh_timeout) === \"undefined\" || force === true) {\n    root._bokeh_timeout = Date.now() + 5000;\n    root._bokeh_failed_load = false;\n  }\n\n  var NB_LOAD_WARNING = {'data': {'text/html':\n     \"<div style='background-color: #fdd'>\\n\"+\n     \"<p>\\n\"+\n     \"BokehJS does not appear to have successfully loaded. If loading BokehJS from CDN, this \\n\"+\n     \"may be due to a slow or bad network connection. Possible fixes:\\n\"+\n     \"</p>\\n\"+\n     \"<ul>\\n\"+\n     \"<li>re-rerun `output_notebook()` to attempt to load from CDN again, or</li>\\n\"+\n     \"<li>use INLINE resources instead, as so:</li>\\n\"+\n     \"</ul>\\n\"+\n     \"<code>\\n\"+\n     \"from bokeh.resources import INLINE\\n\"+\n     \"output_notebook(resources=INLINE)\\n\"+\n     \"</code>\\n\"+\n     \"</div>\"}};\n\n  function display_loaded() {\n    var el = document.getElementById(null);\n    if (el != null) {\n      el.textContent = \"BokehJS is loading...\";\n    }\n    if (root.Bokeh !== undefined) {\n      if (el != null) {\n        el.textContent = \"BokehJS \" + root.Bokeh.version + \" successfully loaded.\";\n      }\n    } else if (Date.now() < root._bokeh_timeout) {\n      setTimeout(display_loaded, 100)\n    }\n  }\n\n\n  function run_callbacks() {\n    try {\n      root._bokeh_onload_callbacks.forEach(function(callback) {\n        if (callback != null)\n          callback();\n      });\n    } finally {\n      delete root._bokeh_onload_callbacks\n    }\n    console.debug(\"Bokeh: all callbacks have finished\");\n  }\n\n  function load_libs(css_urls, js_urls, callback) {\n    if (css_urls == null) css_urls = [];\n    if (js_urls == null) js_urls = [];\n\n    root._bokeh_onload_callbacks.push(callback);\n    if (root._bokeh_is_loading > 0) {\n      console.debug(\"Bokeh: BokehJS is being loaded, scheduling callback at\", now());\n      return null;\n    }\n    if (js_urls == null || js_urls.length === 0) {\n      run_callbacks();\n      return null;\n    }\n    console.debug(\"Bokeh: BokehJS not loaded, scheduling load and callback at\", now());\n    root._bokeh_is_loading = css_urls.length + js_urls.length;\n\n    function on_load() {\n      root._bokeh_is_loading--;\n      if (root._bokeh_is_loading === 0) {\n        console.debug(\"Bokeh: all BokehJS libraries/stylesheets loaded\");\n        run_callbacks()\n      }\n    }\n\n    function on_error(url) {\n      console.error(\"failed to load \" + url);\n    }\n\n    for (let i = 0; i < css_urls.length; i++) {\n      const url = css_urls[i];\n      const element = document.createElement(\"link\");\n      element.onload = on_load;\n      element.onerror = on_error.bind(null, url);\n      element.rel = \"stylesheet\";\n      element.type = \"text/css\";\n      element.href = url;\n      console.debug(\"Bokeh: injecting link tag for BokehJS stylesheet: \", url);\n      document.body.appendChild(element);\n    }\n\n    const hashes = {\"https://cdn.bokeh.org/bokeh/release/bokeh-2.3.3.min.js\": \"dM3QQsP+wXdHg42wTqW85BjZQdLNNIXqlPw/BgKoExPmTG7ZLML4EGqLMfqHT6ON\", \"https://cdn.bokeh.org/bokeh/release/bokeh-tables-2.3.3.min.js\": \"8x57I4YuIfu8XyZfFo0XVr2WAT8EK4rh/uDe3wF7YuW2FNUSNEpJbsPaB1nJ2fz2\", \"https://cdn.bokeh.org/bokeh/release/bokeh-widgets-2.3.3.min.js\": \"3QTqdz9LyAm2i0sG5XTePsHec3UHWwVsrOL68SYRoAXsafvfAyqtQ+h440+qIBhS\"};\n\n    for (let i = 0; i < js_urls.length; i++) {\n      const url = js_urls[i];\n      const element = document.createElement('script');\n      element.onload = on_load;\n      element.onerror = on_error.bind(null, url);\n      element.async = false;\n      element.src = url;\n      if (url in hashes) {\n        element.crossOrigin = \"anonymous\";\n        element.integrity = \"sha384-\" + hashes[url];\n      }\n      console.debug(\"Bokeh: injecting script tag for BokehJS library: \", url);\n      document.head.appendChild(element);\n    }\n  };\n\n  function inject_raw_css(css) {\n    const element = document.createElement(\"style\");\n    element.appendChild(document.createTextNode(css));\n    document.body.appendChild(element);\n  }\n\n  \n  var js_urls = [\"https://cdn.bokeh.org/bokeh/release/bokeh-2.3.3.min.js\", \"https://cdn.bokeh.org/bokeh/release/bokeh-widgets-2.3.3.min.js\", \"https://cdn.bokeh.org/bokeh/release/bokeh-tables-2.3.3.min.js\"];\n  var css_urls = [];\n  \n\n  var inline_js = [\n    function(Bokeh) {\n      Bokeh.set_log_level(\"info\");\n    },\n    function(Bokeh) {\n    \n    \n    }\n  ];\n\n  function run_inline_js() {\n    \n    if (root.Bokeh !== undefined || force === true) {\n      \n    for (var i = 0; i < inline_js.length; i++) {\n      inline_js[i].call(root, root.Bokeh);\n    }\n    } else if (Date.now() < root._bokeh_timeout) {\n      setTimeout(run_inline_js, 100);\n    } else if (!root._bokeh_failed_load) {\n      console.log(\"Bokeh: BokehJS failed to load within specified timeout.\");\n      root._bokeh_failed_load = true;\n    } else if (force !== true) {\n      var cell = $(document.getElementById(null)).parents('.cell').data().cell;\n      cell.output_area.append_execute_result(NB_LOAD_WARNING)\n    }\n\n  }\n\n  if (root._bokeh_is_loading === 0) {\n    console.debug(\"Bokeh: BokehJS loaded, going straight to plotting\");\n    run_inline_js();\n  } else {\n    load_libs(css_urls, js_urls, function() {\n      console.debug(\"Bokeh: BokehJS plotting callback run at\", now());\n      run_inline_js();\n    });\n  }\n}(window));"
          },
          "metadata": {}
        },
        {
          "output_type": "display_data",
          "data": {
            "text/html": [
              "\n",
              "\n",
              "\n",
              "\n",
              "\n",
              "\n",
              "  <div class=\"bk-root\" id=\"932ad204-9a0d-4e88-8546-3b6abf82c428\" data-root-id=\"2287\"></div>\n"
            ]
          },
          "metadata": {}
        },
        {
          "output_type": "display_data",
          "data": {
            "application/javascript": [
              "(function(root) {\n",
              "  function embed_document(root) {\n",
              "    \n",
              "  var docs_json = {\"d5af9548-c1f1-470c-a4d1-58780b1290fc\":{\"defs\":[],\"roots\":{\"references\":[{\"attributes\":{\"children\":[{\"id\":\"2286\"},{\"id\":\"2284\"}]},\"id\":\"2287\",\"type\":\"Column\"},{\"attributes\":{\"axis\":{\"id\":\"1288\"},\"dimension\":1,\"grid_line_alpha\":0.5,\"ticker\":null},\"id\":\"1291\",\"type\":\"Grid\"},{\"attributes\":{},\"id\":\"1016\",\"type\":\"BasicTicker\"},{\"attributes\":{},\"id\":\"1367\",\"type\":\"DataRange1d\"},{\"attributes\":{},\"id\":\"1542\",\"type\":\"Selection\"},{\"attributes\":{\"axis\":{\"id\":\"1015\"},\"dimension\":1,\"grid_line_alpha\":0.5,\"ticker\":null},\"id\":\"1018\",\"type\":\"Grid\"},{\"attributes\":{},\"id\":\"1289\",\"type\":\"BasicTicker\"},{\"attributes\":{\"axis_label\":\"#Nodes\",\"formatter\":{\"id\":\"1044\"},\"major_label_policy\":{\"id\":\"1043\"},\"ticker\":{\"id\":\"1016\"}},\"id\":\"1015\",\"type\":\"LinearAxis\"},{\"attributes\":{\"axis_label\":\"#Nodes\",\"formatter\":{\"id\":\"1317\"},\"major_label_policy\":{\"id\":\"1316\"},\"ticker\":{\"id\":\"1289\"}},\"id\":\"1288\",\"type\":\"LinearAxis\"},{\"attributes\":{},\"id\":\"1471\",\"type\":\"BasicTicker\"},{\"attributes\":{\"align\":\"center\",\"text\":\"beta: 0.001, gamma: 0.01, fraction infected: 0.05, tp rate: 1\"},\"id\":\"1274\",\"type\":\"Title\"},{\"attributes\":{\"source\":{\"id\":\"1306\"}},\"id\":\"1310\",\"type\":\"CDSView\"},{\"attributes\":{\"active_multi\":null,\"tools\":[{\"id\":\"1292\"},{\"id\":\"1293\"},{\"id\":\"1294\"},{\"id\":\"1295\"},{\"id\":\"1296\"},{\"id\":\"1297\"}]},\"id\":\"1299\",\"type\":\"Toolbar\"},{\"attributes\":{\"active_multi\":null,\"tools\":[{\"id\":\"1019\"},{\"id\":\"1020\"},{\"id\":\"1021\"},{\"id\":\"1022\"},{\"id\":\"1023\"},{\"id\":\"1024\"}]},\"id\":\"1026\",\"type\":\"Toolbar\"},{\"attributes\":{\"data\":{\"x\":[0,1,2,3,4,5,6,7,8,9,10,11,12,13,14,15,16,17,18,19,20,21,22,23,24,25,26,27,28,29,30,31,32,33,34,35,36,37,38,39,40,41,42,43,44,45,46,47,48,49,50,51,52,53,54,55,56,57,58,59,60,61,62,63,64,65,66,67,68,69,70,71,72,73,74,75,76,77,78,79,80,81,82,83,84,85,86,87,88,89,90,91,92,93,94,95,96,97,98,99,100,101,102,103,104,105,106,107,108,109,110,111,112,113,114,115,116,117,118,119,120,121,122,123,124,125,126,127,128,129,130,131,132,133,134,135,136,137,138,139,140,141,142,143,144,145,146,147,148,149,150,151,152,153,154,155,156,157,158,159,160,161,162,163,164,165,166,167,168,169,170,171,172,173,174,175,176,177,178,179,180,181,182,183,184,185,186,187,188,189,190,191,192,193,194,195,196,197,198,199],\"y\":{\"__ndarray__\":\"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\",\"dtype\":\"float64\",\"order\":\"little\",\"shape\":[200]}},\"selected\":{\"id\":\"1319\"},\"selection_policy\":{\"id\":\"1320\"}},\"id\":\"1306\",\"type\":\"ColumnDataSource\"},{\"attributes\":{},\"id\":\"1292\",\"type\":\"PanTool\"},{\"attributes\":{},\"id\":\"1019\",\"type\":\"PanTool\"},{\"attributes\":{},\"id\":\"1293\",\"type\":\"WheelZoomTool\"},{\"attributes\":{},\"id\":\"1020\",\"type\":\"WheelZoomTool\"},{\"attributes\":{\"overlay\":{\"id\":\"1298\"}},\"id\":\"1294\",\"type\":\"BoxZoomTool\"},{\"attributes\":{\"overlay\":{\"id\":\"1025\"}},\"id\":\"1021\",\"type\":\"BoxZoomTool\"},{\"attributes\":{},\"id\":\"1295\",\"type\":\"SaveTool\"},{\"attributes\":{\"label\":{\"value\":\"Removed\"},\"renderers\":[{\"id\":\"1346\"}]},\"id\":\"1363\",\"type\":\"LegendItem\"},{\"attributes\":{},\"id\":\"1022\",\"type\":\"SaveTool\"},{\"attributes\":{},\"id\":\"1296\",\"type\":\"ResetTool\"},{\"attributes\":{},\"id\":\"1023\",\"type\":\"ResetTool\"},{\"attributes\":{\"label\":{\"value\":\"Removed\"},\"renderers\":[{\"id\":\"1255\"}]},\"id\":\"1272\",\"type\":\"LegendItem\"},{\"attributes\":{\"data_source\":{\"id\":\"1306\"},\"glyph\":{\"id\":\"1307\"},\"hover_glyph\":null,\"muted_glyph\":null,\"nonselection_glyph\":{\"id\":\"1308\"},\"view\":{\"id\":\"1310\"}},\"id\":\"1309\",\"type\":\"GlyphRenderer\"},{\"attributes\":{},\"id\":\"1297\",\"type\":\"HelpTool\"},{\"attributes\":{},\"id\":\"1024\",\"type\":\"HelpTool\"},{\"attributes\":{\"data_source\":{\"id\":\"1324\"},\"glyph\":{\"id\":\"1325\"},\"hover_glyph\":null,\"muted_glyph\":null,\"nonselection_glyph\":{\"id\":\"1326\"},\"view\":{\"id\":\"1328\"}},\"id\":\"1327\",\"type\":\"GlyphRenderer\"},{\"attributes\":{\"data\":{\"x\":[0,1,2,3,4,5,6,7,8,9,10,11,12,13,14,15,16,17,18,19,20,21,22,23,24,25,26,27,28,29,30,31,32,33,34,35,36,37,38,39,40,41,42,43,44,45,46,47,48,49,50,51,52,53,54,55,56,57,58,59,60,61,62,63,64,65,66,67,68,69,70,71,72,73,74,75,76,77,78,79,80,81,82,83,84,85,86,87,88,89,90,91,92,93,94,95,96,97,98,99,100,101,102,103,104,105,106,107,108,109,110,111,112,113,114,115,116,117,118,119,120,121,122,123,124,125,126,127,128,129,130,131,132,133,134,135,136,137,138,139,140,141,142,143,144,145,146,147,148,149,150,151,152,153,154,155,156,157,158,159,160,161,162,163,164,165,166,167,168,169,170,171,172,173,174,175,176,177,178,179,180,181,182,183,184,185,186,187,188,189,190,191,192,193,194,195,196,197,198,199],\"y\":{\"__ndarray__\":\"mpmZmZmZqT/6fmq8dJOoP/p+arx0k6g/+n5qvHSTqD/6fmq8dJOoP/p+arx0k6g/+n5qvHSTqD+q8dJNYhCoP6rx0k1iEKg/qvHSTWIQqD+q8dJNYhCoP6rx0k1iEKg/qvHSTWIQqD+q8dJNYhCoP1pkO99Pjac/WmQ730+Npz9aZDvfT42nPwrXo3A9Cqc/ukkMAiuHpj+6SQwCK4emP2q8dJMYBKY/Gy/dJAaBpT8bL90kBoGlPxsv3SQGgaU/Gy/dJAaBpT8bL90kBoGlPxsv3SQGgaU/Gy/dJAaBpT/LoUW28/2kP8uhRbbz/aQ/y6FFtvP9pD97FK5H4XqkP3sUrkfheqQ/y6FFtvP9pD/LoUW28/2kP8uhRbbz/aQ/exSuR+F6pD97FK5H4XqkP9v5fmq8dKM/2/l+arx0oz+LbOf7qfGiPzvfT42XbqI/i2zn+6nxoj+LbOf7qfGiP4ts5/up8aI/i2zn+6nxoj8730+Nl26iPzvfT42XbqI/7FG4HoXroT+cxCCwcmihP0w3iUFg5aA/nMQgsHJooT+cxCCwcmihP5zEILByaKE/7FG4HoXroT+cxCCwcmihP5zEILByaKE/TDeJQWDloD9MN4lBYOWgP0w3iUFg5aA/TDeJQWDloD9YObTIdr6fP1g5tMh2vp8/WDm0yHa+nz+4HoXrUbieP7gehetRuJ4/uB6F61G4nj+4HoXrUbieP7gehetRuJ4/uB6F61G4nj+4HoXrUbiePxkEVg4tsp0/GQRWDi2ynT8ZBFYOLbKdP3npJjEIrJw/eekmMQisnD956SYxCKycP3npJjEIrJw/eekmMQisnD956SYxCKycPzm0yHa+n5o/mpmZmZmZmT/6fmq8dJOYP7pJDAIrh5Y/ukkMAiuHlj+6SQwCK4eWP7pJDAIrh5Y/ukkMAiuHlj8bL90kBoGVPxsv3SQGgZU/Gy/dJAaBlT97FK5H4XqUP3sUrkfhepQ/exSuR+F6lD97FK5H4XqUP3sUrkfhepQ/exSuR+F6lD97FK5H4XqUP3sUrkfhepQ/Gy/dJAaBlT8bL90kBoGVPxsv3SQGgZU/Gy/dJAaBlT8bL90kBoGVPxsv3SQGgZU/exSuR+F6lD97FK5H4XqUP3sUrkfhepQ/2/l+arx0kz8730+Nl26SPzvfT42XbpI/O99PjZdukj8730+Nl26SPzvfT42XbpI/nMQgsHJokT8730+Nl26SPzvfT42XbpI/O99PjZdukj8730+Nl26SPzvfT42XbpI/O99PjZdukj8730+Nl26SP5zEILByaJE/nMQgsHJokT+cxCCwcmiRP5zEILByaJE/nMQgsHJokT+cxCCwcmiRP5zEILByaJE/nMQgsHJokT+cxCCwcmiRP/yp8dJNYpA//Knx0k1ikD/8qfHSTWKQP7gehetRuI4/eekmMQisjD956SYxCKyMP3npJjEIrIw/ObTIdr6fij85tMh2vp+KPzm0yHa+n4o/ObTIdr6fij956SYxCKyMP3npJjEIrIw/eekmMQisjD956SYxCKyMP3npJjEIrIw/ObTIdr6fij85tMh2vp+KP/p+arx0k4g/+n5qvHSTiD/6fmq8dJOIP/p+arx0k4g/+n5qvHSTiD/6fmq8dJOIP/p+arx0k4g/+n5qvHSTiD/6fmq8dJOIP/p+arx0k4g/+n5qvHSTiD+6SQwCK4eGP7pJDAIrh4Y/ukkMAiuHhj+6SQwCK4eGP7pJDAIrh4Y/ukkMAiuHhj+6SQwCK4eGP3sUrkfheoQ/exSuR+F6hD97FK5H4XqEP3sUrkfheoQ/exSuR+F6hD97FK5H4XqEP3sUrkfheoQ/exSuR+F6hD97FK5H4XqEP3sUrkfheoQ/exSuR+F6hD97FK5H4XqEP3sUrkfheoQ/exSuR+F6hD8730+Nl26CPzvfT42XboI/O99PjZdugj8730+Nl26CPzvfT42XboI/O99PjZdugj8730+Nl26CPzvfT42XboI/O99PjZdugj8730+Nl26CPzvfT42XboI//Knx0k1igD/8qfHSTWKAP/yp8dJNYoA/O99PjZdugj8730+Nl26CPzvfT42XboI/O99PjZdugj8730+Nl26CPw==\",\"dtype\":\"float64\",\"order\":\"little\",\"shape\":[200]}},\"selected\":{\"id\":\"1339\"},\"selection_policy\":{\"id\":\"1340\"}},\"id\":\"1324\",\"type\":\"ColumnDataSource\"},{\"attributes\":{},\"id\":\"1046\",\"type\":\"Selection\"},{\"attributes\":{\"line_alpha\":0.1,\"line_color\":\"#aec7e8\",\"line_width\":2,\"x\":{\"field\":\"x\"},\"y\":{\"field\":\"y\"}},\"id\":\"1326\",\"type\":\"Line\"},{\"attributes\":{},\"id\":\"1041\",\"type\":\"BasicTickFormatter\"},{\"attributes\":{\"source\":{\"id\":\"1324\"}},\"id\":\"1328\",\"type\":\"CDSView\"},{\"attributes\":{},\"id\":\"1040\",\"type\":\"AllLabels\"},{\"attributes\":{\"line_alpha\":0.5,\"line_color\":\"#aec7e8\",\"line_width\":2,\"x\":{\"field\":\"x\"},\"y\":{\"field\":\"y\"}},\"id\":\"1325\",\"type\":\"Line\"},{\"attributes\":{\"line_alpha\":0.1,\"line_color\":\"#1f77b4\",\"line_width\":2,\"x\":{\"field\":\"x\"},\"y\":{\"field\":\"y\"}},\"id\":\"1035\",\"type\":\"Line\"},{\"attributes\":{\"data\":{\"x\":[0,1,2,3,4,5,6,7,8,9,10,11,12,13,14,15,16,17,18,19,20,21,22,23,24,25,26,27,28,29,30,31,32,33,34,35,36,37,38,39,40,41,42,43,44,45,46,47,48,49,50,51,52,53,54,55,56,57,58,59,60,61,62,63,64,65,66,67,68,69,70,71,72,73,74,75,76,77,78,79,80,81,82,83,84,85,86,87,88,89,90,91,92,93,94,95,96,97,98,99,100,101,102,103,104,105,106,107,108,109,110,111,112,113,114,115,116,117,118,119,120,121,122,123,124,125,126,127,128,129,130,131,132,133,134,135,136,137,138,139,140,141,142,143,144,145,146,147,148,149,150,151,152,153,154,155,156,157,158,159,160,161,162,163,164,165,166,167,168,169,170,171,172,173,174,175,176,177,178,179,180,181,182,183,184,185,186,187,188,189,190,191,192,193,194,195,196,197,198,199],\"y\":{\"__ndarray__\":\"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\",\"dtype\":\"float64\",\"order\":\"little\",\"shape\":[200]}},\"selected\":{\"id\":\"1248\"},\"selection_policy\":{\"id\":\"1249\"}},\"id\":\"1233\",\"type\":\"ColumnDataSource\"},{\"attributes\":{\"text\":\"SIR - Diffusion Trend\"},\"id\":\"1038\",\"type\":\"Title\"},{\"attributes\":{},\"id\":\"1138\",\"type\":\"UnionRenderers\"},{\"attributes\":{\"data\":{\"x\":[0,1,2,3,4,5,6,7,8,9,10,11,12,13,14,15,16,17,18,19,20,21,22,23,24,25,26,27,28,29,30,31,32,33,34,35,36,37,38,39,40,41,42,43,44,45,46,47,48,49,50,51,52,53,54,55,56,57,58,59,60,61,62,63,64,65,66,67,68,69,70,71,72,73,74,75,76,77,78,79,80,81,82,83,84,85,86,87,88,89,90,91,92,93,94,95,96,97,98,99,100,101,102,103,104,105,106,107,108,109,110,111,112,113,114,115,116,117,118,119,120,121,122,123,124,125,126,127,128,129,130,131,132,133,134,135,136,137,138,139,140,141,142,143,144,145,146,147,148,149,150,151,152,153,154,155,156,157,158,159,160,161,162,163,164,165,166,167,168,169,170,171,172,173,174,175,176,177,178,179,180,181,182,183,184,185,186,187,188,189,190,191,192,193,194,195,196,197,198,199],\"y\":{\"__ndarray__\":\"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\",\"dtype\":\"float64\",\"order\":\"little\",\"shape\":[200]}},\"selected\":{\"id\":\"1451\"},\"selection_policy\":{\"id\":\"1452\"}},\"id\":\"1434\",\"type\":\"ColumnDataSource\"},{\"attributes\":{\"label\":{\"value\":\"Infected\"},\"renderers\":[{\"id\":\"1327\"}]},\"id\":\"1342\",\"type\":\"LegendItem\"},{\"attributes\":{\"items\":[{\"id\":\"1050\"},{\"id\":\"1069\"},{\"id\":\"1090\"}],\"orientation\":\"horizontal\"},\"id\":\"1049\",\"type\":\"Legend\"},{\"attributes\":{},\"id\":\"1320\",\"type\":\"UnionRenderers\"},{\"attributes\":{},\"id\":\"1502\",\"type\":\"UnionRenderers\"},{\"attributes\":{\"data_source\":{\"id\":\"1033\"},\"glyph\":{\"id\":\"1034\"},\"hover_glyph\":null,\"muted_glyph\":null,\"nonselection_glyph\":{\"id\":\"1035\"},\"view\":{\"id\":\"1037\"}},\"id\":\"1036\",\"type\":\"GlyphRenderer\"},{\"attributes\":{\"bottom_units\":\"screen\",\"fill_alpha\":0.5,\"fill_color\":\"lightgrey\",\"left_units\":\"screen\",\"level\":\"overlay\",\"line_alpha\":1.0,\"line_color\":\"black\",\"line_dash\":[4,4],\"line_width\":2,\"right_units\":\"screen\",\"syncable\":false,\"top_units\":\"screen\"},\"id\":\"1298\",\"type\":\"BoxAnnotation\"},{\"attributes\":{\"bottom_units\":\"screen\",\"fill_alpha\":0.5,\"fill_color\":\"lightgrey\",\"left_units\":\"screen\",\"level\":\"overlay\",\"line_alpha\":1.0,\"line_color\":\"black\",\"line_dash\":[4,4],\"line_width\":2,\"right_units\":\"screen\",\"syncable\":false,\"top_units\":\"screen\"},\"id\":\"1025\",\"type\":\"BoxAnnotation\"},{\"attributes\":{\"source\":{\"id\":\"1033\"}},\"id\":\"1037\",\"type\":\"CDSView\"},{\"attributes\":{},\"id\":\"1521\",\"type\":\"Selection\"},{\"attributes\":{},\"id\":\"1005\",\"type\":\"DataRange1d\"},{\"attributes\":{},\"id\":\"1043\",\"type\":\"AllLabels\"},{\"attributes\":{\"below\":[{\"id\":\"1193\"},{\"id\":\"1274\"}],\"center\":[{\"id\":\"1196\"},{\"id\":\"1200\"},{\"id\":\"1231\"}],\"height\":400,\"left\":[{\"id\":\"1197\"}],\"renderers\":[{\"id\":\"1218\"},{\"id\":\"1236\"},{\"id\":\"1255\"}],\"title\":{\"id\":\"1220\"},\"toolbar\":{\"id\":\"1208\"},\"toolbar_location\":null,\"width\":400,\"x_range\":{\"id\":\"1185\"},\"x_scale\":{\"id\":\"1189\"},\"y_range\":{\"id\":\"1187\"},\"y_scale\":{\"id\":\"1191\"}},\"id\":\"1184\",\"subtype\":\"Figure\",\"type\":\"Plot\"},{\"attributes\":{\"axis_label\":\"Iterations\",\"formatter\":{\"id\":\"1041\"},\"major_label_policy\":{\"id\":\"1040\"},\"ticker\":{\"id\":\"1012\"}},\"id\":\"1011\",\"type\":\"LinearAxis\"},{\"attributes\":{},\"id\":\"1044\",\"type\":\"BasicTickFormatter\"},{\"attributes\":{},\"id\":\"1009\",\"type\":\"LinearScale\"},{\"attributes\":{},\"id\":\"1094\",\"type\":\"DataRange1d\"},{\"attributes\":{\"text\":\"SIR - Diffusion Trend\"},\"id\":\"1311\",\"type\":\"Title\"},{\"attributes\":{\"line_alpha\":0.1,\"line_color\":\"#1f77b4\",\"line_width\":2,\"x\":{\"field\":\"x\"},\"y\":{\"field\":\"y\"}},\"id\":\"1308\",\"type\":\"Line\"},{\"attributes\":{},\"id\":\"1223\",\"type\":\"BasicTickFormatter\"},{\"attributes\":{},\"id\":\"1047\",\"type\":\"UnionRenderers\"},{\"attributes\":{},\"id\":\"1319\",\"type\":\"Selection\"},{\"attributes\":{},\"id\":\"1007\",\"type\":\"LinearScale\"},{\"attributes\":{},\"id\":\"1314\",\"type\":\"BasicTickFormatter\"},{\"attributes\":{\"axis\":{\"id\":\"1011\"},\"grid_line_alpha\":0.5,\"ticker\":null},\"id\":\"1014\",\"type\":\"Grid\"},{\"attributes\":{\"label\":{\"value\":\"Susceptible\"},\"renderers\":[{\"id\":\"1036\"}]},\"id\":\"1050\",\"type\":\"LegendItem\"},{\"attributes\":{},\"id\":\"1313\",\"type\":\"AllLabels\"},{\"attributes\":{\"below\":[{\"id\":\"1102\"},{\"id\":\"1183\"}],\"center\":[{\"id\":\"1105\"},{\"id\":\"1109\"},{\"id\":\"1140\"}],\"height\":400,\"left\":[{\"id\":\"1106\"}],\"renderers\":[{\"id\":\"1127\"},{\"id\":\"1145\"},{\"id\":\"1164\"}],\"title\":{\"id\":\"1129\"},\"toolbar\":{\"id\":\"1117\"},\"toolbar_location\":null,\"width\":400,\"x_range\":{\"id\":\"1094\"},\"x_scale\":{\"id\":\"1098\"},\"y_range\":{\"id\":\"1096\"},\"y_scale\":{\"id\":\"1100\"}},\"id\":\"1093\",\"subtype\":\"Figure\",\"type\":\"Plot\"},{\"attributes\":{},\"id\":\"1012\",\"type\":\"BasicTicker\"},{\"attributes\":{\"line_alpha\":0.5,\"line_color\":\"#1f77b4\",\"line_width\":2,\"x\":{\"field\":\"x\"},\"y\":{\"field\":\"y\"}},\"id\":\"1125\",\"type\":\"Line\"},{\"attributes\":{},\"id\":\"1096\",\"type\":\"DataRange1d\"},{\"attributes\":{\"label\":{\"value\":\"Susceptible\"},\"renderers\":[{\"id\":\"1218\"}]},\"id\":\"1232\",\"type\":\"LegendItem\"},{\"attributes\":{},\"id\":\"1316\",\"type\":\"AllLabels\"},{\"attributes\":{\"data\":{\"x\":[0,1,2,3,4,5,6,7,8,9,10,11,12,13,14,15,16,17,18,19,20,21,22,23,24,25,26,27,28,29,30,31,32,33,34,35,36,37,38,39,40,41,42,43,44,45,46,47,48,49,50,51,52,53,54,55,56,57,58,59,60,61,62,63,64,65,66,67,68,69,70,71,72,73,74,75,76,77,78,79,80,81,82,83,84,85,86,87,88,89,90,91,92,93,94,95,96,97,98,99,100,101,102,103,104,105,106,107,108,109,110,111,112,113,114,115,116,117,118,119,120,121,122,123,124,125,126,127,128,129,130,131,132,133,134,135,136,137,138,139,140,141,142,143,144,145,146,147,148,149,150,151,152,153,154,155,156,157,158,159,160,161,162,163,164,165,166,167,168,169,170,171,172,173,174,175,176,177,178,179,180,181,182,183,184,185,186,187,188,189,190,191,192,193,194,195,196,197,198,199],\"y\":{\"__ndarray__\":\"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\",\"dtype\":\"float64\",\"order\":\"little\",\"shape\":[200]}},\"selected\":{\"id\":\"1066\"},\"selection_policy\":{\"id\":\"1067\"}},\"id\":\"1051\",\"type\":\"ColumnDataSource\"},{\"attributes\":{},\"id\":\"1317\",\"type\":\"BasicTickFormatter\"},{\"attributes\":{\"line_alpha\":0.5,\"line_color\":\"#aec7e8\",\"line_width\":2,\"x\":{\"field\":\"x\"},\"y\":{\"field\":\"y\"}},\"id\":\"1052\",\"type\":\"Line\"},{\"attributes\":{},\"id\":\"1111\",\"type\":\"WheelZoomTool\"},{\"attributes\":{},\"id\":\"1388\",\"type\":\"HelpTool\"},{\"attributes\":{\"data_source\":{\"id\":\"1397\"},\"glyph\":{\"id\":\"1398\"},\"hover_glyph\":null,\"muted_glyph\":null,\"nonselection_glyph\":{\"id\":\"1399\"},\"view\":{\"id\":\"1401\"}},\"id\":\"1400\",\"type\":\"GlyphRenderer\"},{\"attributes\":{\"source\":{\"id\":\"1161\"}},\"id\":\"1165\",\"type\":\"CDSView\"},{\"attributes\":{\"axis_label\":\"#Nodes\",\"formatter\":{\"id\":\"1226\"},\"major_label_policy\":{\"id\":\"1225\"},\"ticker\":{\"id\":\"1198\"}},\"id\":\"1197\",\"type\":\"LinearAxis\"},{\"attributes\":{\"line_alpha\":0.1,\"line_color\":\"#aec7e8\",\"line_width\":2,\"x\":{\"field\":\"x\"},\"y\":{\"field\":\"y\"}},\"id\":\"1053\",\"type\":\"Line\"},{\"attributes\":{\"overlay\":{\"id\":\"1116\"}},\"id\":\"1112\",\"type\":\"BoxZoomTool\"},{\"attributes\":{\"axis_label\":\"#Nodes\",\"formatter\":{\"id\":\"1135\"},\"major_label_policy\":{\"id\":\"1134\"},\"ticker\":{\"id\":\"1107\"}},\"id\":\"1106\",\"type\":\"LinearAxis\"},{\"attributes\":{\"bottom_units\":\"screen\",\"fill_alpha\":0.5,\"fill_color\":\"lightgrey\",\"left_units\":\"screen\",\"level\":\"overlay\",\"line_alpha\":1.0,\"line_color\":\"black\",\"line_dash\":[4,4],\"line_width\":2,\"right_units\":\"screen\",\"syncable\":false,\"top_units\":\"screen\"},\"id\":\"1207\",\"type\":\"BoxAnnotation\"},{\"attributes\":{\"label\":{\"value\":\"Removed\"},\"renderers\":[{\"id\":\"1164\"}]},\"id\":\"1181\",\"type\":\"LegendItem\"},{\"attributes\":{\"axis\":{\"id\":\"1197\"},\"dimension\":1,\"grid_line_alpha\":0.5,\"ticker\":null},\"id\":\"1200\",\"type\":\"Grid\"},{\"attributes\":{\"align\":\"center\",\"text\":\"beta: 0.001, gamma: 0.01, fraction infected: 0.05, tp rate: 1\"},\"id\":\"1456\",\"type\":\"Title\"},{\"attributes\":{},\"id\":\"1226\",\"type\":\"BasicTickFormatter\"},{\"attributes\":{\"label\":{\"value\":\"Infected\"},\"renderers\":[{\"id\":\"1418\"}]},\"id\":\"1433\",\"type\":\"LegendItem\"},{\"attributes\":{},\"id\":\"1113\",\"type\":\"SaveTool\"},{\"attributes\":{\"text\":\"SIR - Diffusion Trend\"},\"id\":\"1493\",\"type\":\"Title\"},{\"attributes\":{\"data\":{\"x\":[0,1,2,3,4,5,6,7,8,9,10,11,12,13,14,15,16,17,18,19,20,21,22,23,24,25,26,27,28,29,30,31,32,33,34,35,36,37,38,39,40,41,42,43,44,45,46,47,48,49,50,51,52,53,54,55,56,57,58,59,60,61,62,63,64,65,66,67,68,69,70,71,72,73,74,75,76,77,78,79,80,81,82,83,84,85,86,87,88,89,90,91,92,93,94,95,96,97,98,99,100,101,102,103,104,105,106,107,108,109,110,111,112,113,114,115,116,117,118,119,120,121,122,123,124,125,126,127,128,129,130,131,132,133,134,135,136,137,138,139,140,141,142,143,144,145,146,147,148,149,150,151,152,153,154,155,156,157,158,159,160,161,162,163,164,165,166,167,168,169,170,171,172,173,174,175,176,177,178,179,180,181,182,183,184,185,186,187,188,189,190,191,192,193,194,195,196,197,198,199],\"y\":{\"__ndarray__\":\"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\",\"dtype\":\"float64\",\"order\":\"little\",\"shape\":[200]}},\"selected\":{\"id\":\"1430\"},\"selection_policy\":{\"id\":\"1431\"}},\"id\":\"1415\",\"type\":\"ColumnDataSource\"},{\"attributes\":{},\"id\":\"1339\",\"type\":\"Selection\"},{\"attributes\":{\"data_source\":{\"id\":\"1051\"},\"glyph\":{\"id\":\"1052\"},\"hover_glyph\":null,\"muted_glyph\":null,\"nonselection_glyph\":{\"id\":\"1053\"},\"view\":{\"id\":\"1055\"}},\"id\":\"1054\",\"type\":\"GlyphRenderer\"},{\"attributes\":{\"line_alpha\":0.1,\"line_color\":\"#aec7e8\",\"line_width\":2,\"x\":{\"field\":\"x\"},\"y\":{\"field\":\"y\"}},\"id\":\"1417\",\"type\":\"Line\"},{\"attributes\":{},\"id\":\"1178\",\"type\":\"Selection\"},{\"attributes\":{},\"id\":\"1114\",\"type\":\"ResetTool\"},{\"attributes\":{},\"id\":\"1369\",\"type\":\"DataRange1d\"},{\"attributes\":{\"source\":{\"id\":\"1051\"}},\"id\":\"1055\",\"type\":\"CDSView\"},{\"attributes\":{\"label\":{\"value\":\"Infected\"},\"renderers\":[{\"id\":\"1509\"}]},\"id\":\"1524\",\"type\":\"LegendItem\"},{\"attributes\":{\"axis_label\":\"Iterations\",\"formatter\":{\"id\":\"1314\"},\"major_label_policy\":{\"id\":\"1313\"},\"ticker\":{\"id\":\"1285\"}},\"id\":\"1284\",\"type\":\"LinearAxis\"},{\"attributes\":{\"line_alpha\":0.5,\"line_color\":\"#ff7f0e\",\"line_width\":2,\"x\":{\"field\":\"x\"},\"y\":{\"field\":\"y\"}},\"id\":\"1526\",\"type\":\"Line\"},{\"attributes\":{},\"id\":\"1496\",\"type\":\"BasicTickFormatter\"},{\"attributes\":{},\"id\":\"1340\",\"type\":\"UnionRenderers\"},{\"attributes\":{},\"id\":\"1187\",\"type\":\"DataRange1d\"},{\"attributes\":{\"label\":{\"value\":\"Infected\"},\"renderers\":[{\"id\":\"1054\"}]},\"id\":\"1069\",\"type\":\"LegendItem\"},{\"attributes\":{\"source\":{\"id\":\"1415\"}},\"id\":\"1419\",\"type\":\"CDSView\"},{\"attributes\":{},\"id\":\"1495\",\"type\":\"AllLabels\"},{\"attributes\":{},\"id\":\"1115\",\"type\":\"HelpTool\"},{\"attributes\":{},\"id\":\"1003\",\"type\":\"DataRange1d\"},{\"attributes\":{\"data_source\":{\"id\":\"1415\"},\"glyph\":{\"id\":\"1416\"},\"hover_glyph\":null,\"muted_glyph\":null,\"nonselection_glyph\":{\"id\":\"1417\"},\"view\":{\"id\":\"1419\"}},\"id\":\"1418\",\"type\":\"GlyphRenderer\"},{\"attributes\":{\"line_alpha\":0.5,\"line_color\":\"#ff7f0e\",\"line_width\":2,\"x\":{\"field\":\"x\"},\"y\":{\"field\":\"y\"}},\"id\":\"1344\",\"type\":\"Line\"},{\"attributes\":{\"data\":{\"x\":[0,1,2,3,4,5,6,7,8,9,10,11,12,13,14,15,16,17,18,19,20,21,22,23,24,25,26,27,28,29,30,31,32,33,34,35,36,37,38,39,40,41,42,43,44,45,46,47,48,49,50,51,52,53,54,55,56,57,58,59,60,61,62,63,64,65,66,67,68,69,70,71,72,73,74,75,76,77,78,79,80,81,82,83,84,85,86,87,88,89,90,91,92,93,94,95,96,97,98,99,100,101,102,103,104,105,106,107,108,109,110,111,112,113,114,115,116,117,118,119,120,121,122,123,124,125,126,127,128,129,130,131,132,133,134,135,136,137,138,139,140,141,142,143,144,145,146,147,148,149,150,151,152,153,154,155,156,157,158,159,160,161,162,163,164,165,166,167,168,169,170,171,172,173,174,175,176,177,178,179,180,181,182,183,184,185,186,187,188,189,190,191,192,193,194,195,196,197,198,199],\"y\":{\"__ndarray__\":\"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\",\"dtype\":\"float64\",\"order\":\"little\",\"shape\":[200]}},\"selected\":{\"id\":\"1360\"},\"selection_policy\":{\"id\":\"1361\"}},\"id\":\"1343\",\"type\":\"ColumnDataSource\"},{\"attributes\":{},\"id\":\"1066\",\"type\":\"Selection\"},{\"attributes\":{},\"id\":\"1179\",\"type\":\"UnionRenderers\"},{\"attributes\":{},\"id\":\"1270\",\"type\":\"UnionRenderers\"},{\"attributes\":{\"below\":[{\"id\":\"1375\"},{\"id\":\"1456\"}],\"center\":[{\"id\":\"1378\"},{\"id\":\"1382\"},{\"id\":\"1413\"}],\"height\":400,\"left\":[{\"id\":\"1379\"}],\"renderers\":[{\"id\":\"1400\"},{\"id\":\"1418\"},{\"id\":\"1437\"}],\"title\":{\"id\":\"1402\"},\"toolbar\":{\"id\":\"1390\"},\"toolbar_location\":null,\"width\":400,\"x_range\":{\"id\":\"1367\"},\"x_scale\":{\"id\":\"1371\"},\"y_range\":{\"id\":\"1369\"},\"y_scale\":{\"id\":\"1373\"}},\"id\":\"1366\",\"subtype\":\"Figure\",\"type\":\"Plot\"},{\"attributes\":{},\"id\":\"1498\",\"type\":\"AllLabels\"},{\"attributes\":{},\"id\":\"1229\",\"type\":\"UnionRenderers\"},{\"attributes\":{\"below\":[{\"id\":\"1466\"},{\"id\":\"1547\"}],\"center\":[{\"id\":\"1469\"},{\"id\":\"1473\"},{\"id\":\"1504\"}],\"height\":400,\"left\":[{\"id\":\"1470\"}],\"renderers\":[{\"id\":\"1491\"},{\"id\":\"1509\"},{\"id\":\"1528\"}],\"title\":{\"id\":\"1493\"},\"toolbar\":{\"id\":\"1481\"},\"toolbar_location\":null,\"width\":400,\"x_range\":{\"id\":\"1458\"},\"x_scale\":{\"id\":\"1462\"},\"y_range\":{\"id\":\"1460\"},\"y_scale\":{\"id\":\"1464\"}},\"id\":\"1457\",\"subtype\":\"Figure\",\"type\":\"Plot\"},{\"attributes\":{\"align\":\"center\",\"text\":\"beta: 0.001, gamma: 0.01, fraction infected: 0.05, tp rate: 1\"},\"id\":\"1183\",\"type\":\"Title\"},{\"attributes\":{\"data_source\":{\"id\":\"1506\"},\"glyph\":{\"id\":\"1507\"},\"hover_glyph\":null,\"muted_glyph\":null,\"nonselection_glyph\":{\"id\":\"1508\"},\"view\":{\"id\":\"1510\"}},\"id\":\"1509\",\"type\":\"GlyphRenderer\"},{\"attributes\":{\"source\":{\"id\":\"1343\"}},\"id\":\"1347\",\"type\":\"CDSView\"},{\"attributes\":{\"axis_label\":\"#Nodes\",\"formatter\":{\"id\":\"1408\"},\"major_label_policy\":{\"id\":\"1407\"},\"ticker\":{\"id\":\"1380\"}},\"id\":\"1379\",\"type\":\"LinearAxis\"},{\"attributes\":{\"line_alpha\":0.5,\"line_color\":\"#1f77b4\",\"line_width\":2,\"x\":{\"field\":\"x\"},\"y\":{\"field\":\"y\"}},\"id\":\"1489\",\"type\":\"Line\"},{\"attributes\":{},\"id\":\"1499\",\"type\":\"BasicTickFormatter\"},{\"attributes\":{},\"id\":\"1522\",\"type\":\"UnionRenderers\"},{\"attributes\":{\"below\":[{\"id\":\"1011\"},{\"id\":\"1092\"}],\"center\":[{\"id\":\"1014\"},{\"id\":\"1018\"},{\"id\":\"1049\"}],\"height\":400,\"left\":[{\"id\":\"1015\"}],\"renderers\":[{\"id\":\"1036\"},{\"id\":\"1054\"},{\"id\":\"1073\"}],\"title\":{\"id\":\"1038\"},\"toolbar\":{\"id\":\"1026\"},\"toolbar_location\":null,\"width\":400,\"x_range\":{\"id\":\"1003\"},\"x_scale\":{\"id\":\"1007\"},\"y_range\":{\"id\":\"1005\"},\"y_scale\":{\"id\":\"1009\"}},\"id\":\"1002\",\"subtype\":\"Figure\",\"type\":\"Plot\"},{\"attributes\":{\"data_source\":{\"id\":\"1161\"},\"glyph\":{\"id\":\"1162\"},\"hover_glyph\":null,\"muted_glyph\":null,\"nonselection_glyph\":{\"id\":\"1163\"},\"view\":{\"id\":\"1165\"}},\"id\":\"1164\",\"type\":\"GlyphRenderer\"},{\"attributes\":{\"data_source\":{\"id\":\"1343\"},\"glyph\":{\"id\":\"1344\"},\"hover_glyph\":null,\"muted_glyph\":null,\"nonselection_glyph\":{\"id\":\"1345\"},\"view\":{\"id\":\"1347\"}},\"id\":\"1346\",\"type\":\"GlyphRenderer\"},{\"attributes\":{\"line_alpha\":0.5,\"line_color\":\"#aec7e8\",\"line_width\":2,\"x\":{\"field\":\"x\"},\"y\":{\"field\":\"y\"}},\"id\":\"1416\",\"type\":\"Line\"},{\"attributes\":{},\"id\":\"1477\",\"type\":\"SaveTool\"},{\"attributes\":{\"line_alpha\":0.5,\"line_color\":\"#aec7e8\",\"line_width\":2,\"x\":{\"field\":\"x\"},\"y\":{\"field\":\"y\"}},\"id\":\"1234\",\"type\":\"Line\"},{\"attributes\":{},\"id\":\"1067\",\"type\":\"UnionRenderers\"},{\"attributes\":{},\"id\":\"1158\",\"type\":\"UnionRenderers\"},{\"attributes\":{},\"id\":\"1386\",\"type\":\"SaveTool\"},{\"attributes\":{\"overlay\":{\"id\":\"1480\"}},\"id\":\"1476\",\"type\":\"BoxZoomTool\"},{\"attributes\":{\"line_alpha\":0.5,\"line_color\":\"#ff7f0e\",\"line_width\":2,\"x\":{\"field\":\"x\"},\"y\":{\"field\":\"y\"}},\"id\":\"1071\",\"type\":\"Line\"},{\"attributes\":{\"line_alpha\":0.1,\"line_color\":\"#ff7f0e\",\"line_width\":2,\"x\":{\"field\":\"x\"},\"y\":{\"field\":\"y\"}},\"id\":\"1163\",\"type\":\"Line\"},{\"attributes\":{},\"id\":\"1282\",\"type\":\"LinearScale\"},{\"attributes\":{\"bottom_units\":\"screen\",\"fill_alpha\":0.5,\"fill_color\":\"lightgrey\",\"left_units\":\"screen\",\"level\":\"overlay\",\"line_alpha\":1.0,\"line_color\":\"black\",\"line_dash\":[4,4],\"line_width\":2,\"right_units\":\"screen\",\"syncable\":false,\"top_units\":\"screen\"},\"id\":\"1389\",\"type\":\"BoxAnnotation\"},{\"attributes\":{\"data\":{\"x\":[0,1,2,3,4,5,6,7,8,9,10,11,12,13,14,15,16,17,18,19,20,21,22,23,24,25,26,27,28,29,30,31,32,33,34,35,36,37,38,39,40,41,42,43,44,45,46,47,48,49,50,51,52,53,54,55,56,57,58,59,60,61,62,63,64,65,66,67,68,69,70,71,72,73,74,75,76,77,78,79,80,81,82,83,84,85,86,87,88,89,90,91,92,93,94,95,96,97,98,99,100,101,102,103,104,105,106,107,108,109,110,111,112,113,114,115,116,117,118,119,120,121,122,123,124,125,126,127,128,129,130,131,132,133,134,135,136,137,138,139,140,141,142,143,144,145,146,147,148,149,150,151,152,153,154,155,156,157,158,159,160,161,162,163,164,165,166,167,168,169,170,171,172,173,174,175,176,177,178,179,180,181,182,183,184,185,186,187,188,189,190,191,192,193,194,195,196,197,198,199],\"y\":{\"__ndarray__\":\"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\",\"dtype\":\"float64\",\"order\":\"little\",\"shape\":[200]}},\"selected\":{\"id\":\"1046\"},\"selection_policy\":{\"id\":\"1047\"}},\"id\":\"1033\",\"type\":\"ColumnDataSource\"},{\"attributes\":{\"data\":{\"x\":[0,1,2,3,4,5,6,7,8,9,10,11,12,13,14,15,16,17,18,19,20,21,22,23,24,25,26,27,28,29,30,31,32,33,34,35,36,37,38,39,40,41,42,43,44,45,46,47,48,49,50,51,52,53,54,55,56,57,58,59,60,61,62,63,64,65,66,67,68,69,70,71,72,73,74,75,76,77,78,79,80,81,82,83,84,85,86,87,88,89,90,91,92,93,94,95,96,97,98,99,100,101,102,103,104,105,106,107,108,109,110,111,112,113,114,115,116,117,118,119,120,121,122,123,124,125,126,127,128,129,130,131,132,133,134,135,136,137,138,139,140,141,142,143,144,145,146,147,148,149,150,151,152,153,154,155,156,157,158,159,160,161,162,163,164,165,166,167,168,169,170,171,172,173,174,175,176,177,178,179,180,181,182,183,184,185,186,187,188,189,190,191,192,193,194,195,196,197,198,199],\"y\":{\"__ndarray__\":\"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\",\"dtype\":\"float64\",\"order\":\"little\",\"shape\":[200]}},\"selected\":{\"id\":\"1087\"},\"selection_policy\":{\"id\":\"1088\"}},\"id\":\"1070\",\"type\":\"ColumnDataSource\"},{\"attributes\":{\"line_alpha\":0.5,\"line_color\":\"#ff7f0e\",\"line_width\":2,\"x\":{\"field\":\"x\"},\"y\":{\"field\":\"y\"}},\"id\":\"1162\",\"type\":\"Line\"},{\"attributes\":{},\"id\":\"1103\",\"type\":\"BasicTicker\"},{\"attributes\":{\"source\":{\"id\":\"1233\"}},\"id\":\"1237\",\"type\":\"CDSView\"},{\"attributes\":{\"line_alpha\":0.1,\"line_color\":\"#ff7f0e\",\"line_width\":2,\"x\":{\"field\":\"x\"},\"y\":{\"field\":\"y\"}},\"id\":\"1345\",\"type\":\"Line\"},{\"attributes\":{\"source\":{\"id\":\"1070\"}},\"id\":\"1074\",\"type\":\"CDSView\"},{\"attributes\":{\"data\":{\"x\":[0,1,2,3,4,5,6,7,8,9,10,11,12,13,14,15,16,17,18,19,20,21,22,23,24,25,26,27,28,29,30,31,32,33,34,35,36,37,38,39,40,41,42,43,44,45,46,47,48,49,50,51,52,53,54,55,56,57,58,59,60,61,62,63,64,65,66,67,68,69,70,71,72,73,74,75,76,77,78,79,80,81,82,83,84,85,86,87,88,89,90,91,92,93,94,95,96,97,98,99,100,101,102,103,104,105,106,107,108,109,110,111,112,113,114,115,116,117,118,119,120,121,122,123,124,125,126,127,128,129,130,131,132,133,134,135,136,137,138,139,140,141,142,143,144,145,146,147,148,149,150,151,152,153,154,155,156,157,158,159,160,161,162,163,164,165,166,167,168,169,170,171,172,173,174,175,176,177,178,179,180,181,182,183,184,185,186,187,188,189,190,191,192,193,194,195,196,197,198,199],\"y\":{\"__ndarray__\":\"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\",\"dtype\":\"float64\",\"order\":\"little\",\"shape\":[200]}},\"selected\":{\"id\":\"1178\"},\"selection_policy\":{\"id\":\"1179\"}},\"id\":\"1161\",\"type\":\"ColumnDataSource\"},{\"attributes\":{\"label\":{\"value\":\"Susceptible\"},\"renderers\":[{\"id\":\"1309\"}]},\"id\":\"1323\",\"type\":\"LegendItem\"},{\"attributes\":{},\"id\":\"1198\",\"type\":\"BasicTicker\"},{\"attributes\":{\"active_multi\":null,\"tools\":[{\"id\":\"1383\"},{\"id\":\"1384\"},{\"id\":\"1385\"},{\"id\":\"1386\"},{\"id\":\"1387\"},{\"id\":\"1388\"}]},\"id\":\"1390\",\"type\":\"Toolbar\"},{\"attributes\":{\"data_source\":{\"id\":\"1233\"},\"glyph\":{\"id\":\"1234\"},\"hover_glyph\":null,\"muted_glyph\":null,\"nonselection_glyph\":{\"id\":\"1235\"},\"view\":{\"id\":\"1237\"}},\"id\":\"1236\",\"type\":\"GlyphRenderer\"},{\"attributes\":{\"axis_label\":\"Iterations\",\"formatter\":{\"id\":\"1223\"},\"major_label_policy\":{\"id\":\"1222\"},\"ticker\":{\"id\":\"1194\"}},\"id\":\"1193\",\"type\":\"LinearAxis\"},{\"attributes\":{\"line_alpha\":0.5,\"line_color\":\"#1f77b4\",\"line_width\":2,\"x\":{\"field\":\"x\"},\"y\":{\"field\":\"y\"}},\"id\":\"1216\",\"type\":\"Line\"},{\"attributes\":{\"data_source\":{\"id\":\"1070\"},\"glyph\":{\"id\":\"1071\"},\"hover_glyph\":null,\"muted_glyph\":null,\"nonselection_glyph\":{\"id\":\"1072\"},\"view\":{\"id\":\"1074\"}},\"id\":\"1073\",\"type\":\"GlyphRenderer\"},{\"attributes\":{},\"id\":\"1194\",\"type\":\"BasicTicker\"},{\"attributes\":{\"source\":{\"id\":\"1506\"}},\"id\":\"1510\",\"type\":\"CDSView\"},{\"attributes\":{\"label\":{\"value\":\"Susceptible\"},\"renderers\":[{\"id\":\"1491\"}]},\"id\":\"1505\",\"type\":\"LegendItem\"},{\"attributes\":{\"data\":{\"x\":[0,1,2,3,4,5,6,7,8,9,10,11,12,13,14,15,16,17,18,19,20,21,22,23,24,25,26,27,28,29,30,31,32,33,34,35,36,37,38,39,40,41,42,43,44,45,46,47,48,49,50,51,52,53,54,55,56,57,58,59,60,61,62,63,64,65,66,67,68,69,70,71,72,73,74,75,76,77,78,79,80,81,82,83,84,85,86,87,88,89,90,91,92,93,94,95,96,97,98,99,100,101,102,103,104,105,106,107,108,109,110,111,112,113,114,115,116,117,118,119,120,121,122,123,124,125,126,127,128,129,130,131,132,133,134,135,136,137,138,139,140,141,142,143,144,145,146,147,148,149,150,151,152,153,154,155,156,157,158,159,160,161,162,163,164,165,166,167,168,169,170,171,172,173,174,175,176,177,178,179,180,181,182,183,184,185,186,187,188,189,190,191,192,193,194,195,196,197,198,199],\"y\":{\"__ndarray__\":\"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\",\"dtype\":\"float64\",\"order\":\"little\",\"shape\":[200]}},\"selected\":{\"id\":\"1410\"},\"selection_policy\":{\"id\":\"1411\"}},\"id\":\"1397\",\"type\":\"ColumnDataSource\"},{\"attributes\":{},\"id\":\"1360\",\"type\":\"Selection\"},{\"attributes\":{},\"id\":\"1383\",\"type\":\"PanTool\"},{\"attributes\":{\"axis\":{\"id\":\"1193\"},\"grid_line_alpha\":0.5,\"ticker\":null},\"id\":\"1196\",\"type\":\"Grid\"},{\"attributes\":{\"label\":{\"value\":\"Infected\"},\"renderers\":[{\"id\":\"1145\"}]},\"id\":\"1160\",\"type\":\"LegendItem\"},{\"attributes\":{\"label\":{\"value\":\"Infected\"},\"renderers\":[{\"id\":\"1236\"}]},\"id\":\"1251\",\"type\":\"LegendItem\"},{\"attributes\":{},\"id\":\"1462\",\"type\":\"LinearScale\"},{\"attributes\":{\"label\":{\"value\":\"Removed\"},\"renderers\":[{\"id\":\"1073\"}]},\"id\":\"1090\",\"type\":\"LegendItem\"},{\"attributes\":{\"line_alpha\":0.1,\"line_color\":\"#aec7e8\",\"line_width\":2,\"x\":{\"field\":\"x\"},\"y\":{\"field\":\"y\"}},\"id\":\"1235\",\"type\":\"Line\"},{\"attributes\":{\"line_alpha\":0.5,\"line_color\":\"#aec7e8\",\"line_width\":2,\"x\":{\"field\":\"x\"},\"y\":{\"field\":\"y\"}},\"id\":\"1507\",\"type\":\"Line\"},{\"attributes\":{\"text\":\"SIR - Diffusion Trend\"},\"id\":\"1402\",\"type\":\"Title\"},{\"attributes\":{\"line_alpha\":0.1,\"line_color\":\"#ff7f0e\",\"line_width\":2,\"x\":{\"field\":\"x\"},\"y\":{\"field\":\"y\"}},\"id\":\"1072\",\"type\":\"Line\"},{\"attributes\":{\"data\":{\"x\":[0,1,2,3,4,5,6,7,8,9,10,11,12,13,14,15,16,17,18,19,20,21,22,23,24,25,26,27,28,29,30,31,32,33,34,35,36,37,38,39,40,41,42,43,44,45,46,47,48,49,50,51,52,53,54,55,56,57,58,59,60,61,62,63,64,65,66,67,68,69,70,71,72,73,74,75,76,77,78,79,80,81,82,83,84,85,86,87,88,89,90,91,92,93,94,95,96,97,98,99,100,101,102,103,104,105,106,107,108,109,110,111,112,113,114,115,116,117,118,119,120,121,122,123,124,125,126,127,128,129,130,131,132,133,134,135,136,137,138,139,140,141,142,143,144,145,146,147,148,149,150,151,152,153,154,155,156,157,158,159,160,161,162,163,164,165,166,167,168,169,170,171,172,173,174,175,176,177,178,179,180,181,182,183,184,185,186,187,188,189,190,191,192,193,194,195,196,197,198,199],\"y\":{\"__ndarray__\":\"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\",\"dtype\":\"float64\",\"order\":\"little\",\"shape\":[200]}},\"selected\":{\"id\":\"1542\"},\"selection_policy\":{\"id\":\"1543\"}},\"id\":\"1525\",\"type\":\"ColumnDataSource\"},{\"attributes\":{},\"id\":\"1157\",\"type\":\"Selection\"},{\"attributes\":{\"items\":[{\"id\":\"1414\"},{\"id\":\"1433\"},{\"id\":\"1454\"}],\"orientation\":\"horizontal\"},\"id\":\"1413\",\"type\":\"Legend\"},{\"attributes\":{\"bottom_units\":\"screen\",\"fill_alpha\":0.5,\"fill_color\":\"lightgrey\",\"left_units\":\"screen\",\"level\":\"overlay\",\"line_alpha\":1.0,\"line_color\":\"black\",\"line_dash\":[4,4],\"line_width\":2,\"right_units\":\"screen\",\"syncable\":false,\"top_units\":\"screen\"},\"id\":\"1116\",\"type\":\"BoxAnnotation\"},{\"attributes\":{},\"id\":\"1248\",\"type\":\"Selection\"},{\"attributes\":{},\"id\":\"1361\",\"type\":\"UnionRenderers\"},{\"attributes\":{\"align\":\"center\",\"text\":\"beta: 0.001, gamma: 0.01, fraction infected: 0.05, tp rate: 1\"},\"id\":\"1365\",\"type\":\"Title\"},{\"attributes\":{},\"id\":\"1464\",\"type\":\"LinearScale\"},{\"attributes\":{\"source\":{\"id\":\"1525\"}},\"id\":\"1529\",\"type\":\"CDSView\"},{\"attributes\":{},\"id\":\"1087\",\"type\":\"Selection\"},{\"attributes\":{},\"id\":\"1405\",\"type\":\"BasicTickFormatter\"},{\"attributes\":{\"line_alpha\":0.1,\"line_color\":\"#1f77b4\",\"line_width\":2,\"x\":{\"field\":\"x\"},\"y\":{\"field\":\"y\"}},\"id\":\"1490\",\"type\":\"Line\"},{\"attributes\":{},\"id\":\"1410\",\"type\":\"Selection\"},{\"attributes\":{\"active_multi\":null,\"tools\":[{\"id\":\"1110\"},{\"id\":\"1111\"},{\"id\":\"1112\"},{\"id\":\"1113\"},{\"id\":\"1114\"},{\"id\":\"1115\"}]},\"id\":\"1117\",\"type\":\"Toolbar\"},{\"attributes\":{},\"id\":\"1475\",\"type\":\"WheelZoomTool\"},{\"attributes\":{\"data_source\":{\"id\":\"1525\"},\"glyph\":{\"id\":\"1526\"},\"hover_glyph\":null,\"muted_glyph\":null,\"nonselection_glyph\":{\"id\":\"1527\"},\"view\":{\"id\":\"1529\"}},\"id\":\"1528\",\"type\":\"GlyphRenderer\"},{\"attributes\":{},\"id\":\"1404\",\"type\":\"AllLabels\"},{\"attributes\":{\"active_multi\":null,\"tools\":[{\"id\":\"1474\"},{\"id\":\"1475\"},{\"id\":\"1476\"},{\"id\":\"1477\"},{\"id\":\"1478\"},{\"id\":\"1479\"}]},\"id\":\"1481\",\"type\":\"Toolbar\"},{\"attributes\":{\"children\":[[{\"id\":\"1002\"},0,0],[{\"id\":\"1093\"},0,1],[{\"id\":\"1184\"},0,2],[{\"id\":\"1275\"},0,3],[{\"id\":\"1366\"},0,4],[{\"id\":\"1457\"},0,5]]},\"id\":\"2284\",\"type\":\"GridBox\"},{\"attributes\":{\"data\":{\"x\":[0,1,2,3,4,5,6,7,8,9,10,11,12,13,14,15,16,17,18,19,20,21,22,23,24,25,26,27,28,29,30,31,32,33,34,35,36,37,38,39,40,41,42,43,44,45,46,47,48,49,50,51,52,53,54,55,56,57,58,59,60,61,62,63,64,65,66,67,68,69,70,71,72,73,74,75,76,77,78,79,80,81,82,83,84,85,86,87,88,89,90,91,92,93,94,95,96,97,98,99,100,101,102,103,104,105,106,107,108,109,110,111,112,113,114,115,116,117,118,119,120,121,122,123,124,125,126,127,128,129,130,131,132,133,134,135,136,137,138,139,140,141,142,143,144,145,146,147,148,149,150,151,152,153,154,155,156,157,158,159,160,161,162,163,164,165,166,167,168,169,170,171,172,173,174,175,176,177,178,179,180,181,182,183,184,185,186,187,188,189,190,191,192,193,194,195,196,197,198,199],\"y\":{\"__ndarray__\":\"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\",\"dtype\":\"float64\",\"order\":\"little\",\"shape\":[200]}},\"selected\":{\"id\":\"1521\"},\"selection_policy\":{\"id\":\"1522\"}},\"id\":\"1506\",\"type\":\"ColumnDataSource\"},{\"attributes\":{},\"id\":\"1249\",\"type\":\"UnionRenderers\"},{\"attributes\":{},\"id\":\"1501\",\"type\":\"Selection\"},{\"attributes\":{},\"id\":\"1376\",\"type\":\"BasicTicker\"},{\"attributes\":{},\"id\":\"1407\",\"type\":\"AllLabels\"},{\"attributes\":{\"label\":{\"value\":\"Removed\"},\"renderers\":[{\"id\":\"1528\"}]},\"id\":\"1545\",\"type\":\"LegendItem\"},{\"attributes\":{},\"id\":\"1088\",\"type\":\"UnionRenderers\"},{\"attributes\":{\"text\":\"SIR - Diffusion Trend\"},\"id\":\"1129\",\"type\":\"Title\"},{\"attributes\":{\"source\":{\"id\":\"1215\"}},\"id\":\"1219\",\"type\":\"CDSView\"},{\"attributes\":{\"line_alpha\":0.5,\"line_color\":\"#ff7f0e\",\"line_width\":2,\"x\":{\"field\":\"x\"},\"y\":{\"field\":\"y\"}},\"id\":\"1253\",\"type\":\"Line\"},{\"attributes\":{\"line_alpha\":0.1,\"line_color\":\"#ff7f0e\",\"line_width\":2,\"x\":{\"field\":\"x\"},\"y\":{\"field\":\"y\"}},\"id\":\"1527\",\"type\":\"Line\"},{\"attributes\":{\"align\":\"center\",\"text\":\"beta: 0.001, gamma: 0.01, fraction infected: 0.05, tp rate: 1\"},\"id\":\"1092\",\"type\":\"Title\"},{\"attributes\":{\"data\":{\"x\":[0,1,2,3,4,5,6,7,8,9,10,11,12,13,14,15,16,17,18,19,20,21,22,23,24,25,26,27,28,29,30,31,32,33,34,35,36,37,38,39,40,41,42,43,44,45,46,47,48,49,50,51,52,53,54,55,56,57,58,59,60,61,62,63,64,65,66,67,68,69,70,71,72,73,74,75,76,77,78,79,80,81,82,83,84,85,86,87,88,89,90,91,92,93,94,95,96,97,98,99,100,101,102,103,104,105,106,107,108,109,110,111,112,113,114,115,116,117,118,119,120,121,122,123,124,125,126,127,128,129,130,131,132,133,134,135,136,137,138,139,140,141,142,143,144,145,146,147,148,149,150,151,152,153,154,155,156,157,158,159,160,161,162,163,164,165,166,167,168,169,170,171,172,173,174,175,176,177,178,179,180,181,182,183,184,185,186,187,188,189,190,191,192,193,194,195,196,197,198,199],\"y\":{\"__ndarray__\":\"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\",\"dtype\":\"float64\",\"order\":\"little\",\"shape\":[200]}},\"selected\":{\"id\":\"1269\"},\"selection_policy\":{\"id\":\"1270\"}},\"id\":\"1252\",\"type\":\"ColumnDataSource\"},{\"attributes\":{},\"id\":\"1408\",\"type\":\"BasicTickFormatter\"},{\"attributes\":{},\"id\":\"1474\",\"type\":\"PanTool\"},{\"attributes\":{\"items\":[{\"id\":\"1141\"},{\"id\":\"1160\"},{\"id\":\"1181\"}],\"orientation\":\"horizontal\"},\"id\":\"1140\",\"type\":\"Legend\"},{\"attributes\":{\"line_alpha\":0.1,\"line_color\":\"#1f77b4\",\"line_width\":2,\"x\":{\"field\":\"x\"},\"y\":{\"field\":\"y\"}},\"id\":\"1126\",\"type\":\"Line\"},{\"attributes\":{\"data\":{\"x\":[0,1,2,3,4,5,6,7,8,9,10,11,12,13,14,15,16,17,18,19,20,21,22,23,24,25,26,27,28,29,30,31,32,33,34,35,36,37,38,39,40,41,42,43,44,45,46,47,48,49,50,51,52,53,54,55,56,57,58,59,60,61,62,63,64,65,66,67,68,69,70,71,72,73,74,75,76,77,78,79,80,81,82,83,84,85,86,87,88,89,90,91,92,93,94,95,96,97,98,99,100,101,102,103,104,105,106,107,108,109,110,111,112,113,114,115,116,117,118,119,120,121,122,123,124,125,126,127,128,129,130,131,132,133,134,135,136,137,138,139,140,141,142,143,144,145,146,147,148,149,150,151,152,153,154,155,156,157,158,159,160,161,162,163,164,165,166,167,168,169,170,171,172,173,174,175,176,177,178,179,180,181,182,183,184,185,186,187,188,189,190,191,192,193,194,195,196,197,198,199],\"y\":{\"__ndarray__\":\"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\",\"dtype\":\"float64\",\"order\":\"little\",\"shape\":[200]}},\"selected\":{\"id\":\"1228\"},\"selection_policy\":{\"id\":\"1229\"}},\"id\":\"1215\",\"type\":\"ColumnDataSource\"},{\"attributes\":{\"bottom_units\":\"screen\",\"fill_alpha\":0.5,\"fill_color\":\"lightgrey\",\"left_units\":\"screen\",\"level\":\"overlay\",\"line_alpha\":1.0,\"line_color\":\"black\",\"line_dash\":[4,4],\"line_width\":2,\"right_units\":\"screen\",\"syncable\":false,\"top_units\":\"screen\"},\"id\":\"1480\",\"type\":\"BoxAnnotation\"},{\"attributes\":{\"line_alpha\":0.5,\"line_color\":\"#1f77b4\",\"line_width\":2,\"x\":{\"field\":\"x\"},\"y\":{\"field\":\"y\"}},\"id\":\"1034\",\"type\":\"Line\"},{\"attributes\":{\"source\":{\"id\":\"1252\"}},\"id\":\"1256\",\"type\":\"CDSView\"},{\"attributes\":{},\"id\":\"1225\",\"type\":\"AllLabels\"},{\"attributes\":{\"toolbar\":{\"id\":\"2285\"},\"toolbar_location\":\"above\"},\"id\":\"2286\",\"type\":\"ToolbarBox\"},{\"attributes\":{},\"id\":\"1201\",\"type\":\"PanTool\"},{\"attributes\":{},\"id\":\"1460\",\"type\":\"DataRange1d\"},{\"attributes\":{},\"id\":\"1132\",\"type\":\"BasicTickFormatter\"},{\"attributes\":{\"data_source\":{\"id\":\"1252\"},\"glyph\":{\"id\":\"1253\"},\"hover_glyph\":null,\"muted_glyph\":null,\"nonselection_glyph\":{\"id\":\"1254\"},\"view\":{\"id\":\"1256\"}},\"id\":\"1255\",\"type\":\"GlyphRenderer\"},{\"attributes\":{\"items\":[{\"id\":\"1505\"},{\"id\":\"1524\"},{\"id\":\"1545\"}],\"orientation\":\"horizontal\"},\"id\":\"1504\",\"type\":\"Legend\"},{\"attributes\":{\"source\":{\"id\":\"1124\"}},\"id\":\"1128\",\"type\":\"CDSView\"},{\"attributes\":{},\"id\":\"1131\",\"type\":\"AllLabels\"},{\"attributes\":{},\"id\":\"1202\",\"type\":\"WheelZoomTool\"},{\"attributes\":{},\"id\":\"1384\",\"type\":\"WheelZoomTool\"},{\"attributes\":{\"align\":\"center\",\"text\":\"beta: 0.001, gamma: 0.01, fraction infected: 0.05, tp rate: 1\"},\"id\":\"1547\",\"type\":\"Title\"},{\"attributes\":{\"source\":{\"id\":\"1397\"}},\"id\":\"1401\",\"type\":\"CDSView\"},{\"attributes\":{\"axis_label\":\"Iterations\",\"formatter\":{\"id\":\"1496\"},\"major_label_policy\":{\"id\":\"1495\"},\"ticker\":{\"id\":\"1467\"}},\"id\":\"1466\",\"type\":\"LinearAxis\"},{\"attributes\":{\"label\":{\"value\":\"Susceptible\"},\"renderers\":[{\"id\":\"1400\"}]},\"id\":\"1414\",\"type\":\"LegendItem\"},{\"attributes\":{},\"id\":\"1452\",\"type\":\"UnionRenderers\"},{\"attributes\":{},\"id\":\"1543\",\"type\":\"UnionRenderers\"},{\"attributes\":{\"overlay\":{\"id\":\"1207\"}},\"id\":\"1203\",\"type\":\"BoxZoomTool\"},{\"attributes\":{},\"id\":\"1387\",\"type\":\"ResetTool\"},{\"attributes\":{\"axis\":{\"id\":\"1102\"},\"grid_line_alpha\":0.5,\"ticker\":null},\"id\":\"1105\",\"type\":\"Grid\"},{\"attributes\":{},\"id\":\"1134\",\"type\":\"AllLabels\"},{\"attributes\":{},\"id\":\"1185\",\"type\":\"DataRange1d\"},{\"attributes\":{\"line_alpha\":0.1,\"line_color\":\"#aec7e8\",\"line_width\":2,\"x\":{\"field\":\"x\"},\"y\":{\"field\":\"y\"}},\"id\":\"1144\",\"type\":\"Line\"},{\"attributes\":{\"line_alpha\":0.1,\"line_color\":\"#ff7f0e\",\"line_width\":2,\"x\":{\"field\":\"x\"},\"y\":{\"field\":\"y\"}},\"id\":\"1254\",\"type\":\"Line\"},{\"attributes\":{\"line_alpha\":0.1,\"line_color\":\"#1f77b4\",\"line_width\":2,\"x\":{\"field\":\"x\"},\"y\":{\"field\":\"y\"}},\"id\":\"1399\",\"type\":\"Line\"},{\"attributes\":{},\"id\":\"1204\",\"type\":\"SaveTool\"},{\"attributes\":{},\"id\":\"1135\",\"type\":\"BasicTickFormatter\"},{\"attributes\":{\"line_alpha\":0.1,\"line_color\":\"#aec7e8\",\"line_width\":2,\"x\":{\"field\":\"x\"},\"y\":{\"field\":\"y\"}},\"id\":\"1508\",\"type\":\"Line\"},{\"attributes\":{},\"id\":\"1467\",\"type\":\"BasicTicker\"},{\"attributes\":{},\"id\":\"1137\",\"type\":\"Selection\"},{\"attributes\":{},\"id\":\"1269\",\"type\":\"Selection\"},{\"attributes\":{\"below\":[{\"id\":\"1284\"},{\"id\":\"1365\"}],\"center\":[{\"id\":\"1287\"},{\"id\":\"1291\"},{\"id\":\"1322\"}],\"height\":400,\"left\":[{\"id\":\"1288\"}],\"renderers\":[{\"id\":\"1309\"},{\"id\":\"1327\"},{\"id\":\"1346\"}],\"title\":{\"id\":\"1311\"},\"toolbar\":{\"id\":\"1299\"},\"toolbar_location\":null,\"width\":400,\"x_range\":{\"id\":\"1276\"},\"x_scale\":{\"id\":\"1280\"},\"y_range\":{\"id\":\"1278\"},\"y_scale\":{\"id\":\"1282\"}},\"id\":\"1275\",\"subtype\":\"Figure\",\"type\":\"Plot\"},{\"attributes\":{},\"id\":\"1205\",\"type\":\"ResetTool\"},{\"attributes\":{\"axis\":{\"id\":\"1466\"},\"grid_line_alpha\":0.5,\"ticker\":null},\"id\":\"1469\",\"type\":\"Grid\"},{\"attributes\":{\"axis_label\":\"#Nodes\",\"formatter\":{\"id\":\"1499\"},\"major_label_policy\":{\"id\":\"1498\"},\"ticker\":{\"id\":\"1471\"}},\"id\":\"1470\",\"type\":\"LinearAxis\"},{\"attributes\":{},\"id\":\"1380\",\"type\":\"BasicTicker\"},{\"attributes\":{},\"id\":\"1411\",\"type\":\"UnionRenderers\"},{\"attributes\":{},\"id\":\"1431\",\"type\":\"UnionRenderers\"},{\"attributes\":{\"data_source\":{\"id\":\"1215\"},\"glyph\":{\"id\":\"1216\"},\"hover_glyph\":null,\"muted_glyph\":null,\"nonselection_glyph\":{\"id\":\"1217\"},\"view\":{\"id\":\"1219\"}},\"id\":\"1218\",\"type\":\"GlyphRenderer\"},{\"attributes\":{\"axis\":{\"id\":\"1284\"},\"grid_line_alpha\":0.5,\"ticker\":null},\"id\":\"1287\",\"type\":\"Grid\"},{\"attributes\":{\"source\":{\"id\":\"1142\"}},\"id\":\"1146\",\"type\":\"CDSView\"},{\"attributes\":{},\"id\":\"1107\",\"type\":\"BasicTicker\"},{\"attributes\":{},\"id\":\"1206\",\"type\":\"HelpTool\"},{\"attributes\":{\"line_alpha\":0.5,\"line_color\":\"#1f77b4\",\"line_width\":2,\"x\":{\"field\":\"x\"},\"y\":{\"field\":\"y\"}},\"id\":\"1307\",\"type\":\"Line\"},{\"attributes\":{\"line_alpha\":0.5,\"line_color\":\"#ff7f0e\",\"line_width\":2,\"x\":{\"field\":\"x\"},\"y\":{\"field\":\"y\"}},\"id\":\"1435\",\"type\":\"Line\"},{\"attributes\":{\"source\":{\"id\":\"1488\"}},\"id\":\"1492\",\"type\":\"CDSView\"},{\"attributes\":{},\"id\":\"1100\",\"type\":\"LinearScale\"},{\"attributes\":{\"toolbars\":[{\"id\":\"1026\"},{\"id\":\"1117\"},{\"id\":\"1208\"},{\"id\":\"1299\"},{\"id\":\"1390\"},{\"id\":\"1481\"}],\"tools\":[{\"id\":\"1019\"},{\"id\":\"1020\"},{\"id\":\"1021\"},{\"id\":\"1022\"},{\"id\":\"1023\"},{\"id\":\"1024\"},{\"id\":\"1110\"},{\"id\":\"1111\"},{\"id\":\"1112\"},{\"id\":\"1113\"},{\"id\":\"1114\"},{\"id\":\"1115\"},{\"id\":\"1201\"},{\"id\":\"1202\"},{\"id\":\"1203\"},{\"id\":\"1204\"},{\"id\":\"1205\"},{\"id\":\"1206\"},{\"id\":\"1292\"},{\"id\":\"1293\"},{\"id\":\"1294\"},{\"id\":\"1295\"},{\"id\":\"1296\"},{\"id\":\"1297\"},{\"id\":\"1383\"},{\"id\":\"1384\"},{\"id\":\"1385\"},{\"id\":\"1386\"},{\"id\":\"1387\"},{\"id\":\"1388\"},{\"id\":\"1474\"},{\"id\":\"1475\"},{\"id\":\"1476\"},{\"id\":\"1477\"},{\"id\":\"1478\"},{\"id\":\"1479\"}]},\"id\":\"2285\",\"type\":\"ProxyToolbar\"},{\"attributes\":{\"axis\":{\"id\":\"1470\"},\"dimension\":1,\"grid_line_alpha\":0.5,\"ticker\":null},\"id\":\"1473\",\"type\":\"Grid\"},{\"attributes\":{\"label\":{\"value\":\"Susceptible\"},\"renderers\":[{\"id\":\"1127\"}]},\"id\":\"1141\",\"type\":\"LegendItem\"},{\"attributes\":{},\"id\":\"1110\",\"type\":\"PanTool\"},{\"attributes\":{\"active_multi\":null,\"tools\":[{\"id\":\"1201\"},{\"id\":\"1202\"},{\"id\":\"1203\"},{\"id\":\"1204\"},{\"id\":\"1205\"},{\"id\":\"1206\"}]},\"id\":\"1208\",\"type\":\"Toolbar\"},{\"attributes\":{},\"id\":\"1189\",\"type\":\"LinearScale\"},{\"attributes\":{},\"id\":\"1371\",\"type\":\"LinearScale\"},{\"attributes\":{},\"id\":\"1276\",\"type\":\"DataRange1d\"},{\"attributes\":{},\"id\":\"1373\",\"type\":\"LinearScale\"},{\"attributes\":{\"axis\":{\"id\":\"1379\"},\"dimension\":1,\"grid_line_alpha\":0.5,\"ticker\":null},\"id\":\"1382\",\"type\":\"Grid\"},{\"attributes\":{},\"id\":\"1222\",\"type\":\"AllLabels\"},{\"attributes\":{\"axis\":{\"id\":\"1106\"},\"dimension\":1,\"grid_line_alpha\":0.5,\"ticker\":null},\"id\":\"1109\",\"type\":\"Grid\"},{\"attributes\":{\"items\":[{\"id\":\"1232\"},{\"id\":\"1251\"},{\"id\":\"1272\"}],\"orientation\":\"horizontal\"},\"id\":\"1231\",\"type\":\"Legend\"},{\"attributes\":{},\"id\":\"1458\",\"type\":\"DataRange1d\"},{\"attributes\":{\"source\":{\"id\":\"1434\"}},\"id\":\"1438\",\"type\":\"CDSView\"},{\"attributes\":{\"data_source\":{\"id\":\"1434\"},\"glyph\":{\"id\":\"1435\"},\"hover_glyph\":null,\"muted_glyph\":null,\"nonselection_glyph\":{\"id\":\"1436\"},\"view\":{\"id\":\"1438\"}},\"id\":\"1437\",\"type\":\"GlyphRenderer\"},{\"attributes\":{\"overlay\":{\"id\":\"1389\"}},\"id\":\"1385\",\"type\":\"BoxZoomTool\"},{\"attributes\":{},\"id\":\"1280\",\"type\":\"LinearScale\"},{\"attributes\":{\"data_source\":{\"id\":\"1488\"},\"glyph\":{\"id\":\"1489\"},\"hover_glyph\":null,\"muted_glyph\":null,\"nonselection_glyph\":{\"id\":\"1490\"},\"view\":{\"id\":\"1492\"}},\"id\":\"1491\",\"type\":\"GlyphRenderer\"},{\"attributes\":{\"line_alpha\":0.5,\"line_color\":\"#aec7e8\",\"line_width\":2,\"x\":{\"field\":\"x\"},\"y\":{\"field\":\"y\"}},\"id\":\"1143\",\"type\":\"Line\"},{\"attributes\":{},\"id\":\"1278\",\"type\":\"DataRange1d\"},{\"attributes\":{\"data\":{\"x\":[0,1,2,3,4,5,6,7,8,9,10,11,12,13,14,15,16,17,18,19,20,21,22,23,24,25,26,27,28,29,30,31,32,33,34,35,36,37,38,39,40,41,42,43,44,45,46,47,48,49,50,51,52,53,54,55,56,57,58,59,60,61,62,63,64,65,66,67,68,69,70,71,72,73,74,75,76,77,78,79,80,81,82,83,84,85,86,87,88,89,90,91,92,93,94,95,96,97,98,99,100,101,102,103,104,105,106,107,108,109,110,111,112,113,114,115,116,117,118,119,120,121,122,123,124,125,126,127,128,129,130,131,132,133,134,135,136,137,138,139,140,141,142,143,144,145,146,147,148,149,150,151,152,153,154,155,156,157,158,159,160,161,162,163,164,165,166,167,168,169,170,171,172,173,174,175,176,177,178,179,180,181,182,183,184,185,186,187,188,189,190,191,192,193,194,195,196,197,198,199],\"y\":{\"__ndarray__\":\"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\",\"dtype\":\"float64\",\"order\":\"little\",\"shape\":[200]}},\"selected\":{\"id\":\"1157\"},\"selection_policy\":{\"id\":\"1158\"}},\"id\":\"1142\",\"type\":\"ColumnDataSource\"},{\"attributes\":{\"line_alpha\":0.5,\"line_color\":\"#1f77b4\",\"line_width\":2,\"x\":{\"field\":\"x\"},\"y\":{\"field\":\"y\"}},\"id\":\"1398\",\"type\":\"Line\"},{\"attributes\":{},\"id\":\"1478\",\"type\":\"ResetTool\"},{\"attributes\":{\"data\":{\"x\":[0,1,2,3,4,5,6,7,8,9,10,11,12,13,14,15,16,17,18,19,20,21,22,23,24,25,26,27,28,29,30,31,32,33,34,35,36,37,38,39,40,41,42,43,44,45,46,47,48,49,50,51,52,53,54,55,56,57,58,59,60,61,62,63,64,65,66,67,68,69,70,71,72,73,74,75,76,77,78,79,80,81,82,83,84,85,86,87,88,89,90,91,92,93,94,95,96,97,98,99,100,101,102,103,104,105,106,107,108,109,110,111,112,113,114,115,116,117,118,119,120,121,122,123,124,125,126,127,128,129,130,131,132,133,134,135,136,137,138,139,140,141,142,143,144,145,146,147,148,149,150,151,152,153,154,155,156,157,158,159,160,161,162,163,164,165,166,167,168,169,170,171,172,173,174,175,176,177,178,179,180,181,182,183,184,185,186,187,188,189,190,191,192,193,194,195,196,197,198,199],\"y\":{\"__ndarray__\":\"ZmZmZmZm7j/0/dR46SbtPw4tsp3vp+o/ZDvfT42X5j/y0k1iEFjhPxkEVg4tstU/ukkMAiuHxj8Sg8DKoUW2P+xRuB6F66E/ObTIdr6fij/8qfHSTWJQP/yp8dJNYlA/AAAAAAAAAAAAAAAAAAAAAAAAAAAAAAAAAAAAAAAAAAAAAAAAAAAAAAAAAAAAAAAAAAAAAAAAAAAAAAAAAAAAAAAAAAAAAAAAAAAAAAAAAAAAAAAAAAAAAAAAAAAAAAAAAAAAAAAAAAAAAAAAAAAAAAAAAAAAAAAAAAAAAAAAAAAAAAAAAAAAAAAAAAAAAAAAAAAAAAAAAAAAAAAAAAAAAAAAAAAAAAAAAAAAAAAAAAAAAAAAAAAAAAAAAAAAAAAAAAAAAAAAAAAAAAAAAAAAAAAAAAAAAAAAAAAAAAAAAAAAAAAAAAAAAAAAAAAAAAAAAAAAAAAAAAAAAAAAAAAAAAAAAAAAAAAAAAAAAAAAAAAAAAAAAAAAAAAAAAAAAAAAAAAAAAAAAAAAAAAAAAAAAAAAAAAAAAAAAAAAAAAAAAAAAAAAAAAAAAAAAAAAAAAAAAAAAAAAAAAAAAAAAAAAAAAAAAAAAAAAAAAAAAAAAAAAAAAAAAAAAAAAAAAAAAAAAAAAAAAAAAAAAAAAAAAAAAAAAAAAAAAAAAAAAAAAAAAAAAAAAAAAAAAAAAAAAAAAAAAAAAAAAAAAAAAAAAAAAAAAAAAAAAAAAAAAAAAAAAAAAAAAAAAAAAAAAAAAAAAAAAAAAAAAAAAAAAAAAAAAAAAAAAAAAAAAAAAAAAAAAAAAAAAAAAAAAAAAAAAAAAAAAAAAAAAAAAAAAAAAAAAAAAAAAAAAAAAAAAAAAAAAAAAAAAAAAAAAAAAAAAAAAAAAAAAAAAAAAAAAAAAAAAAAAAAAAAAAAAAAAAAAAAAAAAAAAAAAAAAAAAAAAAAAAAAAAAAAAAAAAAAAAAAAAAAAAAAAAAAAAAAAAAAAAAAAAAAAAAAAAAAAAAAAAAAAAAAAAAAAAAAAAAAAAAAAAAAAAAAAAAAAAAAAAAAAAAAAAAAAAAAAAAAAAAAAAAAAAAAAAAAAAAAAAAAAAAAAAAAAAAAAAAAAAAAAAAAAAAAAAAAAAAAAAAAAAAAAAAAAAAAAAAAAAAAAAAAAAAAAAAAAAAAAAAAAAAAAAAAAAAAAAAAAAAAAAAAAAAAAAAAAAAAAAAAAAAAAAAAAAAAAAAAAAAAAAAAAAAAAAAAAAAAAAAAAAAAAAAAAAAAAAAAAAAAAAAAAAAAAAAAAAAAAAAAAAAAAAAAAAAAAAAAAAAAAAAAAAAAAAAAAAAAAAAAAAAAAAAAAAAAAAAAAAAAAAAAAAAAAAAAAAAAAAAAAAAAAAAAAAAAAAAAAAAAAAAAAAAAAAAAAAAAAAAAAAAAAAAAAAAAAAAAAAAAAAAAAAAAAAAAAAAAAAAAAAAAAAAAAAAAAAAAAAAAAAAAAAAAAAAAAAAAAAAAAAAAAAAAAAAAAAAAAAAAAAAAAAAAAAAAAAAAAAAAAAAAAAAAAAAAAAAAAAAAAAAAAAAAAAAAAAAAAAAAAAAAAAAAAAAAAAAAAAAAAAAAAAAAAAAAAAAAAAAAAAAAAAAAAAAAAAAAAAAAAAAAAAAAAAAAAAAAAAAAAAAAAAAAAAAAAAAAAAAAAAAAAAAAAAAAAAAAAAAAAAAAAAAAAAAAAAAAAAAAAAAAAAAAAAAAAAAAAAAAAAAAAAAAAAAAAAAAAAAAAAAAAAAAAAAAAAAAAAAAAAAAAAAAAAAAAAAAAAAAAAAAAAAAAAAAAAAAAAAAAAAAAAAAAAAAAAAAAAAAAAAAAAAAAAAAAAAAAAAAAAAAAAAAAAAAAAAAAAAAAAAAAAAAAAAAAAAAAAAAAAAAAAAAAAAAAAAAAAAAAAAAAAAAAAAAAAAAAAAAAAAAAAAAAAAAAAAAAAAAAAAAAAAAAAAAAAAAAAAAAAAAAAAAAAAAAAAAAAAAAAAAAAAAAAAAAAAAAAAAAAAAAAAAAAAAAAAAAAAAAAAAAAAAAAAAAAAAAAAAAAAAAAAAAAAAAAAAAAAAAAAAAAAAAAAAAAAAAAAAAAAAAAAAAAAAAAAAAAAAAAAAAAAAAAAAAAA==\",\"dtype\":\"float64\",\"order\":\"little\",\"shape\":[200]}},\"selected\":{\"id\":\"1137\"},\"selection_policy\":{\"id\":\"1138\"}},\"id\":\"1124\",\"type\":\"ColumnDataSource\"},{\"attributes\":{\"label\":{\"value\":\"Removed\"},\"renderers\":[{\"id\":\"1437\"}]},\"id\":\"1454\",\"type\":\"LegendItem\"},{\"attributes\":{\"data\":{\"x\":[0,1,2,3,4,5,6,7,8,9,10,11,12,13,14,15,16,17,18,19,20,21,22,23,24,25,26,27,28,29,30,31,32,33,34,35,36,37,38,39,40,41,42,43,44,45,46,47,48,49,50,51,52,53,54,55,56,57,58,59,60,61,62,63,64,65,66,67,68,69,70,71,72,73,74,75,76,77,78,79,80,81,82,83,84,85,86,87,88,89,90,91,92,93,94,95,96,97,98,99,100,101,102,103,104,105,106,107,108,109,110,111,112,113,114,115,116,117,118,119,120,121,122,123,124,125,126,127,128,129,130,131,132,133,134,135,136,137,138,139,140,141,142,143,144,145,146,147,148,149,150,151,152,153,154,155,156,157,158,159,160,161,162,163,164,165,166,167,168,169,170,171,172,173,174,175,176,177,178,179,180,181,182,183,184,185,186,187,188,189,190,191,192,193,194,195,196,197,198,199],\"y\":{\"__ndarray__\":\"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\",\"dtype\":\"float64\",\"order\":\"little\",\"shape\":[200]}},\"selected\":{\"id\":\"1501\"},\"selection_policy\":{\"id\":\"1502\"}},\"id\":\"1488\",\"type\":\"ColumnDataSource\"},{\"attributes\":{},\"id\":\"1479\",\"type\":\"HelpTool\"},{\"attributes\":{},\"id\":\"1098\",\"type\":\"LinearScale\"},{\"attributes\":{\"line_alpha\":0.1,\"line_color\":\"#ff7f0e\",\"line_width\":2,\"x\":{\"field\":\"x\"},\"y\":{\"field\":\"y\"}},\"id\":\"1436\",\"type\":\"Line\"},{\"attributes\":{\"axis_label\":\"Iterations\",\"formatter\":{\"id\":\"1132\"},\"major_label_policy\":{\"id\":\"1131\"},\"ticker\":{\"id\":\"1103\"}},\"id\":\"1102\",\"type\":\"LinearAxis\"},{\"attributes\":{\"axis\":{\"id\":\"1375\"},\"grid_line_alpha\":0.5,\"ticker\":null},\"id\":\"1378\",\"type\":\"Grid\"},{\"attributes\":{},\"id\":\"1285\",\"type\":\"BasicTicker\"},{\"attributes\":{},\"id\":\"1228\",\"type\":\"Selection\"},{\"attributes\":{},\"id\":\"1191\",\"type\":\"LinearScale\"},{\"attributes\":{\"axis_label\":\"Iterations\",\"formatter\":{\"id\":\"1405\"},\"major_label_policy\":{\"id\":\"1404\"},\"ticker\":{\"id\":\"1376\"}},\"id\":\"1375\",\"type\":\"LinearAxis\"},{\"attributes\":{\"line_alpha\":0.1,\"line_color\":\"#1f77b4\",\"line_width\":2,\"x\":{\"field\":\"x\"},\"y\":{\"field\":\"y\"}},\"id\":\"1217\",\"type\":\"Line\"},{\"attributes\":{},\"id\":\"1451\",\"type\":\"Selection\"},{\"attributes\":{\"data_source\":{\"id\":\"1142\"},\"glyph\":{\"id\":\"1143\"},\"hover_glyph\":null,\"muted_glyph\":null,\"nonselection_glyph\":{\"id\":\"1144\"},\"view\":{\"id\":\"1146\"}},\"id\":\"1145\",\"type\":\"GlyphRenderer\"},{\"attributes\":{\"text\":\"SIR - Diffusion Trend\"},\"id\":\"1220\",\"type\":\"Title\"},{\"attributes\":{\"data_source\":{\"id\":\"1124\"},\"glyph\":{\"id\":\"1125\"},\"hover_glyph\":null,\"muted_glyph\":null,\"nonselection_glyph\":{\"id\":\"1126\"},\"view\":{\"id\":\"1128\"}},\"id\":\"1127\",\"type\":\"GlyphRenderer\"},{\"attributes\":{},\"id\":\"1430\",\"type\":\"Selection\"},{\"attributes\":{\"items\":[{\"id\":\"1323\"},{\"id\":\"1342\"},{\"id\":\"1363\"}],\"orientation\":\"horizontal\"},\"id\":\"1322\",\"type\":\"Legend\"}],\"root_ids\":[\"2287\"]},\"title\":\"Bokeh Application\",\"version\":\"2.3.3\"}};\n",
              "  var render_items = [{\"docid\":\"d5af9548-c1f1-470c-a4d1-58780b1290fc\",\"root_ids\":[\"2287\"],\"roots\":{\"2287\":\"932ad204-9a0d-4e88-8546-3b6abf82c428\"}}];\n",
              "  root.Bokeh.embed.embed_items_notebook(docs_json, render_items);\n",
              "\n",
              "  }\n",
              "  if (root.Bokeh !== undefined) {\n",
              "    embed_document(root);\n",
              "  } else {\n",
              "    var attempts = 0;\n",
              "    var timer = setInterval(function(root) {\n",
              "      if (root.Bokeh !== undefined) {\n",
              "        clearInterval(timer);\n",
              "        embed_document(root);\n",
              "      } else {\n",
              "        attempts++;\n",
              "        if (attempts > 100) {\n",
              "          clearInterval(timer);\n",
              "          console.log(\"Bokeh: ERROR: Unable to run BokehJS code because BokehJS library is missing\");\n",
              "        }\n",
              "      }\n",
              "    }, 10, root)\n",
              "  }\n",
              "})(window);"
            ],
            "application/vnd.bokehjs_exec.v0+json": ""
          },
          "metadata": {
            "application/vnd.bokehjs_exec.v0+json": {
              "id": "2287"
            }
          }
        }
      ]
    }
  ]
}