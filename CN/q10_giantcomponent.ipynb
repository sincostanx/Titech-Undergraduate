{
  "nbformat": 4,
  "nbformat_minor": 0,
  "metadata": {
    "colab": {
      "name": "giantcomponent.ipynb",
      "provenance": []
    },
    "kernelspec": {
      "name": "python3",
      "display_name": "Python 3"
    }
  },
  "cells": [
    {
      "cell_type": "markdown",
      "source": [
        "#Quiz #10\n",
        "This notebook is created by Chinchuthakun Worameth as a part of Complex Network (ART.T462) at Tokyo Institute of Technology taught in Fall semester 2021 by Prof. Murata Tsuyoshi. It contains\n",
        "\n",
        "* A curve of the size of the giant component $S$ in a random graph"
      ],
      "metadata": {
        "id": "Rv8VwVWda-1x"
      }
    },
    {
      "cell_type": "markdown",
      "source": [
        "## Implementation"
      ],
      "metadata": {
        "id": "bjtJDxGfbKLn"
      }
    },
    {
      "cell_type": "markdown",
      "source": [
        "The relationship between average degree $c$ and the size of giant component $S$ of a random graph is\n",
        "\n",
        "$$\n",
        "S = 1 - e^{-cS}\n",
        "$$\n",
        "\n",
        "which is difficult to solve analytically. Therefore, we use **Newton-Raphson method** to find a numerical solution of $S$ for each $c \\geq 0$. Note that we exclude $0$ from the set of feasible solutions since it is a trivial solution."
      ],
      "metadata": {
        "id": "sPqCE-4qbwmI"
      }
    },
    {
      "cell_type": "code",
      "source": [
        "import numpy as np\n",
        "import matplotlib.pyplot as plt\n",
        "from scipy import optimize"
      ],
      "metadata": {
        "id": "aNFu-CVTbOgo"
      },
      "execution_count": 1,
      "outputs": []
    },
    {
      "cell_type": "code",
      "source": [
        "x = range(500)\n",
        "y = [0] * 500\n",
        "for i in x:\n",
        "  y[i] = optimize.newton(lambda x: x-1+np.exp(-(i / 100)*x), 1)\n",
        "plt.plot(list(map(lambda x: x * 0.01, x)), y)"
      ],
      "metadata": {
        "colab": {
          "base_uri": "https://localhost:8080/",
          "height": 282
        },
        "id": "l3KSDxUJbP_Y",
        "outputId": "039b4ec3-7aab-435d-b3bf-c8e6da570b05"
      },
      "execution_count": 3,
      "outputs": [
        {
          "output_type": "execute_result",
          "data": {
            "text/plain": [
              "[<matplotlib.lines.Line2D at 0x7f8be0bf7610>]"
            ]
          },
          "metadata": {},
          "execution_count": 3
        },
        {
          "output_type": "display_data",
          "data": {
            "image/png": "[encoded data removed]",
            "text/plain": [
              "<Figure size 432x288 with 1 Axes>"
            ]
          },
          "metadata": {
            "needs_background": "light"
          }
        }
      ]
    }
  ]
}