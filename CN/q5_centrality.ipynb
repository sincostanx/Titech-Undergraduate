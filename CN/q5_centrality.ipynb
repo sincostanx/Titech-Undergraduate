{
  "nbformat": 4,
  "nbformat_minor": 0,
  "metadata": {
    "colab": {
      "name": "centrality.ipynb",
      "provenance": []
    },
    "kernelspec": {
      "name": "python3",
      "display_name": "Python 3"
    }
  },
  "cells": [
    {
      "cell_type": "markdown",
      "source": [
        "#Quiz #5\n",
        "\n",
        "This notebook is created by Chinchuthakun Worameth as a part of Complex Network (ART.T462) at Tokyo Institute of Technology taught in Fall semester 2021 by Prof. Murata Tsuyoshi. It contains\n",
        "\n",
        "* A program of calculating various centralities including:\n",
        "    * Degree centrality\n",
        "    * Betweenness centrality\n",
        "    * Closeness centrality\n",
        "    * Eigenvector centrality\n",
        "    * PageRank\n",
        "    * Katz centrality"
      ],
      "metadata": {
        "id": "AWd_d6SxYaBm"
      }
    },
    {
      "cell_type": "markdown",
      "source": [
        "##Question #1 & #2"
      ],
      "metadata": {
        "id": "5Z5twzPvYeBJ"
      }
    },
    {
      "cell_type": "markdown",
      "source": [
        "First, we generate a graph of interest as illustrated below."
      ],
      "metadata": {
        "id": "XDQMqZAIaZyB"
      }
    },
    {
      "cell_type": "code",
      "source": [
        "import networkx as nx\n",
        "import matplotlib.pyplot as plt\n",
        "import numpy as np"
      ],
      "metadata": {
        "id": "HUZ2AuyDZTNA"
      },
      "execution_count": 1,
      "outputs": []
    },
    {
      "cell_type": "code",
      "metadata": {
        "id": "WJ7ozc5jCknH",
        "outputId": "a467cdbd-4105-4f58-ff65-e212d5cc1a4a",
        "colab": {
          "base_uri": "https://localhost:8080/",
          "height": 391
        }
      },
      "source": [
        "G = nx.Graph()\n",
        "G.add_nodes_from(range(0,10))\n",
        "G.add_edges_from([(0,2),(1,2),(2,3),(2,4),(3,5),(3,6),(4,6),(5,7),(6,7),(7,8),(8,9),(8,10)])\n",
        "plt.figure(figsize=(5, 5))\n",
        "nx.draw_spring(G, node_size=400, node_color='red', with_labels=True, font_weight='bold')"
      ],
      "execution_count": 2,
      "outputs": [
        {
          "output_type": "display_data",
          "data": {
            "image/png": "[encoded data removed]",
            "text/plain": [
              "<Figure size 360x360 with 1 Axes>"
            ]
          },
          "metadata": {}
        }
      ]
    },
    {
      "cell_type": "markdown",
      "source": [
        "Then, we use built-in functions from the library `networkx` to calculate centralities and report the most central node for each definition."
      ],
      "metadata": {
        "id": "I5H4Kod0gfag"
      }
    },
    {
      "cell_type": "code",
      "source": [
        "name = [\"Degree centrality\", \"Betweenness centrality\", \"Closeness centrality\", \"Eigenvector centrality\", \"Pagerank\", \"Katz centrality\"]\n",
        "centrality = [list(nx.degree_centrality(G).values())]\n",
        "centrality.append(list(nx.betweenness_centrality(G).values()))\n",
        "centrality.append(list(nx.closeness_centrality(G).values()))\n",
        "centrality.append(list(nx.eigenvector_centrality(G).values()))\n",
        "centrality.append(list(nx.pagerank(G).values())) # default alpha = 0.85\n",
        "centrality.append(list(nx.katz_centrality(G).values()))\n",
        "for name,v in zip(name,centrality):\n",
        "  s = (f\"{f'     {name}: ':<30}\"+', '.join(['%.2f']*len(v))) % tuple(v)\n",
        "  print(s, \"\\tbiggest:\", np.argmax(v))"
      ],
      "metadata": {
        "colab": {
          "base_uri": "https://localhost:8080/"
        },
        "id": "m0RsEWajZRqr",
        "outputId": "15d9a6f5-4cda-4e0f-b584-be17296bd249"
      },
      "execution_count": 28,
      "outputs": [
        {
          "output_type": "stream",
          "name": "stdout",
          "text": [
            "     Degree centrality:       0.10, 0.10, 0.40, 0.30, 0.20, 0.20, 0.30, 0.30, 0.30, 0.10, 0.10 \tbiggest: 2\n",
            "     Betweenness centrality:  0.00, 0.00, 0.40, 0.30, 0.12, 0.13, 0.34, 0.49, 0.38, 0.00, 0.00 \tbiggest: 7\n",
            "     Closeness centrality:    0.29, 0.29, 0.40, 0.45, 0.42, 0.43, 0.48, 0.45, 0.37, 0.28, 0.28 \tbiggest: 6\n",
            "     Eigenvector centrality:  0.16, 0.16, 0.42, 0.45, 0.33, 0.31, 0.44, 0.36, 0.20, 0.07, 0.07 \tbiggest: 3\n",
            "     Pagerank:                0.05, 0.05, 0.16, 0.11, 0.08, 0.08, 0.11, 0.12, 0.14, 0.05, 0.05 \tbiggest: 2\n",
            "     Katz centrality:         0.27, 0.27, 0.35, 0.33, 0.30, 0.30, 0.33, 0.33, 0.32, 0.26, 0.26 \tbiggest: 2\n"
          ]
        }
      ]
    }
  ]
}