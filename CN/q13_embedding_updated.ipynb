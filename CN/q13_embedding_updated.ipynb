{
  "nbformat": 4,
  "nbformat_minor": 0,
  "metadata": {
    "colab": {
      "name": "embedding_updated.ipynb",
      "provenance": []
    },
    "kernelspec": {
      "name": "python3",
      "display_name": "Python 3"
    }
  },
  "cells": [
    {
      "cell_type": "markdown",
      "source": [
        "#Quiz #13\n",
        "This notebook is created by Chinchuthakun Worameth as a part of Complex Network (ART.T462) at Tokyo Institute of Technology taught in Fall semester 2021 by Prof. Murata Tsuyoshi. It demonstrates two-dimensional embedding of Zachary's karate club network"
      ],
      "metadata": {
        "id": "tycjDr-0KVIB"
      }
    },
    {
      "cell_type": "markdown",
      "metadata": {
        "id": "ldfUihNBfzt7"
      },
      "source": [
        "cf. \n",
        "gensim: Word2vec embeddings\n",
        "https://radimrehurek.com/gensim/models/word2vec.html\n",
        "\n",
        "a blog of DeepWalk (written in Japanese)\n",
        "https://netres-bigdata.hatenablog.com/entry/2018/07/06/042240"
      ]
    },
    {
      "cell_type": "markdown",
      "source": [
        "## 1. Two-dimensional embedding with Deepwalk (#1)"
      ],
      "metadata": {
        "id": "CY8ZO6crKe7O"
      }
    },
    {
      "cell_type": "code",
      "source": [
        "# embedding of Zachary's karate club network (updated)\n",
        "import networkx as nx\n",
        "import matplotlib.pyplot as plt\n",
        "import random\n",
        "from gensim.models import Word2Vec as word2vec"
      ],
      "metadata": {
        "id": "RotC5dzUKn1G"
      },
      "execution_count": 1,
      "outputs": []
    },
    {
      "cell_type": "code",
      "source": [
        "def make_random_walks(G, num_of_walk, length_of_walk):\n",
        "  walks = list()\n",
        "  for i in range(num_of_walk):\n",
        "    node_list = list(G.nodes())\n",
        "    for node in node_list:\n",
        "      current_node = node\n",
        "      walk = list()\n",
        "      walk.append(str(node))\n",
        "      for j in range(length_of_walk):\n",
        "        random.seed() ### inserted\n",
        "        next_node = random.choice(list(G.neighbors(current_node)))\n",
        "        walk.append(str(next_node))\n",
        "        current_node = next_node ### updated\n",
        "      walks.append(walk)\n",
        "  return walks"
      ],
      "metadata": {
        "id": "OeoOCiB6Ko3O"
      },
      "execution_count": 2,
      "outputs": []
    },
    {
      "cell_type": "code",
      "metadata": {
        "id": "d1wILIs6gIRL",
        "outputId": "60a22ff0-536d-4a91-f8f7-1165c5439168",
        "colab": {
          "base_uri": "https://localhost:8080/",
          "height": 265
        }
      },
      "source": [
        "G = nx.karate_club_graph()\n",
        "walks = make_random_walks(G, 100, 20)\n",
        "model = word2vec(walks, min_count=0, size=2, window=5, workers=1)\n",
        "\n",
        "x = list()\n",
        "y = list()\n",
        "node_list = list()\n",
        "colors = list()\n",
        "fig, ax = plt.subplots()\n",
        "for node in G.nodes():\n",
        "  vector = model.wv[str(node)]\n",
        "  x.append(vector[0])\n",
        "  y.append(vector[1])\n",
        "  ax.annotate(str(node), (vector[0], vector[1]))\n",
        "  if G.nodes[node][\"club\"] == \"Officer\":\n",
        "    colors.append(\"r\")\n",
        "  else:\n",
        "    colors.append(\"b\")\n",
        "for i in range(len(x)):\n",
        "  ax.scatter(x[i], y[i], c=colors[i])\n",
        "plt.show()"
      ],
      "execution_count": 3,
      "outputs": [
        {
          "output_type": "display_data",
          "data": {
            "image/png": "[encoded data removed]",
            "text/plain": [
              "<Figure size 432x288 with 1 Axes>"
            ]
          },
          "metadata": {
            "needs_background": "light"
          }
        }
      ]
    },
    {
      "cell_type": "markdown",
      "source": [
        "## 2. Model prediction (#2)"
      ],
      "metadata": {
        "id": "lNYk98UIKsZW"
      }
    },
    {
      "cell_type": "markdown",
      "source": [
        "Now, we will predict top five pairs of nodes that\n",
        "are likely be connected based on $k$ - dimensional embedding and check whether the predictions are correct. For this subtask, we will use $k=10$."
      ],
      "metadata": {
        "id": "-9UDNuUOKxce"
      }
    },
    {
      "cell_type": "code",
      "source": [
        "A = nx.adjacency_matrix(G).todense()"
      ],
      "metadata": {
        "id": "UnZu_57GQg1T"
      },
      "execution_count": 4,
      "outputs": []
    },
    {
      "cell_type": "code",
      "source": [
        "model = word2vec(walks, min_count=0, size=10, window=5, workers=1)"
      ],
      "metadata": {
        "id": "BTfo-9_oPY5R"
      },
      "execution_count": 5,
      "outputs": []
    },
    {
      "cell_type": "code",
      "source": [
        "A = nx.adjacency_matrix(G).todense()\n",
        "for i in range(G.number_of_nodes()):\n",
        "  top_connect = model.predict_output_word(walks[i], topn=5)\n",
        "  print(f\"Node {i}: {[x[0] for x in top_connect]}\\t p = {[round(x[1],3) for x in top_connect]} \\\n",
        "  -----> {[int(A[i,int(x[0])-1]) for x in top_connect]}\")"
      ],
      "metadata": {
        "colab": {
          "base_uri": "https://localhost:8080/"
        },
        "id": "MK2UWLkbLqBS",
        "outputId": "ca0c749a-0408-457b-cd5c-75fb07eedc3c"
      },
      "execution_count": 6,
      "outputs": [
        {
          "output_type": "stream",
          "name": "stdout",
          "text": [
            "Node 0: ['9', '22', '15', '14', '18']\t p = [0.051, 0.047, 0.046, 0.046, 0.043]   -----> [1, 1, 0, 1, 1]\n",
            "Node 1: ['22', '15', '14', '18', '26']\t p = [0.069, 0.068, 0.063, 0.06, 0.058]   -----> [1, 0, 1, 1, 0]\n",
            "Node 2: ['22', '15', '14', '26', '18']\t p = [0.06, 0.058, 0.056, 0.055, 0.051]   -----> [0, 0, 1, 0, 0]\n",
            "Node 3: ['12', '21', '17', '11', '19']\t p = [0.057, 0.055, 0.051, 0.048, 0.048]   -----> [0, 0, 0, 0, 0]\n",
            "Node 4: ['16', '4', '6', '5', '10']\t p = [0.202, 0.144, 0.117, 0.115, 0.1]   -----> [0, 0, 0, 0, 0]\n",
            "Node 5: ['9', '19', '11', '22', '14']\t p = [0.044, 0.042, 0.042, 0.04, 0.039]   -----> [0, 0, 1, 0, 0]\n",
            "Node 6: ['16', '4', '6', '5', '10']\t p = [0.233, 0.152, 0.129, 0.124, 0.102]   -----> [0, 0, 1, 1, 0]\n",
            "Node 7: ['15', '22', '14', '26', '9']\t p = [0.058, 0.056, 0.055, 0.053, 0.052]   -----> [0, 0, 0, 0, 0]\n",
            "Node 8: ['15', '26', '22', '14', '20']\t p = [0.067, 0.066, 0.064, 0.062, 0.056]   -----> [0, 0, 0, 0, 0]\n",
            "Node 9: ['25', '24', '15', '26', '14']\t p = [0.056, 0.054, 0.052, 0.051, 0.051]   -----> [0, 0, 0, 0, 0]\n",
            "Node 10: ['16', '4', '6', '5', '10']\t p = [0.23, 0.152, 0.128, 0.125, 0.102]   -----> [0, 0, 1, 1, 0]\n",
            "Node 11: ['12', '21', '17', '11', '7']\t p = [0.091, 0.083, 0.076, 0.071, 0.061]   -----> [0, 0, 0, 0, 0]\n",
            "Node 12: ['16', '4', '10', '5', '6']\t p = [0.125, 0.117, 0.09, 0.087, 0.081]   -----> [0, 1, 0, 0, 0]\n",
            "Node 13: ['9', '19', '12', '21', '17']\t p = [0.048, 0.046, 0.045, 0.045, 0.042]   -----> [0, 0, 0, 0, 0]\n",
            "Node 14: ['15', '26', '22', '14', '20']\t p = [0.078, 0.076, 0.074, 0.07, 0.062]   -----> [0, 0, 0, 0, 0]\n",
            "Node 15: ['11', '12', '21', '17', '4']\t p = [0.072, 0.065, 0.061, 0.061, 0.057]   -----> [0, 0, 0, 0, 0]\n",
            "Node 16: ['11', '4', '12', '17', '21']\t p = [0.07, 0.061, 0.058, 0.056, 0.055]   -----> [0, 0, 0, 0, 0]\n",
            "Node 17: ['24', '25', '9', '14', '15']\t p = [0.047, 0.047, 0.044, 0.043, 0.042]   -----> [0, 0, 0, 0, 0]\n",
            "Node 18: ['11', '4', '16', '10', '17']\t p = [0.067, 0.067, 0.062, 0.058, 0.05]   -----> [0, 0, 0, 0, 0]\n",
            "Node 19: ['16', '4', '10', '5', '6']\t p = [0.109, 0.099, 0.079, 0.075, 0.075]   -----> [0, 0, 0, 0, 0]\n",
            "Node 20: ['22', '15', '14', '9', '18']\t p = [0.056, 0.055, 0.053, 0.052, 0.05]   -----> [0, 0, 0, 0, 0]\n",
            "Node 21: ['4', '16', '11', '10', '5']\t p = [0.083, 0.079, 0.075, 0.069, 0.06]   -----> [0, 0, 0, 0, 0]\n",
            "Node 22: ['15', '22', '14', '26', '20']\t p = [0.071, 0.07, 0.065, 0.065, 0.059]   -----> [0, 0, 0, 0, 0]\n",
            "Node 23: ['15', '26', '22', '14', '20']\t p = [0.082, 0.081, 0.08, 0.073, 0.066]   -----> [0, 1, 0, 0, 0]\n",
            "Node 24: ['12', '21', '17', '11', '7']\t p = [0.058, 0.053, 0.05, 0.049, 0.047]   -----> [0, 0, 0, 0, 0]\n",
            "Node 25: ['9', '19', '12', '21', '30']\t p = [0.05, 0.044, 0.043, 0.042, 0.039]   -----> [0, 0, 0, 0, 0]\n",
            "Node 26: ['15', '26', '22', '14', '20']\t p = [0.076, 0.075, 0.072, 0.068, 0.062]   -----> [0, 0, 0, 0, 0]\n",
            "Node 27: ['4', '11', '16', '10', '5']\t p = [0.065, 0.062, 0.061, 0.056, 0.048]   -----> [0, 0, 0, 0, 0]\n",
            "Node 28: ['11', '12', '21', '17', '4']\t p = [0.073, 0.072, 0.065, 0.064, 0.058]   -----> [0, 0, 0, 0, 0]\n",
            "Node 29: ['12', '21', '19', '17', '7']\t p = [0.058, 0.057, 0.051, 0.05, 0.047]   -----> [0, 0, 0, 0, 0]\n",
            "Node 30: ['21', '19', '12', '17', '9']\t p = [0.054, 0.052, 0.051, 0.048, 0.045]   -----> [0, 0, 0, 0, 1]\n",
            "Node 31: ['15', '22', '26', '14', '20']\t p = [0.065, 0.063, 0.061, 0.061, 0.054]   -----> [0, 0, 1, 0, 0]\n",
            "Node 32: ['15', '22', '14', '26', '18']\t p = [0.062, 0.061, 0.058, 0.055, 0.053]   -----> [1, 0, 0, 0, 0]\n",
            "Node 33: ['22', '15', '14', '26', '18']\t p = [0.063, 0.06, 0.058, 0.055, 0.052]   -----> [0, 1, 1, 0, 0]\n"
          ]
        }
      ]
    }
  ]
}