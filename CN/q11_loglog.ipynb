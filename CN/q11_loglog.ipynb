{
  "nbformat": 4,
  "nbformat_minor": 0,
  "metadata": {
    "colab": {
      "name": "loglog.ipynb",
      "provenance": []
    },
    "kernelspec": {
      "name": "python3",
      "display_name": "Python 3"
    }
  },
  "cells": [
    {
      "cell_type": "markdown",
      "source": [
        "#Quiz #11\n",
        "This notebook is created by Chinchuthakun Worameth as a part of Complex Network (ART.T462) at Tokyo Institute of Technology taught in Fall semester 2021 by Prof. Murata Tsuyoshi. It contains analysis of (a) Erdos-Renyi graph and (b)\n",
        "Barabasi-Albert graph of 10,000 nodes and about 50,000 edges on the following metrics:\n",
        "\n",
        "* Degree distribution\n",
        "* Number of nodes\n",
        "* Number of edges\n",
        "* Average degree\n",
        "* Number of connected components\n",
        "* Number of triangles\n",
        "* Transitivity (clustering coefficient)\n",
        "* Maximum degree\n",
        "* Minimum degree"
      ],
      "metadata": {
        "id": "XHSTAvSi56bD"
      }
    },
    {
      "cell_type": "markdown",
      "source": [
        "##1. Degree distribution (#1)"
      ],
      "metadata": {
        "id": "xetZ58ac6OOB"
      }
    },
    {
      "cell_type": "code",
      "source": [
        "import networkx as nx\n",
        "import matplotlib.pyplot as plt\n",
        "from networkx.utils.random_sequence import powerlaw_sequence"
      ],
      "metadata": {
        "id": "nHB7COdN6NDh"
      },
      "execution_count": 1,
      "outputs": []
    },
    {
      "cell_type": "code",
      "metadata": {
        "outputId": "35fea147-17ad-4dbb-ed37-f34c3c9cc54b",
        "id": "KX_i-iD3eAWr",
        "colab": {
          "base_uri": "https://localhost:8080/",
          "height": 373
        }
      },
      "source": [
        "er = nx.erdos_renyi_graph(10000, 0.001)\n",
        "print(\"Erdos-Renyi graph\")\n",
        "print(nx.info(er))\n",
        "plt.subplot(221)\n",
        "plt.plot(nx.degree_histogram(er))\n",
        "print()\n",
        "ba = nx.barabasi_albert_graph(10000, 5)\n",
        "print(\"Barabasi-Albert graph\")\n",
        "print(nx.info(ba))\n",
        "plt.subplot(222)\n",
        "plt.plot(nx.degree_histogram(ba))\n",
        "\n",
        "# plot logarithmic axes\n",
        "plt.subplot(223)\n",
        "plt.xscale(\"log\")\n",
        "plt.yscale(\"log\")\n",
        "plt.grid(which=\"both\")\n",
        "plt.plot(nx.degree_histogram(er))\n",
        "plt.subplot(224)\n",
        "plt.xscale(\"log\")\n",
        "plt.yscale(\"log\")\n",
        "plt.grid(which=\"both\")\n",
        "plt.plot(nx.degree_histogram(ba))"
      ],
      "execution_count": 2,
      "outputs": [
        {
          "output_type": "stream",
          "name": "stdout",
          "text": [
            "Erdos-Renyi graph\n",
            "Graph with 10000 nodes and 49740 edges\n",
            "\n",
            "Barabasi-Albert graph\n",
            "Graph with 10000 nodes and 49975 edges\n"
          ]
        },
        {
          "output_type": "execute_result",
          "data": {
            "text/plain": [
              "[<matplotlib.lines.Line2D at 0x7f779afc3fd0>]"
            ]
          },
          "metadata": {},
          "execution_count": 2
        },
        {
          "output_type": "display_data",
          "data": {
            "image/png": "[encoded data removed]",
            "text/plain": [
              "<Figure size 432x288 with 4 Axes>"
            ]
          },
          "metadata": {
            "needs_background": "light"
          }
        }
      ]
    },
    {
      "cell_type": "markdown",
      "source": [
        "##2. Other metrics (#2)"
      ],
      "metadata": {
        "id": "1jUc71P36iO7"
      }
    },
    {
      "cell_type": "code",
      "source": [
        "from networkx.algorithms import number_connected_components, triangles, transitivity"
      ],
      "metadata": {
        "id": "Jim20rDy8W17"
      },
      "execution_count": 3,
      "outputs": []
    },
    {
      "cell_type": "code",
      "source": [
        "def describe(G):\n",
        "  n = G.number_of_nodes()\n",
        "  m = G.number_of_edges()\n",
        "  degList = G.degree()\n",
        "  print(\"#Node: \", n)\n",
        "  print(\"#Edge: \", m)\n",
        "  print(\"Average degree: \", 2*m/n)\n",
        "  print(\"#Connected component: \", number_connected_components(G))\n",
        "  print(\"#Triangle: \", sum(triangles(G).values()) / 3) # according to documentation, each triangle is counted three times.\n",
        "  print(\"Transitivity: \", transitivity(G))\n",
        "  print(f\"Maximum degree: {max(degList, key=lambda x: x[1])[1]} at node {max(degList, key=lambda x: x[1])[0]}\")\n",
        "  print(f\"Minimum degree: {min(degList, key=lambda x: x[1])[1]} at node {min(degList, key=lambda x: x[1])[0]}\")"
      ],
      "metadata": {
        "id": "tlYzK-Fc6tWG"
      },
      "execution_count": 4,
      "outputs": []
    },
    {
      "cell_type": "code",
      "source": [
        "print(\"#\"*20)\n",
        "print(\"Erdos-Renyi graph\")\n",
        "print(\"#\"*20)\n",
        "describe(er)\n",
        "\n",
        "print(\"#\"*20)\n",
        "print(\"Barabasi-Albert graph\")\n",
        "print(\"#\"*20)\n",
        "describe(ba)"
      ],
      "metadata": {
        "colab": {
          "base_uri": "https://localhost:8080/"
        },
        "id": "nOpW1G-U7uGs",
        "outputId": "9049ec35-52b8-43df-edcd-415d16e77a66"
      },
      "execution_count": 5,
      "outputs": [
        {
          "output_type": "stream",
          "name": "stdout",
          "text": [
            "####################\n",
            "Erdos-Renyi graph\n",
            "####################\n",
            "#Node:  10000\n",
            "#Edge:  49740\n",
            "Average degree:  9.948\n",
            "#Connected component:  3\n",
            "#Triangle:  158.0\n",
            "Transitivity:  0.000955837870538415\n",
            "Maximum degree: 24 at node 8526\n",
            "Minimum degree: 0 at node 7621\n",
            "####################\n",
            "Barabasi-Albert graph\n",
            "####################\n",
            "#Node:  10000\n",
            "#Edge:  49975\n",
            "Average degree:  9.995\n",
            "#Connected component:  1\n",
            "#Triangle:  2280.0\n",
            "Transitivity:  0.005171819331111367\n",
            "Maximum degree: 422 at node 0\n",
            "Minimum degree: 5 at node 1043\n"
          ]
        }
      ]
    }
  ]
}