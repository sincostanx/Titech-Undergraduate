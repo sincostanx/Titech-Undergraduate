{
 "cells": [
  {
   "cell_type": "markdown",
   "source": "# Exercise #2\n\nThis notebook is created by **Chinchuthakun Worameth** as a part of **Sparse Signal Processing and Optimization (ART.T465)** at Tokyo Institute of Technology taught in Fall semester 2021 by Prof. Ono Shunsuke. It contains\n- Implementation of proximal operator for the L1 norm and the nuclear norm\n- Implementation of projection onto the box contraint",
   "metadata": {
    "tags": [],
    "cell_id": "00001-f697932f-3943-4417-a843-2dc716217879",
    "deepnote_cell_type": "markdown"
   }
  },
  {
   "cell_type": "markdown",
   "source": "## 1. Proximal Operator",
   "metadata": {
    "tags": [],
    "cell_id": "00001-cc67186e-0674-40c9-88ad-9b15d7a26a21",
    "deepnote_cell_type": "markdown"
   }
  },
  {
   "cell_type": "markdown",
   "source": "**Proximal operator** of function $f$ is defined as\n$$\n\\text{prox}_{\\gamma f}(x) = \\text{argmin}_y f(y) + \\frac{1}{2\\gamma}\\Vert x - y \\Vert^2, \\gamma>0\n$$",
   "metadata": {
    "tags": [],
    "cell_id": "00002-ba5c6662-8bcf-425d-a9a8-d5b4c024abef",
    "deepnote_cell_type": "markdown"
   }
  },
  {
   "cell_type": "markdown",
   "source": "### 1.1. L1 norm\nWe define **L1 norm** and its proximal operator as\n$$\nf(x) = \\Vert x \\Vert_1 \\rightarrow \\text{prox}_{\\gamma f}(x) = \\text{SoftThre}(x,\\gamma)\n$$\nsuch that\n$$\n\\text{SoftThre}(x,\\gamma) = \\text{sgn}(x) \\circ \\text{max}(\\text{abs}(x), 0)\n$$\nwhere $\\text{sgn}(x)$, $\\circ$, and $\\text{abs}(x)$ are the sign function, Hadamard product, and element-wise absolute value of $x$ respectively.",
   "metadata": {
    "tags": [],
    "cell_id": "00002-7d187dd6-6fda-4b69-8466-99e6aa4bfb03",
    "deepnote_cell_type": "markdown"
   }
  },
  {
   "cell_type": "markdown",
   "source": "### 1.2. Nuclear norm\nSimilarly, **Nuclear norm** and its proximal operator are\n$$\ng(X) = \\Vert X \\Vert_* \\rightarrow \\text{prox}_{\\gamma g}(X) = U(\\text{SoftThre}(\\Sigma, \\gamma))V^T\n$$\nwhere $X=U\\Sigma V^T$, i.e. **Singular Value Decomposition (SVD)**.",
   "metadata": {
    "tags": [],
    "cell_id": "00002-d4be4b66-6195-4f0c-b38c-18bf9300ae2e",
    "deepnote_cell_type": "markdown"
   }
  },
  {
   "cell_type": "markdown",
   "source": "## 2. Projection\n\n",
   "metadata": {
    "tags": [],
    "cell_id": "00002-f5883953-962d-4fa5-b6eb-ad9b86d37cb3",
    "deepnote_cell_type": "markdown"
   }
  },
  {
   "cell_type": "markdown",
   "source": "**Convex projection** of $x$ onto a closed convex set $C$ is defined as\n$$\nP_C(x) = \\text{argmin}_{y \\in C}\\Vert x - y\\Vert\n$$\nUsing the indicator function $1_C$ to map points inside and outside $C$ to $0$ and $\\infty$, it is obvious that\n$$\nP_C(x) = \\text{prox}_{\\gamma 1_C}(x)\n$$",
   "metadata": {
    "tags": [],
    "cell_id": "00002-8879813e-6e44-4b82-974e-b97ad738aeea",
    "deepnote_cell_type": "markdown"
   }
  },
  {
   "cell_type": "markdown",
   "source": "### 2.1. Box constraint\nGiven $C = [a,b]^N$ such that $a < b$, by using the indicator function, we can define the projection onto the box constraint as\n$$\nP_C(x) = [\\max(a,\\min(b,x_i))]_i\n$$",
   "metadata": {
    "tags": [],
    "cell_id": "00006-35038c53-b1f2-4210-8bd3-4586e9175996",
    "deepnote_cell_type": "markdown"
   }
  },
  {
   "cell_type": "markdown",
   "source": "## 3. Implementation",
   "metadata": {
    "tags": [],
    "cell_id": "00008-f17f5a7a-e02e-4a82-ba1d-e55eb72e64a1",
    "deepnote_cell_type": "markdown"
   }
  },
  {
   "cell_type": "markdown",
   "source": "We define class ```proximalOperator``` for L1 norm, Nuclear norm, and box constraint (since convex projection is equivalent to proximal operator). Then, we demonstrate them on random inputs.",
   "metadata": {
    "tags": [],
    "cell_id": "00009-e00e5b63-f496-46a1-adc1-1c6952bfd8d8",
    "deepnote_cell_type": "markdown"
   }
  },
  {
   "cell_type": "code",
   "metadata": {
    "tags": [],
    "cell_id": "00000-14b00999-4f37-4d81-bc8f-7589abef1748",
    "deepnote_to_be_reexecuted": false,
    "source_hash": "ffa426ac",
    "execution_start": 1635395349651,
    "execution_millis": 15,
    "deepnote_cell_type": "code"
   },
   "source": "import numpy as np\nimport random",
   "outputs": [],
   "execution_count": null
  },
  {
   "cell_type": "code",
   "metadata": {
    "tags": [],
    "cell_id": "00001-d8d89dec-f274-4e90-9ca3-f5192d09a01f",
    "deepnote_to_be_reexecuted": false,
    "source_hash": "ff7a885",
    "execution_start": 1635395667295,
    "execution_millis": 32,
    "deepnote_cell_type": "code"
   },
   "source": "class proximalOperator:\n    def __init__(self, param):\n        self.param = param\n    \n    def softThreshold(self, x):\n        return np.sign(x) * np.maximum(np.absolute(x) - self.param['gamma'], np.zeros(x.shape))\n    \n    def calculate(self, x):\n        if self.param['name'] == \"l1\":\n            return self.softThreshold(x)\n        elif self.param['name'] == \"nuclear\":\n            \"\"\"\n            np.linalg.svd returns s as a vector [s_1, ..., s_r]\n            So, we need to convert it to a diagonal matrix first.\n            \"\"\"\n            u, s, vt = np.linalg.svd(x)\n            s_full = np.zeros(x.shape)\n            s_full[:s.shape[0], :s.shape[0]] = np.diag(s)\n            return self.softThreshold(s_full)\n        elif self.param['name'] == \"box\":\n            all_a = np.full(x.shape, self.param['a'])\n            all_b = np.full(x.shape, self.param['b'])\n            return np.maximum(all_a, np.minimum(x, all_b))",
   "outputs": [],
   "execution_count": null
  },
  {
   "cell_type": "markdown",
   "source": "### 3.1. L1 norm",
   "metadata": {
    "tags": [],
    "cell_id": "00010-d653e0d2-c173-494f-b38a-cc15bd975429",
    "deepnote_cell_type": "markdown"
   }
  },
  {
   "cell_type": "code",
   "source": "param = dict(name = \"l1\", gamma = 0.5)\nproxOp = proximalOperator(param)",
   "metadata": {
    "tags": [],
    "cell_id": "00014-3bea4261-d00e-43c6-94a6-259cc943af80",
    "deepnote_cell_type": "code"
   },
   "outputs": [],
   "execution_count": null
  },
  {
   "cell_type": "code",
   "metadata": {
    "tags": [],
    "cell_id": "00002-f726489d-ccd0-4a1a-bfac-9af6dc553e21",
    "deepnote_to_be_reexecuted": false,
    "source_hash": "843df73e",
    "execution_start": 1635395569514,
    "execution_millis": 20,
    "deepnote_cell_type": "code"
   },
   "source": "# input is a vector\nx = np.random.rand(5)\nprint(\"Input: \", x)\nprint(\"Prox: \", proxOp.calculate(x))\nprint(\"#\"*20)\n# input is a matrix\nx = np.random.rand(5, 6)\nprint(\"Input: \", x)\nprint(\"Prox: \", proxOp.calculate(x))",
   "outputs": [
    {
     "name": "stdout",
     "text": "Input:  [0.30641631 0.87921065 0.87514323 0.49088731 0.47492024]\nProx:  [0.         0.37921065 0.37514323 0.         0.        ]\n####################\nInput:  [[0.40740831 0.2789164  0.85427081 0.18934023 0.07944274 0.38065153]\n [0.56113664 0.81817118 0.36966436 0.84353933 0.74925917 0.75649248]\n [0.19580754 0.34749131 0.71763302 0.05905848 0.45224151 0.10263657]\n [0.60810289 0.21142864 0.98039322 0.6672739  0.91222131 0.93156772]\n [0.86804179 0.3087482  0.03295242 0.97255999 0.65480204 0.4183098 ]]\nProx:  [[0.         0.         0.35427081 0.         0.         0.        ]\n [0.06113664 0.31817118 0.         0.34353933 0.24925917 0.25649248]\n [0.         0.         0.21763302 0.         0.         0.        ]\n [0.10810289 0.         0.48039322 0.1672739  0.41222131 0.43156772]\n [0.36804179 0.         0.         0.47255999 0.15480204 0.        ]]\n",
     "output_type": "stream"
    }
   ],
   "execution_count": null
  },
  {
   "cell_type": "markdown",
   "source": "### 3.2. Nuclear norm",
   "metadata": {
    "tags": [],
    "cell_id": "00013-4db11eee-b07e-48c3-87de-820f2095f513",
    "deepnote_cell_type": "markdown"
   }
  },
  {
   "cell_type": "code",
   "source": "param = dict(name = \"nuclear\", gamma = 0.5)\nproxOp = proximalOperator(param)",
   "metadata": {
    "tags": [],
    "cell_id": "00016-ad0acfe0-892c-4392-a3fb-9cf05c222415",
    "deepnote_to_be_reexecuted": false,
    "source_hash": "681ef463",
    "execution_start": 1635395673365,
    "execution_millis": 2,
    "deepnote_cell_type": "code"
   },
   "outputs": [],
   "execution_count": null
  },
  {
   "cell_type": "code",
   "source": "# input is a matrix\nx = np.random.rand(5, 6)\nprint(\"Input: \", x)\nprint(\"Prox: \", proxOp.calculate(x))",
   "metadata": {
    "tags": [],
    "cell_id": "00017-d1edaba3-162a-4f90-8db4-cd93e7268d7e",
    "deepnote_to_be_reexecuted": false,
    "source_hash": "e43be942",
    "execution_start": 1635395674541,
    "execution_millis": 3,
    "deepnote_cell_type": "code"
   },
   "outputs": [
    {
     "name": "stdout",
     "text": "Input:  [[0.69102478 0.67771974 0.75383203 0.12139337 0.43796632 0.81449429]\n [0.57403847 0.35781768 0.94001131 0.05257832 0.18693622 0.1612751 ]\n [0.12823358 0.21916698 0.53511912 0.66951926 0.37077236 0.71453993]\n [0.31733218 0.39330334 0.70720833 0.53356012 0.41460748 0.62784016]\n [0.60634103 0.63473826 0.09719439 0.52963226 0.96671707 0.64271493]]\nProx:  [[2.28172365 0.         0.         0.         0.         0.        ]\n [0.         0.453095   0.         0.         0.         0.        ]\n [0.         0.         0.19095044 0.         0.         0.        ]\n [0.         0.         0.         0.         0.         0.        ]\n [0.         0.         0.         0.         0.         0.        ]]\n",
     "output_type": "stream"
    }
   ],
   "execution_count": null
  },
  {
   "cell_type": "markdown",
   "source": "### 3.3. Projection onto Box constraint",
   "metadata": {
    "tags": [],
    "cell_id": "00016-df732f89-cbc4-45f6-87ba-402b36f9b54b",
    "deepnote_cell_type": "markdown"
   }
  },
  {
   "cell_type": "code",
   "source": "param = dict(name = \"box\", a = .5, b = .8)\nproxOp = proximalOperator(param)",
   "metadata": {
    "tags": [],
    "cell_id": "00019-7044bc6c-a79b-462d-a723-9f12e894c332",
    "deepnote_to_be_reexecuted": false,
    "source_hash": "129b90fd",
    "execution_start": 1635396013091,
    "execution_millis": 8,
    "deepnote_cell_type": "code"
   },
   "outputs": [],
   "execution_count": null
  },
  {
   "cell_type": "code",
   "source": "# input is a vector\nx = np.random.rand(5)\nprint(\"Input: \", x)\nprint(\"Prox: \", proxOp.calculate(x))\nprint(\"#\"*20)\n# input is a matrix\nx = np.random.rand(5, 6)\nprint(\"Input: \", x)\nprint(\"Prox: \", proxOp.calculate(x))",
   "metadata": {
    "tags": [],
    "cell_id": "00020-170866dd-f481-4046-a2f1-652053ffb5ef",
    "deepnote_to_be_reexecuted": false,
    "source_hash": "843df73e",
    "execution_start": 1635396014018,
    "execution_millis": 20,
    "deepnote_cell_type": "code"
   },
   "outputs": [
    {
     "name": "stdout",
     "text": "Input:  [0.98729036 0.06847584 0.47270529 0.47652759 0.05005247]\nProx:  [0.8 0.5 0.5 0.5 0.5]\n####################\nInput:  [[6.35100864e-01 4.60570568e-01 3.08969271e-01 1.15523384e-01\n  3.26515995e-01 1.00685511e-01]\n [6.14512095e-03 8.55313486e-01 6.95162005e-01 5.21968710e-01\n  6.06490373e-02 2.33515033e-01]\n [4.37914535e-01 5.03069411e-01 6.58174741e-01 9.91560774e-01\n  1.25834953e-01 3.39590721e-01]\n [3.15097338e-01 5.70367942e-01 2.44138841e-01 9.23093198e-01\n  5.26741032e-01 2.81680253e-01]\n [9.62101801e-04 1.54559302e-03 3.93889269e-01 6.77582712e-01\n  9.96585378e-01 7.12460503e-01]]\nProx:  [[0.63510086 0.5        0.5        0.5        0.5        0.5       ]\n [0.5        0.8        0.695162   0.52196871 0.5        0.5       ]\n [0.5        0.50306941 0.65817474 0.8        0.5        0.5       ]\n [0.5        0.57036794 0.5        0.8        0.52674103 0.5       ]\n [0.5        0.5        0.5        0.67758271 0.8        0.7124605 ]]\n",
     "output_type": "stream"
    }
   ],
   "execution_count": null
  },
  {
   "cell_type": "markdown",
   "source": "<a style='text-decoration:none;line-height:16px;display:flex;color:#5B5B62;padding:10px;justify-content:end;' href='https://deepnote.com?utm_source=created-in-deepnote-cell&projectId=ceb3b963-7d26-4b9f-840e-3ecd7c45577b' target=\"_blank\">\n<img alt='Created in deepnote.com' style='display:inline;max-height:16px;margin:0px;margin-right:7.5px;' src='data:image/svg+xml;base64,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' > </img>\nCreated in <span style='font-weight:600;margin-left:4px;'>Deepnote</span></a>",
   "metadata": {
    "tags": [],
    "created_in_deepnote_cell": true,
    "deepnote_cell_type": "markdown"
   }
  }
 ],
 "nbformat": 4,
 "nbformat_minor": 2,
 "metadata": {
  "orig_nbformat": 2,
  "deepnote": {
   "is_reactive": false
  },
  "deepnote_notebook_id": "7b92fd59-bb70-449f-b5ef-88cda75de3e6",
  "deepnote_execution_queue": []
 }
}