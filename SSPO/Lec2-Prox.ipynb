{
 "cells": [
  {
   "cell_type": "markdown",
   "source": "# Exercise #2\n\nThis notebook is created by **Chinchuthakun Worameth** as a part of **Sparse Signal Processing and Optimization (ART.T465)** at Tokyo Institute of Technology taught in Fall semester 2021 by Prof. Ono Shunsuke. It contains\n- Implementation of proximal operator for the L1 norm and the nuclear norm\n- Implementation of projection onto the box contraint\nSymbol **[Qx]** indicates that a section or subsection corresponds to the xth question in the lecture slide.",
   "metadata": {
    "tags": [],
    "cell_id": "00001-f697932f-3943-4417-a843-2dc716217879",
    "deepnote_cell_type": "markdown"
   }
  },
  {
   "cell_type": "markdown",
   "source": "## 1. Proximal Operator",
   "metadata": {
    "tags": [],
    "cell_id": "00001-cc67186e-0674-40c9-88ad-9b15d7a26a21",
    "deepnote_cell_type": "markdown"
   }
  },
  {
   "cell_type": "markdown",
   "source": "**Proximal operator** of function $f$ is defined as\n$$\n\\text{prox}_{\\gamma f}(x) = \\text{argmin}_y f(y) + \\frac{1}{2\\gamma}\\Vert x - y \\Vert^2, \\gamma>0\n$$",
   "metadata": {
    "tags": [],
    "cell_id": "00002-ba5c6662-8bcf-425d-a9a8-d5b4c024abef",
    "deepnote_cell_type": "markdown"
   }
  },
  {
   "cell_type": "markdown",
   "source": "### 1.1. L1 norm\nWe define **L1 norm** and its proximal operator as\n$$\nf(x) = \\Vert x \\Vert_1 \\rightarrow \\text{prox}_{\\gamma f}(x) = \\text{SoftThre}(x,\\gamma)\n$$\nsuch that\n$$\n\\text{SoftThre}(x,\\gamma) = \\text{sgn}(x) \\circ \\text{max}(\\text{abs}(x), 0)\n$$\nwhere $\\text{sgn}(x)$, $\\circ$, and $\\text{abs}(x)$ are the sign function, Hadamard product, and element-wise absolute value of $x$ respectively.",
   "metadata": {
    "tags": [],
    "cell_id": "00002-7d187dd6-6fda-4b69-8466-99e6aa4bfb03",
    "deepnote_cell_type": "markdown"
   }
  },
  {
   "cell_type": "markdown",
   "source": "### 1.2. Nuclear norm\nSimilarly, **Nuclear norm** and its proximal operator are\n$$\ng(X) = \\Vert X \\Vert_* \\rightarrow \\text{prox}_{\\gamma g}(X) = U(\\text{SoftThre}(\\Sigma, \\gamma))V^T\n$$\nwhere $X=U\\Sigma V^T$, i.e. **Singular Value Decomposition (SVD)**.",
   "metadata": {
    "tags": [],
    "cell_id": "00002-d4be4b66-6195-4f0c-b38c-18bf9300ae2e",
    "deepnote_cell_type": "markdown"
   }
  },
  {
   "cell_type": "markdown",
   "source": "## 2. Projection\n\n",
   "metadata": {
    "tags": [],
    "cell_id": "00002-f5883953-962d-4fa5-b6eb-ad9b86d37cb3",
    "deepnote_cell_type": "markdown"
   }
  },
  {
   "cell_type": "markdown",
   "source": "**Convex projection** of $x$ onto a closed convex set $C$ is defined as\n$$\nP_C(x) = \\text{argmin}_{y \\in C}\\Vert x - y\\Vert\n$$\nUsing the indicator function $1_C$ to map points inside and outside $C$ to $0$ and $\\infty$, it is obvious that\n$$\nP_C(x) = \\text{prox}_{\\gamma 1_C}(x)\n$$",
   "metadata": {
    "tags": [],
    "cell_id": "00002-8879813e-6e44-4b82-974e-b97ad738aeea",
    "deepnote_cell_type": "markdown"
   }
  },
  {
   "cell_type": "markdown",
   "source": "### 2.1. Box constraint\nGiven $C = [a,b]^N$ such that $a < b$, by using the indicator function, we can define the projection onto the box constraint as\n$$\nP_C(x) = [\\max(a,\\min(b,x_i))]_i\n$$",
   "metadata": {
    "tags": [],
    "cell_id": "00006-35038c53-b1f2-4210-8bd3-4586e9175996",
    "deepnote_cell_type": "markdown"
   }
  },
  {
   "cell_type": "markdown",
   "source": "## 3. Implementation",
   "metadata": {
    "tags": [],
    "cell_id": "00008-f17f5a7a-e02e-4a82-ba1d-e55eb72e64a1",
    "deepnote_cell_type": "markdown"
   }
  },
  {
   "cell_type": "markdown",
   "source": "We define class ```proximalOperator``` for L1 norm, Nuclear norm, and box constraint (since convex projection is equivalent to proximal operator). Then, we demonstrate them on random inputs.",
   "metadata": {
    "tags": [],
    "cell_id": "00009-e00e5b63-f496-46a1-adc1-1c6952bfd8d8",
    "deepnote_cell_type": "markdown"
   }
  },
  {
   "cell_type": "code",
   "metadata": {
    "tags": [],
    "cell_id": "00000-14b00999-4f37-4d81-bc8f-7589abef1748",
    "deepnote_to_be_reexecuted": false,
    "source_hash": "ffa426ac",
    "execution_start": 1635999509954,
    "execution_millis": 24,
    "deepnote_cell_type": "code"
   },
   "source": "import numpy as np\nimport random",
   "outputs": [],
   "execution_count": null
  },
  {
   "cell_type": "code",
   "metadata": {
    "tags": [],
    "cell_id": "00001-d8d89dec-f274-4e90-9ca3-f5192d09a01f",
    "deepnote_to_be_reexecuted": false,
    "source_hash": "1617856",
    "execution_start": 1635999509978,
    "execution_millis": 1,
    "deepnote_cell_type": "code"
   },
   "source": "class proximalOperator:\n    def __init__(self, param):\n        self.param = param\n    \n    def softThreshold(self, x):\n        return np.sign(x) * np.maximum(np.absolute(x) - self.param['gamma'], np.zeros(x.shape))\n    \n    def calculate(self, x):\n        if self.param['name'] == \"l1\":\n            return self.softThreshold(x)\n        elif self.param['name'] == \"nuclear\":\n            \"\"\"\n            np.linalg.svd returns s as a vector [s_1, ..., s_r]\n            So, we need to convert it to a diagonal matrix first.\n            \"\"\"\n            u, s, vt = np.linalg.svd(x)\n            s_full = np.zeros(x.shape)\n            s_full[:s.shape[0], :s.shape[0]] = np.diag(s)\n            return np.matmul(np.matmul(u,self.softThreshold(s_full)),vt)\n        elif self.param['name'] == \"box\":\n            all_a = np.full(x.shape, self.param['a'])\n            all_b = np.full(x.shape, self.param['b'])\n            return np.maximum(all_a, np.minimum(x, all_b))",
   "outputs": [],
   "execution_count": null
  },
  {
   "cell_type": "markdown",
   "source": "### 3.1. L1 norm [Q1]",
   "metadata": {
    "tags": [],
    "cell_id": "00010-d653e0d2-c173-494f-b38a-cc15bd975429",
    "deepnote_cell_type": "markdown"
   }
  },
  {
   "cell_type": "code",
   "metadata": {
    "tags": [],
    "cell_id": "00014-3bea4261-d00e-43c6-94a6-259cc943af80",
    "deepnote_to_be_reexecuted": false,
    "source_hash": "8c80924b",
    "execution_start": 1635999509979,
    "execution_millis": 1,
    "deepnote_cell_type": "code"
   },
   "source": "param = dict(name = \"l1\", gamma = 0.5)\nproxOp = proximalOperator(param)",
   "outputs": [],
   "execution_count": null
  },
  {
   "cell_type": "code",
   "metadata": {
    "tags": [],
    "cell_id": "00002-f726489d-ccd0-4a1a-bfac-9af6dc553e21",
    "deepnote_to_be_reexecuted": false,
    "source_hash": "843df73e",
    "execution_start": 1635999509981,
    "execution_millis": 6,
    "deepnote_cell_type": "code"
   },
   "source": "# input is a vector\nx = np.random.rand(5)\nprint(\"Input: \", x)\nprint(\"Prox: \", proxOp.calculate(x))\nprint(\"#\"*20)\n# input is a matrix\nx = np.random.rand(5, 6)\nprint(\"Input: \", x)\nprint(\"Prox: \", proxOp.calculate(x))",
   "outputs": [
    {
     "name": "stdout",
     "text": "Input:  [0.25352466 0.86344443 0.88904546 0.07573579 0.04068494]\nProx:  [0.         0.36344443 0.38904546 0.         0.        ]\n####################\nInput:  [[0.63836989 0.5866354  0.56982394 0.2799944  0.36248307 0.82815895]\n [0.28863846 0.9899887  0.79943726 0.71339478 0.28323414 0.86946948]\n [0.36777962 0.64656872 0.32130778 0.68209535 0.3214527  0.5467438 ]\n [0.27950722 0.89512642 0.13536162 0.59051664 0.30407004 0.62240308]\n [0.33945157 0.46871635 0.38897496 0.5735065  0.16166209 0.26709962]]\nProx:  [[0.13836989 0.0866354  0.06982394 0.         0.         0.32815895]\n [0.         0.4899887  0.29943726 0.21339478 0.         0.36946948]\n [0.         0.14656872 0.         0.18209535 0.         0.0467438 ]\n [0.         0.39512642 0.         0.09051664 0.         0.12240308]\n [0.         0.         0.         0.0735065  0.         0.        ]]\n",
     "output_type": "stream"
    }
   ],
   "execution_count": null
  },
  {
   "cell_type": "markdown",
   "source": "### 3.2. Nuclear norm [Q2]",
   "metadata": {
    "tags": [],
    "cell_id": "00013-4db11eee-b07e-48c3-87de-820f2095f513",
    "deepnote_cell_type": "markdown"
   }
  },
  {
   "cell_type": "code",
   "metadata": {
    "tags": [],
    "cell_id": "00016-ad0acfe0-892c-4392-a3fb-9cf05c222415",
    "deepnote_to_be_reexecuted": false,
    "source_hash": "681ef463",
    "execution_start": 1635999509988,
    "execution_millis": 2,
    "deepnote_cell_type": "code"
   },
   "source": "param = dict(name = \"nuclear\", gamma = 0.5)\nproxOp = proximalOperator(param)",
   "outputs": [],
   "execution_count": null
  },
  {
   "cell_type": "code",
   "metadata": {
    "tags": [],
    "cell_id": "00017-d1edaba3-162a-4f90-8db4-cd93e7268d7e",
    "deepnote_to_be_reexecuted": false,
    "source_hash": "e43be942",
    "execution_start": 1635999510026,
    "execution_millis": 4,
    "deepnote_cell_type": "code"
   },
   "source": "# input is a matrix\nx = np.random.rand(5, 6)\nprint(\"Input: \", x)\nprint(\"Prox: \", proxOp.calculate(x))",
   "outputs": [
    {
     "name": "stdout",
     "text": "Input:  [[0.5070483  0.05779902 0.98476457 0.76142711 0.6371538  0.34244772]\n [0.76130478 0.1239488  0.14486878 0.59586812 0.95019852 0.53247865]\n [0.12873077 0.51916615 0.16243069 0.28861336 0.26092181 0.44491663]\n [0.84951619 0.32050684 0.01921326 0.21998819 0.48307735 0.86398859]\n [0.41206492 0.82133507 0.83653565 0.33447185 0.53786951 0.14003848]]\nProx:  [[0.45334216 0.22799223 0.62956494 0.51879056 0.57776861 0.2833454 ]\n [0.60191029 0.18394152 0.27521721 0.43327405 0.60007088 0.50956331]\n [0.25659275 0.26231736 0.1897469  0.16931423 0.25616613 0.23732877]\n [0.55960391 0.25406052 0.08916001 0.29285433 0.49332375 0.53961485]\n [0.34210656 0.45897766 0.59052552 0.36874676 0.43735308 0.24449153]]\n",
     "output_type": "stream"
    }
   ],
   "execution_count": null
  },
  {
   "cell_type": "markdown",
   "source": "### 3.3. Projection onto Box constraint [Q3]",
   "metadata": {
    "tags": [],
    "cell_id": "00016-df732f89-cbc4-45f6-87ba-402b36f9b54b",
    "deepnote_cell_type": "markdown"
   }
  },
  {
   "cell_type": "code",
   "metadata": {
    "tags": [],
    "cell_id": "00019-7044bc6c-a79b-462d-a723-9f12e894c332",
    "deepnote_to_be_reexecuted": false,
    "source_hash": "129b90fd",
    "execution_start": 1635999510028,
    "execution_millis": 603496936,
    "deepnote_cell_type": "code"
   },
   "source": "param = dict(name = \"box\", a = .5, b = .8)\nproxOp = proximalOperator(param)",
   "outputs": [],
   "execution_count": null
  },
  {
   "cell_type": "code",
   "metadata": {
    "tags": [],
    "cell_id": "00020-170866dd-f481-4046-a2f1-652053ffb5ef",
    "deepnote_to_be_reexecuted": false,
    "source_hash": "843df73e",
    "execution_start": 1635999510028,
    "execution_millis": 603496010,
    "deepnote_cell_type": "code"
   },
   "source": "# input is a vector\nx = np.random.rand(5)\nprint(\"Input: \", x)\nprint(\"Prox: \", proxOp.calculate(x))\nprint(\"#\"*20)\n# input is a matrix\nx = np.random.rand(5, 6)\nprint(\"Input: \", x)\nprint(\"Prox: \", proxOp.calculate(x))",
   "outputs": [
    {
     "name": "stdout",
     "text": "Input:  [0.135674   0.4312398  0.99308087 0.44355151 0.19559666]\nProx:  [0.5 0.5 0.8 0.5 0.5]\n####################\nInput:  [[0.74717634 0.20043676 0.83813273 0.81086173 0.02033078 0.45770066]\n [0.25149955 0.19875    0.88730641 0.58821065 0.99607698 0.90066226]\n [0.43694019 0.5521144  0.36866127 0.59261047 0.20742795 0.03302646]\n [0.17539294 0.27923218 0.64947372 0.75859171 0.43583133 0.32755492]\n [0.48124378 0.51225917 0.62621853 0.78518231 0.84620731 0.51896223]]\nProx:  [[0.74717634 0.5        0.8        0.8        0.5        0.5       ]\n [0.5        0.5        0.8        0.58821065 0.8        0.8       ]\n [0.5        0.5521144  0.5        0.59261047 0.5        0.5       ]\n [0.5        0.5        0.64947372 0.75859171 0.5        0.5       ]\n [0.5        0.51225917 0.62621853 0.78518231 0.8        0.51896223]]\n",
     "output_type": "stream"
    }
   ],
   "execution_count": null
  },
  {
   "cell_type": "markdown",
   "source": "<a style='text-decoration:none;line-height:16px;display:flex;color:#5B5B62;padding:10px;justify-content:end;' href='https://deepnote.com?utm_source=created-in-deepnote-cell&projectId=ceb3b963-7d26-4b9f-840e-3ecd7c45577b' target=\"_blank\">\n<img alt='Created in deepnote.com' style='display:inline;max-height:16px;margin:0px;margin-right:7.5px;' src='data:image/svg+xml;base64,PD94bWwgdmVyc2lvbj0iMS4wIiBlbmNvZGluZz0iVVRGLTgiPz4KPHN2ZyB3aWR0aD0iODBweCIgaGVpZ2h0PSI4MHB4IiB2aWV3Qm94PSIwIDAgODAgODAiIHZlcnNpb249IjEuMSIgeG1sbnM9Imh0dHA6Ly93d3cudzMub3JnLzIwMDAvc3ZnIiB4bWxuczp4bGluaz0iaHR0cDovL3d3dy53My5vcmcvMTk5OS94bGluayI+CiAgICA8IS0tIEdlbmVyYXRvcjogU2tldGNoIDU0LjEgKDc2NDkwKSAtIGh0dHBzOi8vc2tldGNoYXBwLmNvbSAtLT4KICAgIDx0aXRsZT5Hcm91cCAzPC90aXRsZT4KICAgIDxkZXNjPkNyZWF0ZWQgd2l0aCBTa2V0Y2guPC9kZXNjPgogICAgPGcgaWQ9IkxhbmRpbmciIHN0cm9rZT0ibm9uZSIgc3Ryb2tlLXdpZHRoPSIxIiBmaWxsPSJub25lIiBmaWxsLXJ1bGU9ImV2ZW5vZGQiPgogICAgICAgIDxnIGlkPSJBcnRib2FyZCIgdHJhbnNmb3JtPSJ0cmFuc2xhdGUoLTEyMzUuMDAwMDAwLCAtNzkuMDAwMDAwKSI+CiAgICAgICAgICAgIDxnIGlkPSJHcm91cC0zIiB0cmFuc2Zvcm09InRyYW5zbGF0ZSgxMjM1LjAwMDAwMCwgNzkuMDAwMDAwKSI+CiAgICAgICAgICAgICAgICA8cG9seWdvbiBpZD0iUGF0aC0yMCIgZmlsbD0iIzAyNjVCNCIgcG9pbnRzPSIyLjM3NjIzNzYyIDgwIDM4LjA0NzY2NjcgODAgNTcuODIxNzgyMiA3My44MDU3NTkyIDU3LjgyMTc4MjIgMzIuNzU5MjczOSAzOS4xNDAyMjc4IDMxLjY4MzE2ODMiPjwvcG9seWdvbj4KICAgICAgICAgICAgICAgIDxwYXRoIGQ9Ik0zNS4wMDc3MTgsODAgQzQyLjkwNjIwMDcsNzYuNDU0OTM1OCA0Ny41NjQ5MTY3LDcxLjU0MjI2NzEgNDguOTgzODY2LDY1LjI2MTk5MzkgQzUxLjExMjI4OTksNTUuODQxNTg0MiA0MS42NzcxNzk1LDQ5LjIxMjIyODQgMjUuNjIzOTg0Niw0OS4yMTIyMjg0IEMyNS40ODQ5Mjg5LDQ5LjEyNjg0NDggMjkuODI2MTI5Niw0My4yODM4MjQ4IDM4LjY0NzU4NjksMzEuNjgzMTY4MyBMNzIuODcxMjg3MSwzMi41NTQ0MjUgTDY1LjI4MDk3Myw2Ny42NzYzNDIxIEw1MS4xMTIyODk5LDc3LjM3NjE0NCBMMzUuMDA3NzE4LDgwIFoiIGlkPSJQYXRoLTIyIiBmaWxsPSIjMDAyODY4Ij48L3BhdGg+CiAgICAgICAgICAgICAgICA8cGF0aCBkPSJNMCwzNy43MzA0NDA1IEwyNy4xMTQ1MzcsMC4yNTcxMTE0MzYgQzYyLjM3MTUxMjMsLTEuOTkwNzE3MDEgODAsMTAuNTAwMzkyNyA4MCwzNy43MzA0NDA1IEM4MCw2NC45NjA0ODgyIDY0Ljc3NjUwMzgsNzkuMDUwMzQxNCAzNC4zMjk1MTEzLDgwIEM0Ny4wNTUzNDg5LDc3LjU2NzA4MDggNTMuNDE4MjY3Nyw3MC4zMTM2MTAzIDUzLjQxODI2NzcsNTguMjM5NTg4NSBDNTMuNDE4MjY3Nyw0MC4xMjg1NTU3IDM2LjMwMzk1NDQsMzcuNzMwNDQwNSAyNS4yMjc0MTcsMzcuNzMwNDQwNSBDMTcuODQzMDU4NiwzNy43MzA0NDA1IDkuNDMzOTE5NjYsMzcuNzMwNDQwNSAwLDM3LjczMDQ0MDUgWiIgaWQ9IlBhdGgtMTkiIGZpbGw9IiMzNzkzRUYiPjwvcGF0aD4KICAgICAgICAgICAgPC9nPgogICAgICAgIDwvZz4KICAgIDwvZz4KPC9zdmc+' > </img>\nCreated in <span style='font-weight:600;margin-left:4px;'>Deepnote</span></a>",
   "metadata": {
    "tags": [],
    "created_in_deepnote_cell": true,
    "deepnote_cell_type": "markdown"
   }
  }
 ],
 "nbformat": 4,
 "nbformat_minor": 2,
 "metadata": {
  "orig_nbformat": 2,
  "deepnote": {
   "is_reactive": false
  },
  "deepnote_notebook_id": "7b92fd59-bb70-449f-b5ef-88cda75de3e6",
  "deepnote_execution_queue": []
 }
}