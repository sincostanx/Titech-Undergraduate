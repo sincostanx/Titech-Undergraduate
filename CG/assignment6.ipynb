{
  "nbformat": 4,
  "nbformat_minor": 0,
  "metadata": {
    "colab": {
      "name": "Computer Graphics Assignment #6: Supplementary.ipynb",
      "provenance": []
    },
    "kernelspec": {
      "name": "python3",
      "display_name": "Python 3"
    },
    "language_info": {
      "name": "python"
    }
  },
  "cells": [
    {
      "cell_type": "markdown",
      "source": [
        "#Computer Graphics Assignment #6: Supplementary\n",
        "This supplementary notebook is created by Chinchuthakun Worameth as a part of Computer Graphics (ART.T463) at Tokyo Institute of Technology taught in Fall semester 2021 by Prof. Saito Suguru."
      ],
      "metadata": {
        "id": "1gUyDWm0W55T"
      }
    },
    {
      "cell_type": "code",
      "execution_count": null,
      "metadata": {
        "id": "xEIzEki2xbLB"
      },
      "outputs": [],
      "source": [
        "import numpy as np\n",
        "from sympy.utilities.iterables import multiset_permutations"
      ]
    },
    {
      "cell_type": "code",
      "source": [
        "def get_coordinate(base):\n",
        "  return np.array([np.roll(base,i) for i in range(base.shape[0])])"
      ],
      "metadata": {
        "id": "GRY0IcUVxp9g"
      },
      "execution_count": null,
      "outputs": []
    },
    {
      "cell_type": "code",
      "source": [
        "def get_normal(coor, plane, order):\n",
        "    v = np.array([coor[plane[0]], coor[plane[1]], coor[plane[2]]])\n",
        "    v = v[order]\n",
        "    edge1 = v[1] - v[0]\n",
        "    edge2 = v[2] - v[1]\n",
        "    normal = np.cross(edge1,edge2)\n",
        "    unit_normal = normal / np.linalg.norm(normal)\n",
        "    return v, unit_normal"
      ],
      "metadata": {
        "id": "7-bXVCZIPHrk"
      },
      "execution_count": null,
      "outputs": []
    },
    {
      "cell_type": "code",
      "source": [
        "def get_triangles(coor):\n",
        "  #match points based on edge length to generate triangles\n",
        "  triangles = set()\n",
        "  for i in range(coor.shape[0]):\n",
        "    for j in range(coor.shape[0]):\n",
        "      for k in range(coor.shape[0]):\n",
        "        dist1 = np.linalg.norm(coor[i]-coor[j])\n",
        "        dist2 = np.linalg.norm(coor[i]-coor[k])\n",
        "        dist3 = np.linalg.norm(coor[j]-coor[k])\n",
        "        if dist1 == dist2 == dist3 == 2:\n",
        "          valid = tuple(sorted([i,j,k]))\n",
        "          if valid not in triangles: triangles.add(valid)\n",
        "  \n",
        "  #get vertex order (counter-clockwise) and normal vector for each triangle\n",
        "  correct_order = []\n",
        "  all_normal = []\n",
        "  for triangle in triangles:\n",
        "    order = [0,1,2]\n",
        "    v, unit_normal = get_normal(coor, triangle, order)\n",
        "    if np.dot(v[0], unit_normal) > 0:\n",
        "      order = [1,0,2]\n",
        "      v, unit_normal = get_normal(coor, triangle, order)\n",
        "      correct_order.append([triangle[1], triangle[0], triangle[2]])\n",
        "    else: correct_order.append([triangle[0], triangle[1], triangle[2]])\n",
        "    all_normal.append(unit_normal)\n",
        "  \n",
        "  #construct normal vector at vertices by averaging normal vectors on their respective adjacent triangles\n",
        "  num_triangle = [0]*len(coor)\n",
        "  vertex_normal = np.zeros((len(coor),3))\n",
        "  for normal, triangle in zip(all_normal, correct_order):\n",
        "    for vertex in triangle:\n",
        "      num_triangle[vertex] += 1\n",
        "      vertex_normal[vertex] += normal\n",
        "  \n",
        "  for i in range(len(coor)): vertex_normal[i] /= num_triangle[i]\n",
        "  return correct_order, vertex_normal"
      ],
      "metadata": {
        "id": "xWewaPazzv5d"
      },
      "execution_count": null,
      "outputs": []
    },
    {
      "cell_type": "code",
      "source": [
        "phi = (1 + np.sqrt(5)) / 2\n",
        "coor = np.concatenate([\n",
        "  get_coordinate(np.array([-phi,-1,0])),\n",
        "  get_coordinate(np.array([-phi,1,0])),\n",
        "  get_coordinate(np.array([phi,-1,0])),\n",
        "  get_coordinate(np.array([phi,1,0])),\n",
        "])"
      ],
      "metadata": {
        "id": "130UOLGsyuyR"
      },
      "execution_count": null,
      "outputs": []
    },
    {
      "cell_type": "code",
      "source": [
        "triangles, vertex_normal = get_triangles(coor)\n",
        "coor = np.around(coor * (0.4/2.0), 3)\n",
        "vertex_normal = np.around(vertex_normal, 3)\n",
        "\n",
        "for vertex, normal in zip(coor, vertex_normal):\n",
        "  for x in vertex: print(x, end='f, ')\n",
        "  print(\"\\t\", end=' ')\n",
        "  for x in normal: print(x, end='f, ')\n",
        "  print()"
      ],
      "metadata": {
        "colab": {
          "base_uri": "https://localhost:8080/"
        },
        "id": "Xb68yWkCb4Dh",
        "outputId": "b622b491-1608-42dd-9170-22cdf533dfc4"
      },
      "execution_count": null,
      "outputs": [
        {
          "output_type": "stream",
          "name": "stdout",
          "text": [
            "-0.324f, -0.2f, 0.0f, \t 0.676f, 0.418f, 0.0f, \n",
            "0.0f, -0.324f, -0.2f, \t 0.0f, 0.676f, 0.418f, \n",
            "-0.2f, 0.0f, -0.324f, \t 0.418f, 0.0f, 0.676f, \n",
            "-0.324f, 0.2f, 0.0f, \t 0.676f, -0.418f, 0.0f, \n",
            "0.0f, -0.324f, 0.2f, \t 0.0f, 0.676f, -0.418f, \n",
            "0.2f, 0.0f, -0.324f, \t -0.418f, 0.0f, 0.676f, \n",
            "0.324f, -0.2f, 0.0f, \t -0.676f, 0.418f, 0.0f, \n",
            "0.0f, 0.324f, -0.2f, \t 0.0f, -0.676f, 0.418f, \n",
            "-0.2f, 0.0f, 0.324f, \t 0.418f, 0.0f, -0.676f, \n",
            "0.324f, 0.2f, 0.0f, \t -0.676f, -0.418f, 0.0f, \n",
            "0.0f, 0.324f, 0.2f, \t 0.0f, -0.676f, -0.418f, \n",
            "0.2f, 0.0f, 0.324f, \t -0.418f, 0.0f, -0.676f, \n"
          ]
        }
      ]
    },
    {
      "cell_type": "code",
      "source": [
        "for triangle in triangles:\n",
        "  for x in triangle: print(x, end=', ')\n",
        "  print()"
      ],
      "metadata": {
        "colab": {
          "base_uri": "https://localhost:8080/"
        },
        "id": "Fm2JtxYRb5cI",
        "outputId": "fb200c54-de82-44be-efe1-63d2efa3a256"
      },
      "execution_count": null,
      "outputs": [
        {
          "output_type": "stream",
          "name": "stdout",
          "text": [
            "8, 3, 10, \n",
            "8, 10, 11, \n",
            "0, 1, 2, \n",
            "7, 5, 9, \n",
            "3, 2, 7, \n",
            "0, 3, 8, \n",
            "7, 9, 10, \n",
            "4, 8, 11, \n",
            "1, 0, 4, \n",
            "6, 4, 11, \n",
            "10, 9, 11, \n",
            "0, 2, 3, \n",
            "5, 6, 9, \n",
            "9, 6, 11, \n",
            "4, 0, 8, \n",
            "2, 5, 7, \n",
            "2, 1, 5, \n",
            "5, 1, 6, \n",
            "1, 4, 6, \n",
            "3, 7, 10, \n"
          ]
        }
      ]
    }
  ]
}